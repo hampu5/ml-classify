{
 "cells": [
  {
   "cell_type": "code",
   "execution_count": 1,
   "metadata": {},
   "outputs": [],
   "source": [
    "import os\n",
    "os.environ['TF_CPP_MIN_LOG_LEVEL'] = '2'\n",
    "from timeit import timeit\n",
    "from IPython.display import display\n",
    "import pandas as pd\n",
    "import numpy as np\n",
    "from sklearn.metrics import cohen_kappa_score, f1_score\n",
    "from sklearn.model_selection import cross_val_score, train_test_split\n",
    "from joblib import dump, load\n",
    "from imblearn.under_sampling import RandomUnderSampler"
   ]
  },
  {
   "cell_type": "code",
   "execution_count": 2,
   "metadata": {},
   "outputs": [
    {
     "data": {
      "text/html": [
       "<div>\n",
       "<style scoped>\n",
       "    .dataframe tbody tr th:only-of-type {\n",
       "        vertical-align: middle;\n",
       "    }\n",
       "\n",
       "    .dataframe tbody tr th {\n",
       "        vertical-align: top;\n",
       "    }\n",
       "\n",
       "    .dataframe thead th {\n",
       "        text-align: right;\n",
       "    }\n",
       "</style>\n",
       "<table border=\"1\" class=\"dataframe\">\n",
       "  <thead>\n",
       "    <tr style=\"text-align: right;\">\n",
       "      <th></th>\n",
       "      <th>dcs</th>\n",
       "      <th>dt</th>\n",
       "      <th>dt_ID</th>\n",
       "      <th>dt_data</th>\n",
       "      <th>dt_runs</th>\n",
       "      <th>name</th>\n",
       "      <th>class</th>\n",
       "      <th>dataset</th>\n",
       "      <th>type</th>\n",
       "      <th>Label</th>\n",
       "    </tr>\n",
       "  </thead>\n",
       "  <tbody>\n",
       "    <tr>\n",
       "      <th>0</th>\n",
       "      <td>0.061541</td>\n",
       "      <td>4.073523e-04</td>\n",
       "      <td>0.009999</td>\n",
       "      <td>0.382671</td>\n",
       "      <td>0.008899</td>\n",
       "      <td>correlated_signal_attack_1</td>\n",
       "      <td>attack</td>\n",
       "      <td>ROAD</td>\n",
       "      <td>none</td>\n",
       "      <td>0</td>\n",
       "    </tr>\n",
       "    <tr>\n",
       "      <th>1</th>\n",
       "      <td>0.061541</td>\n",
       "      <td>1.019955e-03</td>\n",
       "      <td>0.009999</td>\n",
       "      <td>0.382671</td>\n",
       "      <td>0.008899</td>\n",
       "      <td>correlated_signal_attack_1</td>\n",
       "      <td>attack</td>\n",
       "      <td>ROAD</td>\n",
       "      <td>none</td>\n",
       "      <td>0</td>\n",
       "    </tr>\n",
       "    <tr>\n",
       "      <th>2</th>\n",
       "      <td>0.061541</td>\n",
       "      <td>1.072884e-06</td>\n",
       "      <td>0.019998</td>\n",
       "      <td>0.382671</td>\n",
       "      <td>0.008899</td>\n",
       "      <td>correlated_signal_attack_1</td>\n",
       "      <td>attack</td>\n",
       "      <td>ROAD</td>\n",
       "      <td>none</td>\n",
       "      <td>0</td>\n",
       "    </tr>\n",
       "    <tr>\n",
       "      <th>3</th>\n",
       "      <td>0.061541</td>\n",
       "      <td>2.026558e-06</td>\n",
       "      <td>0.009999</td>\n",
       "      <td>0.382671</td>\n",
       "      <td>0.008899</td>\n",
       "      <td>correlated_signal_attack_1</td>\n",
       "      <td>attack</td>\n",
       "      <td>ROAD</td>\n",
       "      <td>none</td>\n",
       "      <td>0</td>\n",
       "    </tr>\n",
       "    <tr>\n",
       "      <th>4</th>\n",
       "      <td>0.061541</td>\n",
       "      <td>9.536743e-07</td>\n",
       "      <td>0.009998</td>\n",
       "      <td>0.382671</td>\n",
       "      <td>0.008899</td>\n",
       "      <td>correlated_signal_attack_1</td>\n",
       "      <td>attack</td>\n",
       "      <td>ROAD</td>\n",
       "      <td>none</td>\n",
       "      <td>0</td>\n",
       "    </tr>\n",
       "    <tr>\n",
       "      <th>...</th>\n",
       "      <td>...</td>\n",
       "      <td>...</td>\n",
       "      <td>...</td>\n",
       "      <td>...</td>\n",
       "      <td>...</td>\n",
       "      <td>...</td>\n",
       "      <td>...</td>\n",
       "      <td>...</td>\n",
       "      <td>...</td>\n",
       "      <td>...</td>\n",
       "    </tr>\n",
       "    <tr>\n",
       "      <th>3266459</th>\n",
       "      <td>0.000000</td>\n",
       "      <td>1.192093e-06</td>\n",
       "      <td>0.050870</td>\n",
       "      <td>0.050870</td>\n",
       "      <td>0.014857</td>\n",
       "      <td>reverse_light_on_attack_3_masquerade</td>\n",
       "      <td>attack</td>\n",
       "      <td>ROAD</td>\n",
       "      <td>none</td>\n",
       "      <td>0</td>\n",
       "    </tr>\n",
       "    <tr>\n",
       "      <th>3266460</th>\n",
       "      <td>0.000000</td>\n",
       "      <td>9.977818e-04</td>\n",
       "      <td>0.019898</td>\n",
       "      <td>0.019898</td>\n",
       "      <td>0.008704</td>\n",
       "      <td>reverse_light_on_attack_3_masquerade</td>\n",
       "      <td>attack</td>\n",
       "      <td>ROAD</td>\n",
       "      <td>none</td>\n",
       "      <td>0</td>\n",
       "    </tr>\n",
       "    <tr>\n",
       "      <th>3266461</th>\n",
       "      <td>0.000000</td>\n",
       "      <td>2.145767e-06</td>\n",
       "      <td>0.010723</td>\n",
       "      <td>0.010723</td>\n",
       "      <td>0.010723</td>\n",
       "      <td>reverse_light_on_attack_3_masquerade</td>\n",
       "      <td>attack</td>\n",
       "      <td>ROAD</td>\n",
       "      <td>none</td>\n",
       "      <td>0</td>\n",
       "    </tr>\n",
       "    <tr>\n",
       "      <th>3266462</th>\n",
       "      <td>0.109375</td>\n",
       "      <td>9.536743e-07</td>\n",
       "      <td>0.025351</td>\n",
       "      <td>0.699479</td>\n",
       "      <td>0.025351</td>\n",
       "      <td>reverse_light_on_attack_3_masquerade</td>\n",
       "      <td>attack</td>\n",
       "      <td>ROAD</td>\n",
       "      <td>none</td>\n",
       "      <td>0</td>\n",
       "    </tr>\n",
       "    <tr>\n",
       "      <th>3266463</th>\n",
       "      <td>0.000000</td>\n",
       "      <td>9.536743e-07</td>\n",
       "      <td>0.009729</td>\n",
       "      <td>0.009729</td>\n",
       "      <td>0.009729</td>\n",
       "      <td>reverse_light_on_attack_3_masquerade</td>\n",
       "      <td>attack</td>\n",
       "      <td>ROAD</td>\n",
       "      <td>none</td>\n",
       "      <td>0</td>\n",
       "    </tr>\n",
       "  </tbody>\n",
       "</table>\n",
       "<p>3266464 rows × 10 columns</p>\n",
       "</div>"
      ],
      "text/plain": [
       "              dcs            dt     dt_ID   dt_data   dt_runs  \\\n",
       "0        0.061541  4.073523e-04  0.009999  0.382671  0.008899   \n",
       "1        0.061541  1.019955e-03  0.009999  0.382671  0.008899   \n",
       "2        0.061541  1.072884e-06  0.019998  0.382671  0.008899   \n",
       "3        0.061541  2.026558e-06  0.009999  0.382671  0.008899   \n",
       "4        0.061541  9.536743e-07  0.009998  0.382671  0.008899   \n",
       "...           ...           ...       ...       ...       ...   \n",
       "3266459  0.000000  1.192093e-06  0.050870  0.050870  0.014857   \n",
       "3266460  0.000000  9.977818e-04  0.019898  0.019898  0.008704   \n",
       "3266461  0.000000  2.145767e-06  0.010723  0.010723  0.010723   \n",
       "3266462  0.109375  9.536743e-07  0.025351  0.699479  0.025351   \n",
       "3266463  0.000000  9.536743e-07  0.009729  0.009729  0.009729   \n",
       "\n",
       "                                         name   class dataset  type  Label  \n",
       "0                  correlated_signal_attack_1  attack    ROAD  none      0  \n",
       "1                  correlated_signal_attack_1  attack    ROAD  none      0  \n",
       "2                  correlated_signal_attack_1  attack    ROAD  none      0  \n",
       "3                  correlated_signal_attack_1  attack    ROAD  none      0  \n",
       "4                  correlated_signal_attack_1  attack    ROAD  none      0  \n",
       "...                                       ...     ...     ...   ...    ...  \n",
       "3266459  reverse_light_on_attack_3_masquerade  attack    ROAD  none      0  \n",
       "3266460  reverse_light_on_attack_3_masquerade  attack    ROAD  none      0  \n",
       "3266461  reverse_light_on_attack_3_masquerade  attack    ROAD  none      0  \n",
       "3266462  reverse_light_on_attack_3_masquerade  attack    ROAD  none      0  \n",
       "3266463  reverse_light_on_attack_3_masquerade  attack    ROAD  none      0  \n",
       "\n",
       "[3266464 rows x 10 columns]"
      ]
     },
     "metadata": {},
     "output_type": "display_data"
    }
   ],
   "source": [
    "from compiledataset import load_dataset, compile_dataset\n",
    "\n",
    "PATH = \"/home/hampus/miun/master_thesis/Datasets\"\n",
    "\n",
    "datasets = {}\n",
    "\n",
    "dataset: pd.DataFrame = load_dataset(PATH + \"/ORNL\", \"data_a.csv\")\n",
    "dataset[\"remarks\"] = \"No DLC available\"\n",
    "datasets[\"ROAD\"] = dataset.to_dict(\"records\")\n",
    "\n",
    "# dataset: pd.DataFrame = load_dataset(PATH + \"/Survival\", \"data.csv\")\n",
    "# dataset[\"remarks\"] = \"-\"\n",
    "# datasets[\"Survival\"] = dataset.to_dict(\"records\")\n",
    "\n",
    "# dataset: pd.DataFrame = load_dataset(PATH + \"/Hisingen\", \"data.csv\")\n",
    "# dataset[\"remarks\"] = \"-\"\n",
    "# datasets[\"Hisingen\"] = dataset.to_dict(\"records\")\n",
    "\n",
    "\n",
    "df = compile_dataset(datasets)\n",
    "df.drop(columns=[\"d0\", \"d1\", \"d2\", \"d3\", \"d4\", \"d5\", \"d6\", \"d7\", \"data\", \"data_dec\", \"ID\", \"DLC\", \"t\"], inplace=True, errors=\"ignore\")\n",
    "\n",
    "dataset = None # Release memory, as it isn't used for now\n",
    "datasets = None\n",
    "\n",
    "display(df)"
   ]
  },
  {
   "cell_type": "code",
   "execution_count": 3,
   "metadata": {},
   "outputs": [],
   "source": [
    "df = df.loc[df[\"type\"] != \"masq\"]\n",
    "# df = df.loc[(df[\"type\"] == \"fuzz\") | (df[\"type\"] == \"none\")]"
   ]
  },
  {
   "cell_type": "code",
   "execution_count": 4,
   "metadata": {},
   "outputs": [
    {
     "name": "stdout",
     "output_type": "stream",
     "text": [
      "0.038454200279409 0.05707752562405587\n",
      "nan nan\n",
      "nan nan\n",
      "nan nan\n"
     ]
    }
   ],
   "source": [
    "col = \"dcs\"\n",
    "v_r         = df.loc[(df[\"Label\"] == 0) & (df[\"dataset\"] == \"ROAD\"), col]\n",
    "v_sonata    = df.loc[(df[\"Label\"] == 0) & (df[\"dataset\"] == \"Survival\") & (df[\"class\"] == \"Sonata\"), col]\n",
    "v_soul      = df.loc[(df[\"Label\"] == 0) & (df[\"dataset\"] == \"Survival\") & (df[\"class\"] == \"Soul\"), col]\n",
    "v_spark     = df.loc[(df[\"Label\"] == 0) & (df[\"dataset\"] == \"Survival\") & (df[\"class\"] == \"Spark\"), col]\n",
    "\n",
    "print(v_r.mean(), v_r.std())\n",
    "print(v_sonata.mean(), v_sonata.std())\n",
    "print(v_soul.mean(), v_soul.std())\n",
    "print(v_spark.mean(), v_spark.std())"
   ]
  },
  {
   "cell_type": "code",
   "execution_count": 5,
   "metadata": {},
   "outputs": [
    {
     "data": {
      "image/png": "[encoded data removed]",
      "text/plain": [
       "<Figure size 600x400 with 2 Axes>"
      ]
     },
     "metadata": {
      "needs_background": "light"
     },
     "output_type": "display_data"
    }
   ],
   "source": [
    "from plot_tools import plot_correlation_matrix\n",
    "\n",
    "plot_correlation_matrix(df.drop(columns=[\"dataset\", \"type\", \"name\", \"class\" \"ID\", \"DLC\", \"t\"], errors=\"ignore\"))"
   ]
  },
  {
   "cell_type": "code",
   "execution_count": 6,
   "metadata": {},
   "outputs": [
    {
     "data": {
      "text/html": [
       "<div>\n",
       "<style scoped>\n",
       "    .dataframe tbody tr th:only-of-type {\n",
       "        vertical-align: middle;\n",
       "    }\n",
       "\n",
       "    .dataframe tbody tr th {\n",
       "        vertical-align: top;\n",
       "    }\n",
       "\n",
       "    .dataframe thead th {\n",
       "        text-align: right;\n",
       "    }\n",
       "</style>\n",
       "<table border=\"1\" class=\"dataframe\">\n",
       "  <thead>\n",
       "    <tr style=\"text-align: right;\">\n",
       "      <th></th>\n",
       "      <th>dcs</th>\n",
       "      <th>dt</th>\n",
       "      <th>dt_ID</th>\n",
       "      <th>dt_data</th>\n",
       "      <th>dt_runs</th>\n",
       "      <th>name</th>\n",
       "      <th>class</th>\n",
       "      <th>dataset</th>\n",
       "      <th>type</th>\n",
       "      <th>Label</th>\n",
       "    </tr>\n",
       "  </thead>\n",
       "  <tbody>\n",
       "    <tr>\n",
       "      <th>0</th>\n",
       "      <td>0.734662</td>\n",
       "      <td>0.405378</td>\n",
       "      <td>-0.907152</td>\n",
       "      <td>0.940915</td>\n",
       "      <td>0.472387</td>\n",
       "      <td>correlated_signal_attack_1</td>\n",
       "      <td>attack</td>\n",
       "      <td>ROAD</td>\n",
       "      <td>none</td>\n",
       "      <td>0</td>\n",
       "    </tr>\n",
       "    <tr>\n",
       "      <th>1</th>\n",
       "      <td>0.734662</td>\n",
       "      <td>1.017878</td>\n",
       "      <td>-0.907180</td>\n",
       "      <td>0.940915</td>\n",
       "      <td>0.472387</td>\n",
       "      <td>correlated_signal_attack_1</td>\n",
       "      <td>attack</td>\n",
       "      <td>ROAD</td>\n",
       "      <td>none</td>\n",
       "      <td>0</td>\n",
       "    </tr>\n",
       "    <tr>\n",
       "      <th>2</th>\n",
       "      <td>0.734662</td>\n",
       "      <td>-0.000834</td>\n",
       "      <td>0.012653</td>\n",
       "      <td>0.940915</td>\n",
       "      <td>0.472387</td>\n",
       "      <td>correlated_signal_attack_1</td>\n",
       "      <td>attack</td>\n",
       "      <td>ROAD</td>\n",
       "      <td>none</td>\n",
       "      <td>0</td>\n",
       "    </tr>\n",
       "    <tr>\n",
       "      <th>3</th>\n",
       "      <td>0.734662</td>\n",
       "      <td>0.000119</td>\n",
       "      <td>-0.907153</td>\n",
       "      <td>0.940915</td>\n",
       "      <td>0.472387</td>\n",
       "      <td>correlated_signal_attack_1</td>\n",
       "      <td>attack</td>\n",
       "      <td>ROAD</td>\n",
       "      <td>none</td>\n",
       "      <td>0</td>\n",
       "    </tr>\n",
       "    <tr>\n",
       "      <th>4</th>\n",
       "      <td>0.734662</td>\n",
       "      <td>-0.000954</td>\n",
       "      <td>-0.907209</td>\n",
       "      <td>0.940915</td>\n",
       "      <td>0.472387</td>\n",
       "      <td>correlated_signal_attack_1</td>\n",
       "      <td>attack</td>\n",
       "      <td>ROAD</td>\n",
       "      <td>none</td>\n",
       "      <td>0</td>\n",
       "    </tr>\n",
       "    <tr>\n",
       "      <th>...</th>\n",
       "      <td>...</td>\n",
       "      <td>...</td>\n",
       "      <td>...</td>\n",
       "      <td>...</td>\n",
       "      <td>...</td>\n",
       "      <td>...</td>\n",
       "      <td>...</td>\n",
       "      <td>...</td>\n",
       "      <td>...</td>\n",
       "      <td>...</td>\n",
       "    </tr>\n",
       "    <tr>\n",
       "      <th>3266459</th>\n",
       "      <td>-0.250000</td>\n",
       "      <td>-0.000715</td>\n",
       "      <td>2.852762</td>\n",
       "      <td>-0.163849</td>\n",
       "      <td>1.209995</td>\n",
       "      <td>reverse_light_on_attack_3_masquerade</td>\n",
       "      <td>attack</td>\n",
       "      <td>ROAD</td>\n",
       "      <td>none</td>\n",
       "      <td>0</td>\n",
       "    </tr>\n",
       "    <tr>\n",
       "      <th>3266460</th>\n",
       "      <td>-0.250000</td>\n",
       "      <td>0.995709</td>\n",
       "      <td>0.003487</td>\n",
       "      <td>-0.266974</td>\n",
       "      <td>0.448180</td>\n",
       "      <td>reverse_light_on_attack_3_masquerade</td>\n",
       "      <td>attack</td>\n",
       "      <td>ROAD</td>\n",
       "      <td>none</td>\n",
       "      <td>0</td>\n",
       "    </tr>\n",
       "    <tr>\n",
       "      <th>3266461</th>\n",
       "      <td>-0.250000</td>\n",
       "      <td>0.000238</td>\n",
       "      <td>-0.840546</td>\n",
       "      <td>-0.297523</td>\n",
       "      <td>0.698173</td>\n",
       "      <td>reverse_light_on_attack_3_masquerade</td>\n",
       "      <td>attack</td>\n",
       "      <td>ROAD</td>\n",
       "      <td>none</td>\n",
       "      <td>0</td>\n",
       "    </tr>\n",
       "    <tr>\n",
       "      <th>3266462</th>\n",
       "      <td>1.500000</td>\n",
       "      <td>-0.000954</td>\n",
       "      <td>0.505143</td>\n",
       "      <td>1.995759</td>\n",
       "      <td>2.509254</td>\n",
       "      <td>reverse_light_on_attack_3_masquerade</td>\n",
       "      <td>attack</td>\n",
       "      <td>ROAD</td>\n",
       "      <td>none</td>\n",
       "      <td>0</td>\n",
       "    </tr>\n",
       "    <tr>\n",
       "      <th>3266463</th>\n",
       "      <td>-0.250000</td>\n",
       "      <td>-0.000954</td>\n",
       "      <td>-0.932007</td>\n",
       "      <td>-0.300833</td>\n",
       "      <td>0.575080</td>\n",
       "      <td>reverse_light_on_attack_3_masquerade</td>\n",
       "      <td>attack</td>\n",
       "      <td>ROAD</td>\n",
       "      <td>none</td>\n",
       "      <td>0</td>\n",
       "    </tr>\n",
       "  </tbody>\n",
       "</table>\n",
       "<p>3235720 rows × 10 columns</p>\n",
       "</div>"
      ],
      "text/plain": [
       "              dcs        dt     dt_ID   dt_data   dt_runs  \\\n",
       "0        0.734662  0.405378 -0.907152  0.940915  0.472387   \n",
       "1        0.734662  1.017878 -0.907180  0.940915  0.472387   \n",
       "2        0.734662 -0.000834  0.012653  0.940915  0.472387   \n",
       "3        0.734662  0.000119 -0.907153  0.940915  0.472387   \n",
       "4        0.734662 -0.000954 -0.907209  0.940915  0.472387   \n",
       "...           ...       ...       ...       ...       ...   \n",
       "3266459 -0.250000 -0.000715  2.852762 -0.163849  1.209995   \n",
       "3266460 -0.250000  0.995709  0.003487 -0.266974  0.448180   \n",
       "3266461 -0.250000  0.000238 -0.840546 -0.297523  0.698173   \n",
       "3266462  1.500000 -0.000954  0.505143  1.995759  2.509254   \n",
       "3266463 -0.250000 -0.000954 -0.932007 -0.300833  0.575080   \n",
       "\n",
       "                                         name   class dataset  type  Label  \n",
       "0                  correlated_signal_attack_1  attack    ROAD  none      0  \n",
       "1                  correlated_signal_attack_1  attack    ROAD  none      0  \n",
       "2                  correlated_signal_attack_1  attack    ROAD  none      0  \n",
       "3                  correlated_signal_attack_1  attack    ROAD  none      0  \n",
       "4                  correlated_signal_attack_1  attack    ROAD  none      0  \n",
       "...                                       ...     ...     ...   ...    ...  \n",
       "3266459  reverse_light_on_attack_3_masquerade  attack    ROAD  none      0  \n",
       "3266460  reverse_light_on_attack_3_masquerade  attack    ROAD  none      0  \n",
       "3266461  reverse_light_on_attack_3_masquerade  attack    ROAD  none      0  \n",
       "3266462  reverse_light_on_attack_3_masquerade  attack    ROAD  none      0  \n",
       "3266463  reverse_light_on_attack_3_masquerade  attack    ROAD  none      0  \n",
       "\n",
       "[3235720 rows x 10 columns]"
      ]
     },
     "metadata": {},
     "output_type": "display_data"
    }
   ],
   "source": [
    "from sklearn.preprocessing import StandardScaler, RobustScaler\n",
    "\n",
    "# for cl in [\"unknown\", \"Sonata\", \"Soul\", \"Spark\"]:\n",
    "#     for col in [\"dt\", \"dt_ID\", \"dt_ID_data\", \"dcs\"]:\n",
    "#         scaler = StandardScaler().fit(df.loc[(df[\"Label\"] == 0) & (df[\"class\"] == cl), df.columns == col])\n",
    "#         df.loc[df[\"class\"] == cl, col] = scaler.transform(df.loc[df[\"class\"] == cl, df.columns == col])\n",
    "\n",
    "for col in [\"dt\", \"dt_ID\", \"dt_data\", \"dt_runs\", \"dcs\"]:\n",
    "    scaler = RobustScaler().fit(df.loc[df[\"Label\"] == 0, df.columns == col])\n",
    "    df.loc[:, df.columns ==col] = scaler.transform(df.loc[:, df.columns == col])\n",
    "\n",
    "display(df)"
   ]
  },
  {
   "cell_type": "code",
   "execution_count": 7,
   "metadata": {},
   "outputs": [],
   "source": [
    "# Stratify on the sub-dataset\n",
    "X_train = df.drop(columns=\"Label\")\n",
    "y_train = df[\"Label\"]\n",
    "\n",
    "df = None # Release memory\n",
    "\n",
    "# Split dataset into training and test data, stratify by the type of attack\n",
    "X_train, X_test, y_train, y_test = train_test_split(X_train, y_train, test_size=0.3, random_state=0, shuffle=True, stratify=X_train[\"name\"])"
   ]
  },
  {
   "cell_type": "code",
   "execution_count": 8,
   "metadata": {},
   "outputs": [
    {
     "name": "stdout",
     "output_type": "stream",
     "text": [
      "Labels\t\tTraining\tTesting\n",
      "Normal\t\t22276\t\t9527\n",
      "Attack\t\t22276\t\t9527\n"
     ]
    }
   ],
   "source": [
    "rus = RandomUnderSampler(random_state=0)\n",
    "X_train, y_train = rus.fit_resample(X_train, y_train)\n",
    "X_test, y_test = rus.fit_resample(X_test, y_test)\n",
    "bintr = np.bincount(y_train)\n",
    "binte = np.bincount(y_test)\n",
    "print(f\"Labels\\t\\tTraining\\tTesting\\nNormal\\t\\t{bintr[0]}\\t\\t{binte[0]}\\nAttack\\t\\t{bintr[1]}\\t\\t{binte[1]}\")"
   ]
  },
  {
   "cell_type": "code",
   "execution_count": 9,
   "metadata": {},
   "outputs": [],
   "source": [
    "# train_index = X_train.loc[X_train[\"dataset\"] == \"Survival\"].index\n",
    "# test_index = X_test.loc[X_test[\"dataset\"] == \"ROAD\"].index\n",
    "# train_index = X_train.loc[(X_train[\"dataset\"] == \"Survival\") & (X_train[\"name\"] == \"Fuzzy_dataset_SONATA\")].index\n",
    "# test_index = X_test.loc[(X_test[\"dataset\"] == \"ROAD\") & (X_test[\"name\"] == \"fuzzing_attack_1\")].index\n",
    "\n",
    "# X_train = X_train.loc[train_index]\n",
    "# y_train = y_train.loc[train_index]\n",
    "\n",
    "# X_test = X_test.loc[test_index]\n",
    "# y_test = y_test.loc[test_index]"
   ]
  },
  {
   "cell_type": "code",
   "execution_count": 10,
   "metadata": {},
   "outputs": [],
   "source": [
    "name_train = X_train[\"name\"]\n",
    "name_test = X_test[\"name\"]\n",
    "X_train.drop(columns=[\"type\", \"dataset\", \"name\", \"class\"], inplace=True)\n",
    "X_test.drop(columns=[\"type\", \"dataset\", \"name\", \"class\"], inplace=True)"
   ]
  },
  {
   "cell_type": "code",
   "execution_count": 11,
   "metadata": {},
   "outputs": [
    {
     "data": {
      "text/plain": [
       "RandomForestClassifier(max_features='log2', max_leaf_nodes=300, n_estimators=20,\n",
       "                       random_state=0, warm_start=True)"
      ]
     },
     "execution_count": 11,
     "metadata": {},
     "output_type": "execute_result"
    }
   ],
   "source": [
    "from sklearn.ensemble import RandomForestClassifier\n",
    "\n",
    "clf = RandomForestClassifier(n_estimators=20, random_state=0, max_leaf_nodes=300, max_features=\"log2\", warm_start=True)\n",
    "clf.fit(X_train, y_train)"
   ]
  },
  {
   "cell_type": "code",
   "execution_count": 12,
   "metadata": {},
   "outputs": [
    {
     "name": "stdout",
     "output_type": "stream",
     "text": [
      "Training F1: 0.9995 (+/- 0.0004)\n",
      "Testing F1:  0.9995(+/- 0.0000)\n",
      "Kappa score:  0.9991(+/- 0.0000)\n"
     ]
    }
   ],
   "source": [
    "scores = cross_val_score(clf, X_train, y_train, scoring='f1', cv=10, n_jobs=-1)\n",
    "print(\"Training F1: %0.4f (+/- %0.4f)\" % (scores.mean(), scores.std()))\n",
    "\n",
    "pred = clf.predict(X_test)\n",
    "\n",
    "f1_scores = f1_score(y_test, pred, average='weighted')\n",
    "print(\"Testing F1:  %0.4f(+/- %0.4f)\" % (f1_scores.mean(), f1_scores.std()))\n",
    "\n",
    "kappa_scores = cohen_kappa_score(y_test, pred)\n",
    "print(\"Kappa score:  %0.4f(+/- %0.4f)\" % (kappa_scores.mean(), kappa_scores.std()))"
   ]
  },
  {
   "cell_type": "markdown",
   "metadata": {},
   "source": [
    "Plot test data predictions"
   ]
  },
  {
   "cell_type": "code",
   "execution_count": 13,
   "metadata": {},
   "outputs": [
    {
     "data": {
      "image/png": "[encoded data removed]",
      "text/plain": [
       "<Figure size 600x400 with 2 Axes>"
      ]
     },
     "metadata": {
      "needs_background": "light"
     },
     "output_type": "display_data"
    }
   ],
   "source": [
    "from plot_tools import plot_confusion_matrix\n",
    "\n",
    "plot_confusion_matrix(y_test, pred, \"Survival, All Attacks, RF\\nrate\\n(# of instances)\")"
   ]
  },
  {
   "cell_type": "markdown",
   "metadata": {},
   "source": [
    "Plot train data predictions"
   ]
  },
  {
   "cell_type": "code",
   "execution_count": 14,
   "metadata": {},
   "outputs": [],
   "source": [
    "# pred_train = clf.predict(X_train)\n",
    "\n",
    "# plot_confusion_matrix(y_train, pred_train, \"Survival, All Attacks, RF\\nrate\\n(# of instances)\")"
   ]
  },
  {
   "cell_type": "markdown",
   "metadata": {},
   "source": [
    "Add trees trained on the FPs and FNs"
   ]
  },
  {
   "cell_type": "code",
   "execution_count": 15,
   "metadata": {},
   "outputs": [],
   "source": [
    "# clf.set_params(n_estimators=30) # Add another 20 trees for the FN and FPs\n",
    "# clf.fit(X_train.loc[y_train != pred_train], y_train.loc[y_train != pred_train])"
   ]
  },
  {
   "cell_type": "markdown",
   "metadata": {},
   "source": [
    "Plot test data predictions again"
   ]
  },
  {
   "cell_type": "code",
   "execution_count": 16,
   "metadata": {},
   "outputs": [],
   "source": [
    "# pred_test = clf.predict(X_test)\n",
    "\n",
    "# plot_confusion_matrix(y_test, pred_test, \"Survival, All Attacks, RF\\nrate\\n(# of instances)\")"
   ]
  },
  {
   "cell_type": "code",
   "execution_count": 21,
   "metadata": {},
   "outputs": [
    {
     "data": {
      "image/png": "[encoded data removed]",
      "text/plain": [
       "<Figure size 576x252 with 2 Axes>"
      ]
     },
     "metadata": {
      "needs_background": "light"
     },
     "output_type": "display_data"
    }
   ],
   "source": [
    "import shap\n",
    "from shap_tools import *\n",
    "\n",
    "\n",
    "exp = shap.TreeExplainer(clf)\n",
    "\n",
    "# # Make sure that the ingested SHAP model (a TreeEnsemble object) makes the\n",
    "# # same predictions as the original model\n",
    "# assert np.abs(exp.model.predict(X_test_sample) - clf.predict_proba(X_test_sample)).max() < 1e-4\n",
    "\n",
    "# # Make sure the SHAP values sum up to the model output (this is the local accuracy property)\n",
    "# assert np.abs(exp.expected_value + exp.shap_values(X_test_sample).sum(1) - clf.predict_proba(X_test_sample)).max() < 1e-4\n",
    "\n",
    "\n",
    "# print(len(X_train.loc[y_train != pred]))\n",
    "# print(len(X_train.loc[y_train == pred]))\n",
    "# shap_false = get_explanation(exp, X_train.loc[y_train != pred])\n",
    "# shap_FP = get_explanation(exp, X_train.loc[(y_train != pred) & (pred == 1)])\n",
    "# shap_FN = get_explanation(exp, X_train.loc[(y_train != pred) & (pred == 0)])\n",
    "# shap_true = get_explanation(exp, X_train.loc[y_train == pred])\n",
    "# shap_TP = get_explanation(exp, X_train.loc[(y_train == pred) & (pred == 1)])\n",
    "# shap_TN = get_explanation(exp, X_train.loc[(y_train == pred) & (pred == 0)])\n",
    "\n",
    "# shap_TP_fuzz = get_explanation(exp, X_test.loc[(y_train == pred) & (pred == 1) & (name_test == \"Fuzzy_dataset_SONATA\")])\n",
    "\n",
    "shap_all = get_explanation(exp, X_train)\n",
    "\n",
    "plot_beeswarm(shap_all)\n",
    "\n",
    "# plot_beeswarm(shap_all)\n",
    "# shap.plots.waterfall(shap_TP_fuzz[0])\n",
    "\n",
    "# shap_values = explainer(X_test.sample(1000, random_state=0))\n",
    "# shap_values = shap.Explanation(shap_values[:, :, 1], feature_names=X_test.columns)\n",
    "\n",
    "# shap.summary_plot(shap_values)\n",
    "\n",
    "\n",
    "# shap.waterfall_plot(shap.Explanation(values=shap_values[int(\"which_class\")][row], \n",
    "#                                          base_values=explainer.expected_value[int(which_class)], \n",
    "#                                          data=X_test.iloc[row],  # added this line\n",
    "#                                          feature_names=X_test.columns.tolist()))\n",
    "# shap.force_plot(explainer.expected_value[1], shap_values[1], features=X_test[:1], feature_names=X_test.columns)\n",
    "\n",
    "# shap.plots.scatter(shap_values[:,\"ones_w\"])\n",
    "# shap.summary_plot(shap_values[1], X_test.columns)\n",
    "\n",
    "# plt.show()"
   ]
  }
 ],
 "metadata": {
  "interpreter": {
   "hash": "4cc1c01a394bbc3d069051c289161a3236732c38d026dbad3d7b5639e0cadb70"
  },
  "kernelspec": {
   "display_name": "Python 3.8.10 ('ml-classify-pJEs0r8S-py3.8')",
   "language": "python",
   "name": "python3"
  },
  "language_info": {
   "codemirror_mode": {
    "name": "ipython",
    "version": 3
   },
   "file_extension": ".py",
   "mimetype": "text/x-python",
   "name": "python",
   "nbconvert_exporter": "python",
   "pygments_lexer": "ipython3",
   "version": "3.8.10"
  },
  "orig_nbformat": 4
 },
 "nbformat": 4,
 "nbformat_minor": 2
}
