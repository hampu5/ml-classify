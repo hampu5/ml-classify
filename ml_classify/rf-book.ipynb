{
 "cells": [
  {
   "cell_type": "code",
   "execution_count": 17,
   "metadata": {},
   "outputs": [],
   "source": [
    "import os\n",
    "os.environ['TF_CPP_MIN_LOG_LEVEL'] = '2'\n",
    "from timeit import timeit\n",
    "from IPython.display import display\n",
    "import pandas as pd\n",
    "import numpy as np\n",
    "from sklearn.metrics import cohen_kappa_score, f1_score\n",
    "from sklearn.model_selection import cross_val_score, train_test_split\n",
    "from joblib import dump, load\n",
    "from imblearn.under_sampling import RandomUnderSampler"
   ]
  },
  {
   "cell_type": "code",
   "execution_count": 18,
   "metadata": {},
   "outputs": [
    {
     "data": {
      "text/html": [
       "<div>\n",
       "<style scoped>\n",
       "    .dataframe tbody tr th:only-of-type {\n",
       "        vertical-align: middle;\n",
       "    }\n",
       "\n",
       "    .dataframe tbody tr th {\n",
       "        vertical-align: top;\n",
       "    }\n",
       "\n",
       "    .dataframe thead th {\n",
       "        text-align: right;\n",
       "    }\n",
       "</style>\n",
       "<table border=\"1\" class=\"dataframe\">\n",
       "  <thead>\n",
       "    <tr style=\"text-align: right;\">\n",
       "      <th></th>\n",
       "      <th>dt</th>\n",
       "      <th>dt_ID</th>\n",
       "      <th>dt_ID_data</th>\n",
       "      <th>dcs</th>\n",
       "      <th>name</th>\n",
       "      <th>class</th>\n",
       "      <th>dataset</th>\n",
       "      <th>type</th>\n",
       "      <th>Label</th>\n",
       "    </tr>\n",
       "  </thead>\n",
       "  <tbody>\n",
       "    <tr>\n",
       "      <th>0</th>\n",
       "      <td>0.000444</td>\n",
       "      <td>0.009978</td>\n",
       "      <td>2.164212</td>\n",
       "      <td>0.107189</td>\n",
       "      <td>Fuzzy_dataset_SONATA</td>\n",
       "      <td>Sonata</td>\n",
       "      <td>Survival</td>\n",
       "      <td>none</td>\n",
       "      <td>0</td>\n",
       "    </tr>\n",
       "    <tr>\n",
       "      <th>1</th>\n",
       "      <td>0.000232</td>\n",
       "      <td>0.009977</td>\n",
       "      <td>0.046017</td>\n",
       "      <td>0.107189</td>\n",
       "      <td>Fuzzy_dataset_SONATA</td>\n",
       "      <td>Sonata</td>\n",
       "      <td>Survival</td>\n",
       "      <td>none</td>\n",
       "      <td>0</td>\n",
       "    </tr>\n",
       "    <tr>\n",
       "      <th>2</th>\n",
       "      <td>0.000248</td>\n",
       "      <td>0.009981</td>\n",
       "      <td>0.009991</td>\n",
       "      <td>0.107189</td>\n",
       "      <td>Fuzzy_dataset_SONATA</td>\n",
       "      <td>Sonata</td>\n",
       "      <td>Survival</td>\n",
       "      <td>none</td>\n",
       "      <td>0</td>\n",
       "    </tr>\n",
       "    <tr>\n",
       "      <th>3</th>\n",
       "      <td>0.000234</td>\n",
       "      <td>0.009978</td>\n",
       "      <td>0.046976</td>\n",
       "      <td>0.107189</td>\n",
       "      <td>Fuzzy_dataset_SONATA</td>\n",
       "      <td>Sonata</td>\n",
       "      <td>Survival</td>\n",
       "      <td>none</td>\n",
       "      <td>0</td>\n",
       "    </tr>\n",
       "    <tr>\n",
       "      <th>4</th>\n",
       "      <td>0.000241</td>\n",
       "      <td>0.009978</td>\n",
       "      <td>0.229608</td>\n",
       "      <td>0.107189</td>\n",
       "      <td>Fuzzy_dataset_SONATA</td>\n",
       "      <td>Sonata</td>\n",
       "      <td>Survival</td>\n",
       "      <td>none</td>\n",
       "      <td>0</td>\n",
       "    </tr>\n",
       "    <tr>\n",
       "      <th>...</th>\n",
       "      <td>...</td>\n",
       "      <td>...</td>\n",
       "      <td>...</td>\n",
       "      <td>...</td>\n",
       "      <td>...</td>\n",
       "      <td>...</td>\n",
       "      <td>...</td>\n",
       "      <td>...</td>\n",
       "      <td>...</td>\n",
       "    </tr>\n",
       "    <tr>\n",
       "      <th>1735835</th>\n",
       "      <td>0.000248</td>\n",
       "      <td>0.020620</td>\n",
       "      <td>0.020620</td>\n",
       "      <td>0.000000</td>\n",
       "      <td>FreeDrivingData_20171231_Spark</td>\n",
       "      <td>Spark</td>\n",
       "      <td>Survival</td>\n",
       "      <td>none</td>\n",
       "      <td>0</td>\n",
       "    </tr>\n",
       "    <tr>\n",
       "      <th>1735836</th>\n",
       "      <td>0.000235</td>\n",
       "      <td>0.013305</td>\n",
       "      <td>0.013305</td>\n",
       "      <td>0.000000</td>\n",
       "      <td>FreeDrivingData_20171231_Spark</td>\n",
       "      <td>Spark</td>\n",
       "      <td>Survival</td>\n",
       "      <td>none</td>\n",
       "      <td>0</td>\n",
       "    </tr>\n",
       "    <tr>\n",
       "      <th>1735837</th>\n",
       "      <td>0.000242</td>\n",
       "      <td>0.013092</td>\n",
       "      <td>0.013092</td>\n",
       "      <td>0.000000</td>\n",
       "      <td>FreeDrivingData_20171231_Spark</td>\n",
       "      <td>Spark</td>\n",
       "      <td>Survival</td>\n",
       "      <td>none</td>\n",
       "      <td>0</td>\n",
       "    </tr>\n",
       "    <tr>\n",
       "      <th>1735838</th>\n",
       "      <td>0.000435</td>\n",
       "      <td>0.012329</td>\n",
       "      <td>0.012329</td>\n",
       "      <td>0.000000</td>\n",
       "      <td>FreeDrivingData_20171231_Spark</td>\n",
       "      <td>Spark</td>\n",
       "      <td>Survival</td>\n",
       "      <td>none</td>\n",
       "      <td>0</td>\n",
       "    </tr>\n",
       "    <tr>\n",
       "      <th>1735839</th>\n",
       "      <td>0.000230</td>\n",
       "      <td>0.012098</td>\n",
       "      <td>0.012098</td>\n",
       "      <td>0.000000</td>\n",
       "      <td>FreeDrivingData_20171231_Spark</td>\n",
       "      <td>Spark</td>\n",
       "      <td>Survival</td>\n",
       "      <td>none</td>\n",
       "      <td>0</td>\n",
       "    </tr>\n",
       "  </tbody>\n",
       "</table>\n",
       "<p>1735840 rows × 9 columns</p>\n",
       "</div>"
      ],
      "text/plain": [
       "               dt     dt_ID  dt_ID_data       dcs  \\\n",
       "0        0.000444  0.009978    2.164212  0.107189   \n",
       "1        0.000232  0.009977    0.046017  0.107189   \n",
       "2        0.000248  0.009981    0.009991  0.107189   \n",
       "3        0.000234  0.009978    0.046976  0.107189   \n",
       "4        0.000241  0.009978    0.229608  0.107189   \n",
       "...           ...       ...         ...       ...   \n",
       "1735835  0.000248  0.020620    0.020620  0.000000   \n",
       "1735836  0.000235  0.013305    0.013305  0.000000   \n",
       "1735837  0.000242  0.013092    0.013092  0.000000   \n",
       "1735838  0.000435  0.012329    0.012329  0.000000   \n",
       "1735839  0.000230  0.012098    0.012098  0.000000   \n",
       "\n",
       "                                   name   class   dataset  type  Label  \n",
       "0                  Fuzzy_dataset_SONATA  Sonata  Survival  none      0  \n",
       "1                  Fuzzy_dataset_SONATA  Sonata  Survival  none      0  \n",
       "2                  Fuzzy_dataset_SONATA  Sonata  Survival  none      0  \n",
       "3                  Fuzzy_dataset_SONATA  Sonata  Survival  none      0  \n",
       "4                  Fuzzy_dataset_SONATA  Sonata  Survival  none      0  \n",
       "...                                 ...     ...       ...   ...    ...  \n",
       "1735835  FreeDrivingData_20171231_Spark   Spark  Survival  none      0  \n",
       "1735836  FreeDrivingData_20171231_Spark   Spark  Survival  none      0  \n",
       "1735837  FreeDrivingData_20171231_Spark   Spark  Survival  none      0  \n",
       "1735838  FreeDrivingData_20171231_Spark   Spark  Survival  none      0  \n",
       "1735839  FreeDrivingData_20171231_Spark   Spark  Survival  none      0  \n",
       "\n",
       "[1735840 rows x 9 columns]"
      ]
     },
     "metadata": {},
     "output_type": "display_data"
    }
   ],
   "source": [
    "from compiledataset import load_dataset, compile_dataset\n",
    "\n",
    "PATH = \"/home/hampus/miun/master_thesis/Datasets\"\n",
    "\n",
    "datasets = {}\n",
    "\n",
    "# dataset: pd.DataFrame = load_dataset(PATH + \"/ORNL\", \"data_a.csv\")\n",
    "# dataset[\"remarks\"] = \"No DLC available\"\n",
    "# datasets[\"ROAD\"] = dataset.to_dict(\"records\")\n",
    "\n",
    "dataset: pd.DataFrame = load_dataset(PATH + \"/Survival\", \"data.csv\")\n",
    "dataset[\"remarks\"] = \"-\"\n",
    "datasets[\"Survival\"] = dataset.to_dict(\"records\")\n",
    "\n",
    "# dataset: pd.DataFrame = load_dataset(PATH + \"/Hisingen\", \"data.csv\")\n",
    "# dataset[\"remarks\"] = \"-\"\n",
    "# datasets[\"Hisingen\"] = dataset.to_dict(\"records\")\n",
    "\n",
    "\n",
    "df = compile_dataset(datasets)\n",
    "df.drop(columns=[\"d0\", \"d1\", \"d2\", \"d3\", \"d4\", \"d5\", \"d6\", \"d7\", \"data\", \"ID\", \"DLC\", \"t\"], inplace=True, errors=\"ignore\")\n",
    "\n",
    "dataset = None # Release memory, as it isn't used for now\n",
    "datasets = None\n",
    "\n",
    "display(df)"
   ]
  },
  {
   "cell_type": "code",
   "execution_count": 19,
   "metadata": {},
   "outputs": [],
   "source": [
    "df = df.loc[df[\"type\"] != \"masq\"]\n",
    "# df = df.loc[(df[\"type\"] == \"fuzz\") | (df[\"type\"] == \"none\")]"
   ]
  },
  {
   "cell_type": "code",
   "execution_count": 20,
   "metadata": {},
   "outputs": [
    {
     "name": "stdout",
     "output_type": "stream",
     "text": [
      "nan nan\n",
      "0.05594475491848506 0.08113177650718542\n",
      "0.04803955737176265 0.05810224188552427\n",
      "0.05336719738026015 0.08063728643324816\n"
     ]
    }
   ],
   "source": [
    "col = \"dcs\"\n",
    "v_r         = df.loc[(df[\"Label\"] == 0) & (df[\"dataset\"] == \"ROAD\"), col]\n",
    "v_sonata    = df.loc[(df[\"Label\"] == 0) & (df[\"dataset\"] == \"Survival\") & (df[\"class\"] == \"Sonata\"), col]\n",
    "v_soul      = df.loc[(df[\"Label\"] == 0) & (df[\"dataset\"] == \"Survival\") & (df[\"class\"] == \"Soul\"), col]\n",
    "v_spark     = df.loc[(df[\"Label\"] == 0) & (df[\"dataset\"] == \"Survival\") & (df[\"class\"] == \"Spark\"), col]\n",
    "\n",
    "print(v_r.mean(), v_r.std())\n",
    "print(v_sonata.mean(), v_sonata.std())\n",
    "print(v_soul.mean(), v_soul.std())\n",
    "print(v_spark.mean(), v_spark.std())"
   ]
  },
  {
   "cell_type": "code",
   "execution_count": 21,
   "metadata": {},
   "outputs": [
    {
     "data": {
      "image/png": "[encoded data removed]",
      "text/plain": [
       "<Figure size 600x400 with 2 Axes>"
      ]
     },
     "metadata": {
      "needs_background": "light"
     },
     "output_type": "display_data"
    }
   ],
   "source": [
    "from plot_tools import plot_correlation_matrix\n",
    "\n",
    "plot_correlation_matrix(df.drop(columns=[\"dataset\", \"type\", \"name\", \"class\" \"ID\", \"DLC\", \"t\"], errors=\"ignore\"))"
   ]
  },
  {
   "cell_type": "code",
   "execution_count": 22,
   "metadata": {},
   "outputs": [
    {
     "data": {
      "text/html": [
       "<div>\n",
       "<style scoped>\n",
       "    .dataframe tbody tr th:only-of-type {\n",
       "        vertical-align: middle;\n",
       "    }\n",
       "\n",
       "    .dataframe tbody tr th {\n",
       "        vertical-align: top;\n",
       "    }\n",
       "\n",
       "    .dataframe thead th {\n",
       "        text-align: right;\n",
       "    }\n",
       "</style>\n",
       "<table border=\"1\" class=\"dataframe\">\n",
       "  <thead>\n",
       "    <tr style=\"text-align: right;\">\n",
       "      <th></th>\n",
       "      <th>dt</th>\n",
       "      <th>dt_ID</th>\n",
       "      <th>dt_ID_data</th>\n",
       "      <th>dcs</th>\n",
       "      <th>name</th>\n",
       "      <th>class</th>\n",
       "      <th>dataset</th>\n",
       "      <th>type</th>\n",
       "      <th>Label</th>\n",
       "    </tr>\n",
       "  </thead>\n",
       "  <tbody>\n",
       "    <tr>\n",
       "      <th>0</th>\n",
       "      <td>0.019201</td>\n",
       "      <td>-0.183233</td>\n",
       "      <td>0.041094</td>\n",
       "      <td>0.777710</td>\n",
       "      <td>Fuzzy_dataset_SONATA</td>\n",
       "      <td>Sonata</td>\n",
       "      <td>Survival</td>\n",
       "      <td>none</td>\n",
       "      <td>0</td>\n",
       "    </tr>\n",
       "    <tr>\n",
       "      <th>1</th>\n",
       "      <td>-0.324644</td>\n",
       "      <td>-0.183257</td>\n",
       "      <td>-0.350857</td>\n",
       "      <td>0.777710</td>\n",
       "      <td>Fuzzy_dataset_SONATA</td>\n",
       "      <td>Sonata</td>\n",
       "      <td>Survival</td>\n",
       "      <td>none</td>\n",
       "      <td>0</td>\n",
       "    </tr>\n",
       "    <tr>\n",
       "      <th>2</th>\n",
       "      <td>-0.298719</td>\n",
       "      <td>-0.183193</td>\n",
       "      <td>-0.357523</td>\n",
       "      <td>0.777710</td>\n",
       "      <td>Fuzzy_dataset_SONATA</td>\n",
       "      <td>Sonata</td>\n",
       "      <td>Survival</td>\n",
       "      <td>none</td>\n",
       "      <td>0</td>\n",
       "    </tr>\n",
       "    <tr>\n",
       "      <th>3</th>\n",
       "      <td>-0.321162</td>\n",
       "      <td>-0.183234</td>\n",
       "      <td>-0.350679</td>\n",
       "      <td>0.777710</td>\n",
       "      <td>Fuzzy_dataset_SONATA</td>\n",
       "      <td>Sonata</td>\n",
       "      <td>Survival</td>\n",
       "      <td>none</td>\n",
       "      <td>0</td>\n",
       "    </tr>\n",
       "    <tr>\n",
       "      <th>4</th>\n",
       "      <td>-0.310327</td>\n",
       "      <td>-0.183234</td>\n",
       "      <td>-0.316885</td>\n",
       "      <td>0.777710</td>\n",
       "      <td>Fuzzy_dataset_SONATA</td>\n",
       "      <td>Sonata</td>\n",
       "      <td>Survival</td>\n",
       "      <td>none</td>\n",
       "      <td>0</td>\n",
       "    </tr>\n",
       "    <tr>\n",
       "      <th>...</th>\n",
       "      <td>...</td>\n",
       "      <td>...</td>\n",
       "      <td>...</td>\n",
       "      <td>...</td>\n",
       "      <td>...</td>\n",
       "      <td>...</td>\n",
       "      <td>...</td>\n",
       "      <td>...</td>\n",
       "      <td>...</td>\n",
       "    </tr>\n",
       "    <tr>\n",
       "      <th>1735835</th>\n",
       "      <td>-0.298719</td>\n",
       "      <td>-0.029482</td>\n",
       "      <td>-0.355556</td>\n",
       "      <td>-0.724139</td>\n",
       "      <td>FreeDrivingData_20171231_Spark</td>\n",
       "      <td>Spark</td>\n",
       "      <td>Survival</td>\n",
       "      <td>none</td>\n",
       "      <td>0</td>\n",
       "    </tr>\n",
       "    <tr>\n",
       "      <th>1735836</th>\n",
       "      <td>-0.319614</td>\n",
       "      <td>-0.135170</td>\n",
       "      <td>-0.356910</td>\n",
       "      <td>-0.724139</td>\n",
       "      <td>FreeDrivingData_20171231_Spark</td>\n",
       "      <td>Spark</td>\n",
       "      <td>Survival</td>\n",
       "      <td>none</td>\n",
       "      <td>0</td>\n",
       "    </tr>\n",
       "    <tr>\n",
       "      <th>1735837</th>\n",
       "      <td>-0.308392</td>\n",
       "      <td>-0.138246</td>\n",
       "      <td>-0.356949</td>\n",
       "      <td>-0.724139</td>\n",
       "      <td>FreeDrivingData_20171231_Spark</td>\n",
       "      <td>Spark</td>\n",
       "      <td>Survival</td>\n",
       "      <td>none</td>\n",
       "      <td>0</td>\n",
       "    </tr>\n",
       "    <tr>\n",
       "      <th>1735838</th>\n",
       "      <td>0.005035</td>\n",
       "      <td>-0.149269</td>\n",
       "      <td>-0.357090</td>\n",
       "      <td>-0.724139</td>\n",
       "      <td>FreeDrivingData_20171231_Spark</td>\n",
       "      <td>Spark</td>\n",
       "      <td>Survival</td>\n",
       "      <td>none</td>\n",
       "      <td>0</td>\n",
       "    </tr>\n",
       "    <tr>\n",
       "      <th>1735839</th>\n",
       "      <td>-0.328127</td>\n",
       "      <td>-0.152610</td>\n",
       "      <td>-0.357133</td>\n",
       "      <td>-0.724139</td>\n",
       "      <td>FreeDrivingData_20171231_Spark</td>\n",
       "      <td>Spark</td>\n",
       "      <td>Survival</td>\n",
       "      <td>none</td>\n",
       "      <td>0</td>\n",
       "    </tr>\n",
       "  </tbody>\n",
       "</table>\n",
       "<p>1735840 rows × 9 columns</p>\n",
       "</div>"
      ],
      "text/plain": [
       "               dt     dt_ID  dt_ID_data       dcs  \\\n",
       "0        0.019201 -0.183233    0.041094  0.777710   \n",
       "1       -0.324644 -0.183257   -0.350857  0.777710   \n",
       "2       -0.298719 -0.183193   -0.357523  0.777710   \n",
       "3       -0.321162 -0.183234   -0.350679  0.777710   \n",
       "4       -0.310327 -0.183234   -0.316885  0.777710   \n",
       "...           ...       ...         ...       ...   \n",
       "1735835 -0.298719 -0.029482   -0.355556 -0.724139   \n",
       "1735836 -0.319614 -0.135170   -0.356910 -0.724139   \n",
       "1735837 -0.308392 -0.138246   -0.356949 -0.724139   \n",
       "1735838  0.005035 -0.149269   -0.357090 -0.724139   \n",
       "1735839 -0.328127 -0.152610   -0.357133 -0.724139   \n",
       "\n",
       "                                   name   class   dataset  type  Label  \n",
       "0                  Fuzzy_dataset_SONATA  Sonata  Survival  none      0  \n",
       "1                  Fuzzy_dataset_SONATA  Sonata  Survival  none      0  \n",
       "2                  Fuzzy_dataset_SONATA  Sonata  Survival  none      0  \n",
       "3                  Fuzzy_dataset_SONATA  Sonata  Survival  none      0  \n",
       "4                  Fuzzy_dataset_SONATA  Sonata  Survival  none      0  \n",
       "...                                 ...     ...       ...   ...    ...  \n",
       "1735835  FreeDrivingData_20171231_Spark   Spark  Survival  none      0  \n",
       "1735836  FreeDrivingData_20171231_Spark   Spark  Survival  none      0  \n",
       "1735837  FreeDrivingData_20171231_Spark   Spark  Survival  none      0  \n",
       "1735838  FreeDrivingData_20171231_Spark   Spark  Survival  none      0  \n",
       "1735839  FreeDrivingData_20171231_Spark   Spark  Survival  none      0  \n",
       "\n",
       "[1735840 rows x 9 columns]"
      ]
     },
     "metadata": {},
     "output_type": "display_data"
    }
   ],
   "source": [
    "from sklearn.preprocessing import StandardScaler\n",
    "\n",
    "# for cl in [\"unknown\", \"Sonata\", \"Soul\", \"Spark\"]:\n",
    "#     for col in [\"dt\", \"dt_ID\", \"dt_ID_data\", \"dcs\"]:\n",
    "#         scaler = StandardScaler().fit(df.loc[(df[\"Label\"] == 0) & (df[\"class\"] == cl), df.columns == col])\n",
    "#         df.loc[df[\"class\"] == cl, col] = scaler.transform(df.loc[df[\"class\"] == cl, df.columns == col])\n",
    "\n",
    "for col in [\"dt\", \"dt_ID\", \"dt_ID_data\", \"dcs\"]:\n",
    "    scaler = StandardScaler().fit(df.loc[df[\"Label\"] == 0, df.columns == col])\n",
    "    df.loc[:, df.columns ==col] = scaler.transform(df.loc[:, df.columns == col])\n",
    "\n",
    "display(df)"
   ]
  },
  {
   "cell_type": "code",
   "execution_count": 23,
   "metadata": {},
   "outputs": [],
   "source": [
    "# Stratify on the sub-dataset\n",
    "X_train = df.drop(columns=\"name\")\n",
    "y_train = df[\"name\"]\n",
    "\n",
    "df = None # Release memory\n",
    "\n",
    "# Split dataset into training and test data, stratify by the type of attack\n",
    "X_train, X_test, y_train, y_test = train_test_split(X_train, y_train, test_size=0.3, random_state=0, shuffle=True, stratify=y_train)\n",
    "\n",
    "# Use feature \"Label\" as classification label\n",
    "d_temp: pd.DataFrame = pd.concat([X_train, y_train], axis=\"columns\")\n",
    "X_train, y_train = d_temp.drop(columns=\"Label\"), d_temp[\"Label\"]\n",
    "d_temp: pd.DataFrame = pd.concat([X_test, y_test], axis=\"columns\")\n",
    "X_test, y_test = d_temp.drop(columns=\"Label\"), d_temp[\"Label\"]\n",
    "d_temp = None # Release memory"
   ]
  },
  {
   "cell_type": "code",
   "execution_count": 24,
   "metadata": {},
   "outputs": [
    {
     "name": "stdout",
     "output_type": "stream",
     "text": [
      "Labels\t\tTraining\tTesting\n",
      "Normal\t\t128216\t\t465654\n",
      "Attack\t\t128216\t\t55098\n"
     ]
    }
   ],
   "source": [
    "rus = RandomUnderSampler(random_state=0)\n",
    "X_train, y_train = rus.fit_resample(X_train, y_train)\n",
    "bintr = np.bincount(y_train)\n",
    "binte = np.bincount(y_test)\n",
    "print(f\"Labels\\t\\tTraining\\tTesting\\nNormal\\t\\t{bintr[0]}\\t\\t{binte[0]}\\nAttack\\t\\t{bintr[1]}\\t\\t{binte[1]}\")"
   ]
  },
  {
   "cell_type": "code",
   "execution_count": 25,
   "metadata": {},
   "outputs": [],
   "source": [
    "# train_index = X_train.loc[X_train[\"dataset\"] == \"Survival\"].index\n",
    "# test_index = X_test.loc[X_test[\"dataset\"] == \"ROAD\"].index\n",
    "# train_index = X_train.loc[(X_train[\"dataset\"] == \"Survival\") & (X_train[\"name\"] == \"Fuzzy_dataset_SONATA\")].index\n",
    "# test_index = X_test.loc[(X_test[\"dataset\"] == \"ROAD\") & (X_test[\"name\"] == \"fuzzing_attack_1\")].index\n",
    "\n",
    "# X_train = X_train.loc[train_index]\n",
    "# y_train = y_train.loc[train_index]\n",
    "\n",
    "# X_test = X_test.loc[test_index]\n",
    "# y_test = y_test.loc[test_index]"
   ]
  },
  {
   "cell_type": "code",
   "execution_count": 26,
   "metadata": {},
   "outputs": [],
   "source": [
    "X_train.drop(columns=[\"type\", \"dataset\", \"name\", \"class\"], inplace=True)\n",
    "X_test.drop(columns=[\"type\", \"dataset\", \"name\", \"class\"], inplace=True)"
   ]
  },
  {
   "cell_type": "code",
   "execution_count": 27,
   "metadata": {},
   "outputs": [
    {
     "data": {
      "text/plain": [
       "RandomForestClassifier(max_features='log2', max_leaf_nodes=300, n_estimators=20,\n",
       "                       random_state=0, warm_start=True)"
      ]
     },
     "execution_count": 27,
     "metadata": {},
     "output_type": "execute_result"
    }
   ],
   "source": [
    "from sklearn.ensemble import RandomForestClassifier\n",
    "\n",
    "clf = RandomForestClassifier(n_estimators=20, random_state=0, max_leaf_nodes=300, max_features=\"log2\", warm_start=True)\n",
    "clf.fit(X_train, y_train)"
   ]
  },
  {
   "cell_type": "code",
   "execution_count": 28,
   "metadata": {},
   "outputs": [
    {
     "name": "stdout",
     "output_type": "stream",
     "text": [
      "Training F1: 0.9990 (+/- 0.0002)\n",
      "Testing F1:  0.9991(+/- 0.0000)\n",
      "Kappa score:  0.9955(+/- 0.0000)\n"
     ]
    }
   ],
   "source": [
    "scores = cross_val_score(clf, X_train, y_train, scoring='f1', cv=10, n_jobs=-1)\n",
    "print(\"Training F1: %0.4f (+/- %0.4f)\" % (scores.mean(), scores.std()))\n",
    "\n",
    "pred = clf.predict(X_test)\n",
    "\n",
    "f1_scores = f1_score(y_test, pred, average='weighted')\n",
    "print(\"Testing F1:  %0.4f(+/- %0.4f)\" % (f1_scores.mean(), f1_scores.std()))\n",
    "\n",
    "kappa_scores = cohen_kappa_score(y_test, pred)\n",
    "print(\"Kappa score:  %0.4f(+/- %0.4f)\" % (kappa_scores.mean(), kappa_scores.std()))"
   ]
  },
  {
   "cell_type": "markdown",
   "metadata": {},
   "source": [
    "Plot test data predictions"
   ]
  },
  {
   "cell_type": "code",
   "execution_count": 29,
   "metadata": {},
   "outputs": [
    {
     "data": {
      "image/png": "[encoded data removed]",
      "text/plain": [
       "<Figure size 600x400 with 2 Axes>"
      ]
     },
     "metadata": {
      "needs_background": "light"
     },
     "output_type": "display_data"
    }
   ],
   "source": [
    "from plot_tools import plot_confusion_matrix\n",
    "\n",
    "plot_confusion_matrix(y_test, pred, \"Survival, All Attacks, RF\\nrate\\n(# of instances)\")"
   ]
  },
  {
   "cell_type": "markdown",
   "metadata": {},
   "source": [
    "Plot train data predictions"
   ]
  },
  {
   "cell_type": "code",
   "execution_count": null,
   "metadata": {},
   "outputs": [],
   "source": [
    "pred_train = clf.predict(X_train)\n",
    "\n",
    "plot_confusion_matrix(y_train, pred_train, \"Survival, All Attacks, RF\\nrate\\n(# of instances)\")"
   ]
  },
  {
   "cell_type": "markdown",
   "metadata": {},
   "source": [
    "Add trees trained on the FPs and FNs"
   ]
  },
  {
   "cell_type": "code",
   "execution_count": null,
   "metadata": {},
   "outputs": [],
   "source": [
    "clf.set_params(n_estimators=30) # Add another 20 trees for the FN and FPs\n",
    "clf.fit(X_train.loc[y_train != pred_train], y_train.loc[y_train != pred_train])"
   ]
  },
  {
   "cell_type": "markdown",
   "metadata": {},
   "source": [
    "Plot test data predictions again"
   ]
  },
  {
   "cell_type": "code",
   "execution_count": null,
   "metadata": {},
   "outputs": [],
   "source": [
    "pred_test = clf.predict(X_test)\n",
    "\n",
    "plot_confusion_matrix(y_test, pred_test, \"Survival, All Attacks, RF\\nrate\\n(# of instances)\")"
   ]
  },
  {
   "cell_type": "code",
   "execution_count": 32,
   "metadata": {},
   "outputs": [
    {
     "name": "stdout",
     "output_type": "stream",
     "text": [
      "448\n",
      "520304\n"
     ]
    },
    {
     "data": {
      "image/png": "[encoded data removed]",
      "text/plain": [
       "<Figure size 576x223.2 with 2 Axes>"
      ]
     },
     "metadata": {
      "needs_background": "light"
     },
     "output_type": "display_data"
    }
   ],
   "source": [
    "import shap\n",
    "from shap_tools import *\n",
    "\n",
    "\n",
    "exp = shap.TreeExplainer(clf)\n",
    "\n",
    "# # Make sure that the ingested SHAP model (a TreeEnsemble object) makes the\n",
    "# # same predictions as the original model\n",
    "# assert np.abs(exp.model.predict(X_test_sample) - clf.predict_proba(X_test_sample)).max() < 1e-4\n",
    "\n",
    "# # Make sure the SHAP values sum up to the model output (this is the local accuracy property)\n",
    "# assert np.abs(exp.expected_value + exp.shap_values(X_test_sample).sum(1) - clf.predict_proba(X_test_sample)).max() < 1e-4\n",
    "\n",
    "print(len(X_test.loc[y_test != pred]))\n",
    "print(len(X_test.loc[y_test == pred]))\n",
    "shap_false = get_explanation(exp, X_test.loc[y_test != pred])\n",
    "shap_FP = get_explanation(exp, X_test.loc[(y_test != pred) & (pred == 1)])\n",
    "shap_FN = get_explanation(exp, X_test.loc[(y_test != pred) & (pred == 0)])\n",
    "shap_true = get_explanation(exp, X_test.loc[y_test == pred])\n",
    "shap_TP = get_explanation(exp, X_test.loc[(y_test == pred) & (pred == 1)])\n",
    "shap_TN = get_explanation(exp, X_test.loc[(y_test == pred) & (pred == 0)])\n",
    "\n",
    "plot_beeswarm(shap_FP)\n",
    "\n",
    "# shap_values = explainer(X_test.sample(1000, random_state=0))\n",
    "# shap_values = shap.Explanation(shap_values[:, :, 1], feature_names=X_test.columns)\n",
    "\n",
    "# shap.summary_plot(shap_values)\n",
    "\n",
    "\n",
    "# shap.waterfall_plot(shap.Explanation(values=shap_values[int(\"which_class\")][row], \n",
    "#                                          base_values=explainer.expected_value[int(which_class)], \n",
    "#                                          data=X_test.iloc[row],  # added this line\n",
    "#                                          feature_names=X_test.columns.tolist()))\n",
    "# shap.force_plot(explainer.expected_value[1], shap_values[1], features=X_test[:1], feature_names=X_test.columns)\n",
    "\n",
    "# shap.plots.scatter(shap_values[:,\"ones_w\"])\n",
    "# shap.summary_plot(shap_values[1], X_test.columns)\n",
    "\n",
    "# plt.show()"
   ]
  },
  {
   "cell_type": "code",
   "execution_count": 33,
   "metadata": {},
   "outputs": [
    {
     "data": {
      "image/png": "[encoded data removed]",
      "text/plain": [
       "<Figure size 576x223.2 with 2 Axes>"
      ]
     },
     "metadata": {
      "needs_background": "light"
     },
     "output_type": "display_data"
    }
   ],
   "source": [
    "plot_beeswarm(shap_FN)"
   ]
  }
 ],
 "metadata": {
  "interpreter": {
   "hash": "4cc1c01a394bbc3d069051c289161a3236732c38d026dbad3d7b5639e0cadb70"
  },
  "kernelspec": {
   "display_name": "Python 3.8.10 ('ml-classify-pJEs0r8S-py3.8')",
   "language": "python",
   "name": "python3"
  },
  "language_info": {
   "codemirror_mode": {
    "name": "ipython",
    "version": 3
   },
   "file_extension": ".py",
   "mimetype": "text/x-python",
   "name": "python",
   "nbconvert_exporter": "python",
   "pygments_lexer": "ipython3",
   "version": "3.8.10"
  },
  "orig_nbformat": 4
 },
 "nbformat": 4,
 "nbformat_minor": 2
}
