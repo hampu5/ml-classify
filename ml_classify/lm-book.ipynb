{
 "cells": [
  {
   "cell_type": "code",
   "execution_count": 1,
   "metadata": {},
   "outputs": [],
   "source": [
    "import os\n",
    "os.environ['TF_CPP_MIN_LOG_LEVEL'] = '2'\n",
    "from timeit import timeit\n",
    "from IPython.display import display\n",
    "import pandas as pd\n",
    "import numpy as np\n",
    "from sklearn.metrics import cohen_kappa_score, f1_score\n",
    "from sklearn.model_selection import cross_val_score, train_test_split\n",
    "from joblib import dump, load\n",
    "from imblearn.under_sampling import RandomUnderSampler"
   ]
  },
  {
   "cell_type": "code",
   "execution_count": 2,
   "metadata": {},
   "outputs": [
    {
     "data": {
      "text/html": [
       "<div>\n",
       "<style scoped>\n",
       "    .dataframe tbody tr th:only-of-type {\n",
       "        vertical-align: middle;\n",
       "    }\n",
       "\n",
       "    .dataframe tbody tr th {\n",
       "        vertical-align: top;\n",
       "    }\n",
       "\n",
       "    .dataframe thead th {\n",
       "        text-align: right;\n",
       "    }\n",
       "</style>\n",
       "<table border=\"1\" class=\"dataframe\">\n",
       "  <thead>\n",
       "    <tr style=\"text-align: right;\">\n",
       "      <th></th>\n",
       "      <th>dcs</th>\n",
       "      <th>dcs_ID</th>\n",
       "      <th>dt</th>\n",
       "      <th>dt_ID</th>\n",
       "      <th>dt_data</th>\n",
       "      <th>name</th>\n",
       "      <th>class</th>\n",
       "      <th>dataset</th>\n",
       "      <th>type</th>\n",
       "      <th>Label</th>\n",
       "    </tr>\n",
       "  </thead>\n",
       "  <tbody>\n",
       "    <tr>\n",
       "      <th>0</th>\n",
       "      <td>0.369422</td>\n",
       "      <td>0.078324</td>\n",
       "      <td>0.000444</td>\n",
       "      <td>0.009978</td>\n",
       "      <td>0.724212</td>\n",
       "      <td>Fuzzy_dataset_SONATA</td>\n",
       "      <td>Sonata</td>\n",
       "      <td>Survival</td>\n",
       "      <td>fuzz</td>\n",
       "      <td>0</td>\n",
       "    </tr>\n",
       "    <tr>\n",
       "      <th>1</th>\n",
       "      <td>0.453125</td>\n",
       "      <td>0.025104</td>\n",
       "      <td>0.000232</td>\n",
       "      <td>0.009977</td>\n",
       "      <td>0.045600</td>\n",
       "      <td>Fuzzy_dataset_SONATA</td>\n",
       "      <td>Sonata</td>\n",
       "      <td>Survival</td>\n",
       "      <td>fuzz</td>\n",
       "      <td>0</td>\n",
       "    </tr>\n",
       "    <tr>\n",
       "      <th>2</th>\n",
       "      <td>0.343750</td>\n",
       "      <td>0.000896</td>\n",
       "      <td>0.000248</td>\n",
       "      <td>0.009981</td>\n",
       "      <td>0.009991</td>\n",
       "      <td>Fuzzy_dataset_SONATA</td>\n",
       "      <td>Sonata</td>\n",
       "      <td>Survival</td>\n",
       "      <td>fuzz</td>\n",
       "      <td>0</td>\n",
       "    </tr>\n",
       "    <tr>\n",
       "      <th>3</th>\n",
       "      <td>0.328125</td>\n",
       "      <td>0.008395</td>\n",
       "      <td>0.000234</td>\n",
       "      <td>0.009978</td>\n",
       "      <td>0.047617</td>\n",
       "      <td>Fuzzy_dataset_SONATA</td>\n",
       "      <td>Sonata</td>\n",
       "      <td>Survival</td>\n",
       "      <td>fuzz</td>\n",
       "      <td>0</td>\n",
       "    </tr>\n",
       "    <tr>\n",
       "      <th>4</th>\n",
       "      <td>0.375000</td>\n",
       "      <td>0.038187</td>\n",
       "      <td>0.000241</td>\n",
       "      <td>0.009978</td>\n",
       "      <td>0.036785</td>\n",
       "      <td>Fuzzy_dataset_SONATA</td>\n",
       "      <td>Sonata</td>\n",
       "      <td>Survival</td>\n",
       "      <td>fuzz</td>\n",
       "      <td>0</td>\n",
       "    </tr>\n",
       "    <tr>\n",
       "      <th>...</th>\n",
       "      <td>...</td>\n",
       "      <td>...</td>\n",
       "      <td>...</td>\n",
       "      <td>...</td>\n",
       "      <td>...</td>\n",
       "      <td>...</td>\n",
       "      <td>...</td>\n",
       "      <td>...</td>\n",
       "      <td>...</td>\n",
       "      <td>...</td>\n",
       "    </tr>\n",
       "    <tr>\n",
       "      <th>1735835</th>\n",
       "      <td>0.187500</td>\n",
       "      <td>0.000000</td>\n",
       "      <td>0.000248</td>\n",
       "      <td>0.020620</td>\n",
       "      <td>0.020620</td>\n",
       "      <td>FreeDrivingData_20171231_Spark</td>\n",
       "      <td>Spark</td>\n",
       "      <td>Survival</td>\n",
       "      <td>none</td>\n",
       "      <td>0</td>\n",
       "    </tr>\n",
       "    <tr>\n",
       "      <th>1735836</th>\n",
       "      <td>0.265625</td>\n",
       "      <td>0.000000</td>\n",
       "      <td>0.000235</td>\n",
       "      <td>0.013305</td>\n",
       "      <td>0.013305</td>\n",
       "      <td>FreeDrivingData_20171231_Spark</td>\n",
       "      <td>Spark</td>\n",
       "      <td>Survival</td>\n",
       "      <td>none</td>\n",
       "      <td>0</td>\n",
       "    </tr>\n",
       "    <tr>\n",
       "      <th>1735837</th>\n",
       "      <td>0.312500</td>\n",
       "      <td>0.000000</td>\n",
       "      <td>0.000242</td>\n",
       "      <td>0.013092</td>\n",
       "      <td>0.013092</td>\n",
       "      <td>FreeDrivingData_20171231_Spark</td>\n",
       "      <td>Spark</td>\n",
       "      <td>Survival</td>\n",
       "      <td>none</td>\n",
       "      <td>0</td>\n",
       "    </tr>\n",
       "    <tr>\n",
       "      <th>1735838</th>\n",
       "      <td>0.265625</td>\n",
       "      <td>0.000000</td>\n",
       "      <td>0.000435</td>\n",
       "      <td>0.012329</td>\n",
       "      <td>0.012329</td>\n",
       "      <td>FreeDrivingData_20171231_Spark</td>\n",
       "      <td>Spark</td>\n",
       "      <td>Survival</td>\n",
       "      <td>none</td>\n",
       "      <td>0</td>\n",
       "    </tr>\n",
       "    <tr>\n",
       "      <th>1735839</th>\n",
       "      <td>0.093750</td>\n",
       "      <td>0.000000</td>\n",
       "      <td>0.000230</td>\n",
       "      <td>0.012098</td>\n",
       "      <td>0.012098</td>\n",
       "      <td>FreeDrivingData_20171231_Spark</td>\n",
       "      <td>Spark</td>\n",
       "      <td>Survival</td>\n",
       "      <td>none</td>\n",
       "      <td>0</td>\n",
       "    </tr>\n",
       "  </tbody>\n",
       "</table>\n",
       "<p>1735840 rows × 10 columns</p>\n",
       "</div>"
      ],
      "text/plain": [
       "              dcs    dcs_ID        dt     dt_ID   dt_data  \\\n",
       "0        0.369422  0.078324  0.000444  0.009978  0.724212   \n",
       "1        0.453125  0.025104  0.000232  0.009977  0.045600   \n",
       "2        0.343750  0.000896  0.000248  0.009981  0.009991   \n",
       "3        0.328125  0.008395  0.000234  0.009978  0.047617   \n",
       "4        0.375000  0.038187  0.000241  0.009978  0.036785   \n",
       "...           ...       ...       ...       ...       ...   \n",
       "1735835  0.187500  0.000000  0.000248  0.020620  0.020620   \n",
       "1735836  0.265625  0.000000  0.000235  0.013305  0.013305   \n",
       "1735837  0.312500  0.000000  0.000242  0.013092  0.013092   \n",
       "1735838  0.265625  0.000000  0.000435  0.012329  0.012329   \n",
       "1735839  0.093750  0.000000  0.000230  0.012098  0.012098   \n",
       "\n",
       "                                   name   class   dataset  type  Label  \n",
       "0                  Fuzzy_dataset_SONATA  Sonata  Survival  fuzz      0  \n",
       "1                  Fuzzy_dataset_SONATA  Sonata  Survival  fuzz      0  \n",
       "2                  Fuzzy_dataset_SONATA  Sonata  Survival  fuzz      0  \n",
       "3                  Fuzzy_dataset_SONATA  Sonata  Survival  fuzz      0  \n",
       "4                  Fuzzy_dataset_SONATA  Sonata  Survival  fuzz      0  \n",
       "...                                 ...     ...       ...   ...    ...  \n",
       "1735835  FreeDrivingData_20171231_Spark   Spark  Survival  none      0  \n",
       "1735836  FreeDrivingData_20171231_Spark   Spark  Survival  none      0  \n",
       "1735837  FreeDrivingData_20171231_Spark   Spark  Survival  none      0  \n",
       "1735838  FreeDrivingData_20171231_Spark   Spark  Survival  none      0  \n",
       "1735839  FreeDrivingData_20171231_Spark   Spark  Survival  none      0  \n",
       "\n",
       "[1735840 rows x 10 columns]"
      ]
     },
     "metadata": {},
     "output_type": "display_data"
    }
   ],
   "source": [
    "from compiledataset import load_dataset, compile_dataset\n",
    "\n",
    "PATH = \"/home/hampus/miun/master_thesis/Datasets\"\n",
    "\n",
    "datasets = {}\n",
    "\n",
    "# dataset: pd.DataFrame = load_dataset(PATH + \"/ORNL\", \"data_a.csv\")\n",
    "# dataset[\"remarks\"] = \"No DLC available\"\n",
    "# datasets[\"ROAD\"] = dataset.to_dict(\"records\")\n",
    "\n",
    "dataset: pd.DataFrame = load_dataset(PATH + \"/Survival\", \"data.csv\") #, \"Malfunction_dataset_SONATA\")\n",
    "dataset[\"remarks\"] = \"-\"\n",
    "datasets[\"Survival\"] = dataset.to_dict(\"records\")\n",
    "\n",
    "# dataset: pd.DataFrame = load_dataset(PATH + \"/Hisingen\", \"data.csv\", \"Vehicle_F-Model_2-Fabrication_attack-Sample_1\")\n",
    "# dataset[\"remarks\"] = \"-\"\n",
    "# datasets[\"Hisingen\"] = dataset.to_dict(\"records\")\n",
    "\n",
    "\n",
    "df = compile_dataset(datasets)\n",
    "# df.to_csv(\"../../../Datasets/Survival/data/test_data.csv\", index=False)\n",
    "\n",
    "df.drop(columns=[\"data\", \"data_dec\", \"ID\", \"DLC\", \"t\"], inplace=True, errors=\"ignore\")\n",
    "df.drop(columns=[\"d0\", \"d1\", \"d2\", \"d3\", \"d4\", \"d5\", \"d6\", \"d7\"], inplace=True, errors=\"ignore\")\n",
    "\n",
    "dataset = None # Release memory, as it isn't used for now\n",
    "datasets = None\n",
    "\n",
    "display(df)"
   ]
  },
  {
   "cell_type": "code",
   "execution_count": 3,
   "metadata": {},
   "outputs": [],
   "source": [
    "# Stratify on the sub-dataset\n",
    "X_train = df.drop(columns=\"Label\")\n",
    "y_train = df[\"Label\"]\n",
    "\n",
    "df = None # Release memory\n",
    "\n",
    "# Split dataset into training and test data, stratify by the type of attack\n",
    "X_train, X_test, y_train, y_test = train_test_split(X_train, y_train, test_size=0.3, random_state=0, shuffle=True, stratify=X_train[\"name\"])"
   ]
  },
  {
   "cell_type": "code",
   "execution_count": 4,
   "metadata": {},
   "outputs": [
    {
     "name": "stdout",
     "output_type": "stream",
     "text": [
      "Labels\t\tTraining\tTesting\n",
      "Normal\t\t128216\t\t55098\n",
      "Attack\t\t128216\t\t55098\n"
     ]
    }
   ],
   "source": [
    "rus = RandomUnderSampler(random_state=0)\n",
    "X_train, y_train = rus.fit_resample(X_train, y_train)\n",
    "X_test, y_test = rus.fit_resample(X_test, y_test)\n",
    "bintr = np.bincount(y_train)\n",
    "binte = np.bincount(y_test)\n",
    "print(f\"Labels\\t\\tTraining\\tTesting\\nNormal\\t\\t{bintr[0]}\\t\\t{binte[0]}\\nAttack\\t\\t{bintr[1]}\\t\\t{binte[1]}\")"
   ]
  },
  {
   "cell_type": "code",
   "execution_count": 5,
   "metadata": {},
   "outputs": [],
   "source": [
    "# name_train = X_train[\"name\"]\n",
    "# name_test = X_test[\"name\"]\n",
    "X_train.drop(columns=[\"type\", \"dataset\", \"name\", \"class\"], inplace=True)\n",
    "X_test.drop(columns=[\"type\", \"dataset\", \"name\", \"class\"], inplace=True)"
   ]
  },
  {
   "cell_type": "code",
   "execution_count": 6,
   "metadata": {},
   "outputs": [
    {
     "data": {
      "text/plain": [
       "LogisticRegression(random_state=0)"
      ]
     },
     "execution_count": 6,
     "metadata": {},
     "output_type": "execute_result"
    }
   ],
   "source": [
    "from sklearn.linear_model import LogisticRegression\n",
    "\n",
    "lm = LogisticRegression(random_state=0)\n",
    "lm.fit(X_train, y_train)"
   ]
  },
  {
   "cell_type": "code",
   "execution_count": 7,
   "metadata": {},
   "outputs": [
    {
     "name": "stdout",
     "output_type": "stream",
     "text": [
      "Training F1: 0.6950 (+/- 0.0031)\n",
      "Testing F1:  0.7002 (+/- 0.0048)\n",
      "Kappa score:  0.4399\n"
     ]
    }
   ],
   "source": [
    "f1_scores_train = cross_val_score(lm, X_train, y_train, scoring='f1', cv=10, n_jobs=-1)\n",
    "print(\"Training F1: %0.4f (+/- %0.4f)\" % (f1_scores_train.mean(), f1_scores_train.std()))\n",
    "\n",
    "# f1_scores_test = f1_score(y_test, pred, average='weighted')\n",
    "f1_scores_test = cross_val_score(lm, X_test, y_test, scoring='f1', cv=10, n_jobs=-1)\n",
    "print(\"Testing F1:  %0.4f (+/- %0.4f)\" % (f1_scores_test.mean(), f1_scores_test.std()))\n",
    "\n",
    "pred = lm.predict(X_test)\n",
    "\n",
    "kappa_scores = cohen_kappa_score(y_test, pred)\n",
    "# kappa_scores = cross_val_score(clf, X_test, y_test, scoring='kappa', cv=10, n_jobs=-1)\n",
    "print(\"Kappa score:  %0.4f\" % (kappa_scores.mean()))"
   ]
  },
  {
   "cell_type": "code",
   "execution_count": 8,
   "metadata": {},
   "outputs": [
    {
     "data": {
      "image/png": "[encoded data removed]",
      "text/plain": [
       "<Figure size 600x400 with 1 Axes>"
      ]
     },
     "metadata": {
      "needs_background": "light"
     },
     "output_type": "display_data"
    }
   ],
   "source": [
    "from plot_tools import plot_confusion_matrix\n",
    "\n",
    "pred_train = lm.predict(X_train)\n",
    "\n",
    "plot_confusion_matrix(y_train, pred_train, \"RF, \\\"Survival\\\", all attacks, training data\\n(# of instances)\", cbar=False)"
   ]
  },
  {
   "cell_type": "code",
   "execution_count": 9,
   "metadata": {},
   "outputs": [
    {
     "data": {
      "image/png": "[encoded data removed]",
      "text/plain": [
       "<Figure size 600x400 with 2 Axes>"
      ]
     },
     "metadata": {
      "needs_background": "light"
     },
     "output_type": "display_data"
    }
   ],
   "source": [
    "plot_confusion_matrix(y_test, pred, \"RF, \\\"Survival\\\", all attacks, testing data\\n(# of instances)\")"
   ]
  }
 ],
 "metadata": {
  "interpreter": {
   "hash": "4cc1c01a394bbc3d069051c289161a3236732c38d026dbad3d7b5639e0cadb70"
  },
  "kernelspec": {
   "display_name": "Python 3.8.10 ('ml-classify-pJEs0r8S-py3.8')",
   "language": "python",
   "name": "python3"
  },
  "language_info": {
   "codemirror_mode": {
    "name": "ipython",
    "version": 3
   },
   "file_extension": ".py",
   "mimetype": "text/x-python",
   "name": "python",
   "nbconvert_exporter": "python",
   "pygments_lexer": "ipython3",
   "version": "3.8.10"
  },
  "orig_nbformat": 4
 },
 "nbformat": 4,
 "nbformat_minor": 2
}
