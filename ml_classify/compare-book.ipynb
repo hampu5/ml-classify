{
 "cells": [
  {
   "cell_type": "code",
   "execution_count": null,
   "metadata": {},
   "outputs": [],
   "source": [
    "import numpy as np\n",
    "from joblib import load\n",
    "import matplotlib.pyplot as plt\n",
    "\n",
    "def cosim(a, b):\n",
    "    return np.dot(a, b)/(np.sqrt(np.dot(a, a)) * np.sqrt(np.dot(b, b)))\n",
    "\n",
    "shap_rf = load(\"rf_survival_all_shap\")\n",
    "shap_dnn = load(\"dnn_survival_all_shap\")\n",
    "\n",
    "shap_rf_avg = np.array(shap_rf.values).flatten() # np.mean(shap_rf.values, axis=0)\n",
    "shap_dnn_avg = np.array(shap_dnn.values).flatten() # np.mean(shap_dnn.values, axis=0)\n",
    "\n",
    "# print(shap_rf_avg)\n",
    "# print(shap_dnn_avg)\n",
    "\n",
    "shap_cosim_avg = np.sort(list(map(cosim, shap_rf.values, shap_dnn.values)))\n",
    "\n",
    "print(shap_cosim_avg)\n",
    "plt.plot(shap_rf.values)"
   ]
  }
 ],
 "metadata": {
  "interpreter": {
   "hash": "4cc1c01a394bbc3d069051c289161a3236732c38d026dbad3d7b5639e0cadb70"
  },
  "kernelspec": {
   "display_name": "Python 3.8.10 ('ml-classify-pJEs0r8S-py3.8')",
   "language": "python",
   "name": "python3"
  },
  "language_info": {
   "codemirror_mode": {
    "name": "ipython",
    "version": 3
   },
   "file_extension": ".py",
   "mimetype": "text/x-python",
   "name": "python",
   "nbconvert_exporter": "python",
   "pygments_lexer": "ipython3",
   "version": "3.8.10"
  }
 },
 "nbformat": 4,
 "nbformat_minor": 2
}
