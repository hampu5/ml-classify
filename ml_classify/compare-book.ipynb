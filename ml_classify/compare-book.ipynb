{
 "cells": [
  {
   "cell_type": "code",
   "execution_count": 8,
   "metadata": {},
   "outputs": [
    {
     "name": "stdout",
     "output_type": "stream",
     "text": [
      "[ 0.00127771 -0.00022298  0.00130205  0.02221707  0.00782901]\n",
      "[-0.000421    0.0128679  -0.00118218  0.02909833  0.01470528]\n",
      "0.9130751504512415\n"
     ]
    }
   ],
   "source": [
    "import numpy as np\n",
    "from joblib import load\n",
    "\n",
    "shap_rf = load(\"rf_survival_all_shap\")\n",
    "shap_dnn = load(\"dnn_survival_all_shap\")\n",
    "\n",
    "shap_rf_avg = np.mean(shap_rf.values, axis=0)\n",
    "shap_dnn_avg = np.mean(shap_dnn.values, axis=0)\n",
    "\n",
    "print(shap_rf_avg)\n",
    "print(shap_dnn_avg)\n",
    "\n",
    "print(np.dot(shap_rf_avg, shap_dnn_avg)/(np.sqrt(np.dot(shap_rf_avg, shap_rf_avg)) * np.sqrt(np.dot(shap_dnn_avg, shap_dnn_avg))))"
   ]
  }
 ],
 "metadata": {
  "interpreter": {
   "hash": "4cc1c01a394bbc3d069051c289161a3236732c38d026dbad3d7b5639e0cadb70"
  },
  "kernelspec": {
   "display_name": "Python 3.8.10 ('ml-classify-pJEs0r8S-py3.8')",
   "language": "python",
   "name": "python3"
  },
  "language_info": {
   "name": "python",
   "version": "3.8.10"
  },
  "orig_nbformat": 4
 },
 "nbformat": 4,
 "nbformat_minor": 2
}
