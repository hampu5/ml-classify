{
 "cells": [
  {
   "cell_type": "markdown",
   "id": "d3e30535",
   "metadata": {},
   "source": [
    "<h2>Adding imports</h2>"
   ]
  },
  {
   "cell_type": "code",
   "execution_count": 1,
   "id": "4dc13c5b",
   "metadata": {},
   "outputs": [],
   "source": [
    "import os\n",
    "os.environ['TF_CPP_MIN_LOG_LEVEL'] = '2'\n",
    "from timeit import timeit\n",
    "from IPython.display import display\n",
    "import matplotlib\n",
    "# matplotlib.use(\"pgf\")\n",
    "from matplotlib import pyplot as plt\n",
    "import pandas as pd\n",
    "from pandas.plotting import scatter_matrix\n",
    "import numpy as np\n",
    "from collections import Counter\n",
    "from sklearn.feature_selection import SelectKBest, chi2\n",
    "from sklearn.metrics import cohen_kappa_score, confusion_matrix, f1_score\n",
    "from sklearn.model_selection import cross_val_score, train_test_split\n",
    "from joblib import dump, load\n",
    "from imblearn.under_sampling import RandomUnderSampler\n",
    "import shap\n",
    "import seaborn as sns"
   ]
  },
  {
   "cell_type": "markdown",
   "id": "916b02cd",
   "metadata": {},
   "source": [
    "Open the dataset<br>\n",
    "The compile_dataset() function reads the dataset from file.<br>\n",
    "The original datasets contain these features:<br>\n",
    "timestamp/t (absolute), ID, DLC (some don't have this), data field 0, ..., data field 7, Label.<br>\n",
    "While compiling the dataset from the loaded files, new features are created.<br>\n",
    "From the timestamp, \"dt\" is created, and from timestamp and ID, \"dt_ID\" is created.<br>\n",
    "dt is the time between each CAN frame. dt_ID is the time between each CAN frame with the same ID.<br>\n",
    "From data field 0, ..., data field 7, \"ones\" is created, and from ID, \"ones_ID\" is created.<br>\n",
    "ones is the number of ones counted in the binary payload (combined data fields) for each CAN frame,<br>\n",
    "and ones_ID is the number of ones counted in the ID for each CAN frame.<br>\n",
    "Another feature, \"type\" is also added, which denotes the type of attack that a certain attack is.<br>\n",
    "For example, flooding (flood), and fuzzing (fuzz)."
   ]
  },
  {
   "cell_type": "code",
   "execution_count": 2,
   "id": "3266ffb9",
   "metadata": {},
   "outputs": [
    {
     "name": "stderr",
     "output_type": "stream",
     "text": [
      "2022-05-18 11:31:09.967054: E tensorflow/stream_executor/cuda/cuda_driver.cc:271] failed call to cuInit: CUDA_ERROR_COMPAT_NOT_SUPPORTED_ON_DEVICE: forward compatibility was attempted on non supported HW\n",
      "2022-05-18 11:31:09.967175: E tensorflow/stream_executor/cuda/cuda_diagnostics.cc:313] kernel version 470.103.1 does not match DSO version 470.129.6 -- cannot find working devices in this configuration\n"
     ]
    },
    {
     "data": {
      "text/html": [
       "<div>\n",
       "<style scoped>\n",
       "    .dataframe tbody tr th:only-of-type {\n",
       "        vertical-align: middle;\n",
       "    }\n",
       "\n",
       "    .dataframe tbody tr th {\n",
       "        vertical-align: top;\n",
       "    }\n",
       "\n",
       "    .dataframe thead th {\n",
       "        text-align: right;\n",
       "    }\n",
       "</style>\n",
       "<table border=\"1\" class=\"dataframe\">\n",
       "  <thead>\n",
       "    <tr style=\"text-align: right;\">\n",
       "      <th></th>\n",
       "      <th>dt</th>\n",
       "      <th>ID</th>\n",
       "      <th>d0</th>\n",
       "      <th>d1</th>\n",
       "      <th>d2</th>\n",
       "      <th>d3</th>\n",
       "      <th>d4</th>\n",
       "      <th>d5</th>\n",
       "      <th>d6</th>\n",
       "      <th>d7</th>\n",
       "    </tr>\n",
       "  </thead>\n",
       "  <tbody>\n",
       "    <tr>\n",
       "      <th>40494</th>\n",
       "      <td>0.000345</td>\n",
       "      <td>1969</td>\n",
       "      <td>186</td>\n",
       "      <td>193</td>\n",
       "      <td>108</td>\n",
       "      <td>83</td>\n",
       "      <td>25</td>\n",
       "      <td>70</td>\n",
       "      <td>59</td>\n",
       "      <td>250</td>\n",
       "    </tr>\n",
       "    <tr>\n",
       "      <th>40496</th>\n",
       "      <td>0.000676</td>\n",
       "      <td>1883</td>\n",
       "      <td>5</td>\n",
       "      <td>36</td>\n",
       "      <td>24</td>\n",
       "      <td>15</td>\n",
       "      <td>101</td>\n",
       "      <td>89</td>\n",
       "      <td>62</td>\n",
       "      <td>133</td>\n",
       "    </tr>\n",
       "    <tr>\n",
       "      <th>40497</th>\n",
       "      <td>0.000985</td>\n",
       "      <td>1109</td>\n",
       "      <td>239</td>\n",
       "      <td>252</td>\n",
       "      <td>64</td>\n",
       "      <td>138</td>\n",
       "      <td>231</td>\n",
       "      <td>2</td>\n",
       "      <td>17</td>\n",
       "      <td>252</td>\n",
       "    </tr>\n",
       "    <tr>\n",
       "      <th>40499</th>\n",
       "      <td>0.000219</td>\n",
       "      <td>751</td>\n",
       "      <td>72</td>\n",
       "      <td>200</td>\n",
       "      <td>214</td>\n",
       "      <td>175</td>\n",
       "      <td>134</td>\n",
       "      <td>239</td>\n",
       "      <td>143</td>\n",
       "      <td>49</td>\n",
       "    </tr>\n",
       "    <tr>\n",
       "      <th>40500</th>\n",
       "      <td>0.000970</td>\n",
       "      <td>382</td>\n",
       "      <td>165</td>\n",
       "      <td>80</td>\n",
       "      <td>63</td>\n",
       "      <td>95</td>\n",
       "      <td>88</td>\n",
       "      <td>173</td>\n",
       "      <td>192</td>\n",
       "      <td>192</td>\n",
       "    </tr>\n",
       "    <tr>\n",
       "      <th>...</th>\n",
       "      <td>...</td>\n",
       "      <td>...</td>\n",
       "      <td>...</td>\n",
       "      <td>...</td>\n",
       "      <td>...</td>\n",
       "      <td>...</td>\n",
       "      <td>...</td>\n",
       "      <td>...</td>\n",
       "      <td>...</td>\n",
       "      <td>...</td>\n",
       "    </tr>\n",
       "    <tr>\n",
       "      <th>1587013</th>\n",
       "      <td>0.000226</td>\n",
       "      <td>398</td>\n",
       "      <td>1</td>\n",
       "      <td>71</td>\n",
       "      <td>96</td>\n",
       "      <td>255</td>\n",
       "      <td>107</td>\n",
       "      <td>0</td>\n",
       "      <td>0</td>\n",
       "      <td>0</td>\n",
       "    </tr>\n",
       "    <tr>\n",
       "      <th>1587019</th>\n",
       "      <td>0.000228</td>\n",
       "      <td>398</td>\n",
       "      <td>1</td>\n",
       "      <td>71</td>\n",
       "      <td>96</td>\n",
       "      <td>255</td>\n",
       "      <td>107</td>\n",
       "      <td>0</td>\n",
       "      <td>0</td>\n",
       "      <td>0</td>\n",
       "    </tr>\n",
       "    <tr>\n",
       "      <th>1587024</th>\n",
       "      <td>0.000229</td>\n",
       "      <td>398</td>\n",
       "      <td>1</td>\n",
       "      <td>71</td>\n",
       "      <td>96</td>\n",
       "      <td>255</td>\n",
       "      <td>107</td>\n",
       "      <td>0</td>\n",
       "      <td>0</td>\n",
       "      <td>0</td>\n",
       "    </tr>\n",
       "    <tr>\n",
       "      <th>1587034</th>\n",
       "      <td>0.000228</td>\n",
       "      <td>398</td>\n",
       "      <td>1</td>\n",
       "      <td>71</td>\n",
       "      <td>96</td>\n",
       "      <td>255</td>\n",
       "      <td>107</td>\n",
       "      <td>0</td>\n",
       "      <td>0</td>\n",
       "      <td>0</td>\n",
       "    </tr>\n",
       "    <tr>\n",
       "      <th>1587036</th>\n",
       "      <td>0.000226</td>\n",
       "      <td>398</td>\n",
       "      <td>1</td>\n",
       "      <td>71</td>\n",
       "      <td>96</td>\n",
       "      <td>255</td>\n",
       "      <td>107</td>\n",
       "      <td>0</td>\n",
       "      <td>0</td>\n",
       "      <td>0</td>\n",
       "    </tr>\n",
       "  </tbody>\n",
       "</table>\n",
       "<p>183314 rows × 10 columns</p>\n",
       "</div>"
      ],
      "text/plain": [
       "               dt    ID   d0   d1   d2   d3   d4   d5   d6   d7\n",
       "40494    0.000345  1969  186  193  108   83   25   70   59  250\n",
       "40496    0.000676  1883    5   36   24   15  101   89   62  133\n",
       "40497    0.000985  1109  239  252   64  138  231    2   17  252\n",
       "40499    0.000219   751   72  200  214  175  134  239  143   49\n",
       "40500    0.000970   382  165   80   63   95   88  173  192  192\n",
       "...           ...   ...  ...  ...  ...  ...  ...  ...  ...  ...\n",
       "1587013  0.000226   398    1   71   96  255  107    0    0    0\n",
       "1587019  0.000228   398    1   71   96  255  107    0    0    0\n",
       "1587024  0.000229   398    1   71   96  255  107    0    0    0\n",
       "1587034  0.000228   398    1   71   96  255  107    0    0    0\n",
       "1587036  0.000226   398    1   71   96  255  107    0    0    0\n",
       "\n",
       "[183314 rows x 10 columns]"
      ]
     },
     "metadata": {},
     "output_type": "display_data"
    },
    {
     "name": "stdout",
     "output_type": "stream",
     "text": [
      "0.00042849342792030775\n"
     ]
    }
   ],
   "source": [
    "from compiledataset import load_dataset, compile_dataset\n",
    "\n",
    "PATH = \"/home/hampus/miun/master_thesis/Datasets\"\n",
    "\n",
    "datasets = {}\n",
    "\n",
    "# dataset: pd.DataFrame = load_dataset(PATH + \"/ORNL\", \"data_a.csv\")\n",
    "# dataset[\"remarks\"] = \"No DLC available\"\n",
    "# datasets[\"ROAD\"] = dataset.to_dict(\"records\")\n",
    "\n",
    "dataset: pd.DataFrame = load_dataset(PATH + \"/Survival\", \"data.csv\") #, \"FreeDrivingData_20180112_KIA\")\n",
    "dataset[\"remarks\"] = \"-\"\n",
    "datasets[\"Survival\"] = dataset.to_dict(\"records\")\n",
    "\n",
    "# dataset: pd.DataFrame = load_dataset(PATH + \"/Hisingen\", \"data.csv\")\n",
    "# dataset[\"remarks\"] = \"-\"\n",
    "# datasets[\"Hisingen\"] = dataset.to_dict(\"records\")\n",
    "\n",
    "\n",
    "df = compile_dataset(datasets)\n",
    "\n",
    "dataset = None # Release memory, as it isn't used for now\n",
    "datasets = None\n",
    "\n",
    "display(df[df[\"Label\"] == 1][[\"dt\", \"ID\", \"d0\", \"d1\", \"d2\", \"d3\", \"d4\", \"d5\", \"d6\", \"d7\"]])\n",
    "print(df[\"dt\"].mean())"
   ]
  },
  {
   "cell_type": "markdown",
   "id": "6887b9e7",
   "metadata": {},
   "source": [
    "Plots of the delta time of the datasets"
   ]
  },
  {
   "cell_type": "code",
   "execution_count": 3,
   "id": "a493dfa9",
   "metadata": {},
   "outputs": [
    {
     "data": {
      "image/png": "[encoded data removed]",
      "text/plain": [
       "<Figure size 1920x280 with 1 Axes>"
      ]
     },
     "metadata": {
      "needs_background": "light"
     },
     "output_type": "display_data"
    }
   ],
   "source": [
    "from matplotlib.ticker import StrMethodFormatter\n",
    "\n",
    "# df[\"dt\"] *= 1000\n",
    "# df[\"t\"] -= 6e7\n",
    "# df = df.sample(frac=0.3, random_state=0)\n",
    "\n",
    "\n",
    "normal = df.loc[(df[\"Label\"] == 0), \"dt_ID\"]\n",
    "normal_t = df.loc[(df[\"Label\"] == 0), \"t\"]\n",
    "attack = df.loc[(df[\"Label\"] == 1), \"dt_ID\"]\n",
    "attack_t = df.loc[(df[\"Label\"] == 1), \"t\"]\n",
    "# print(len(attack))\n",
    "\n",
    "# normal = df.loc[(df[\"name\"] == \"Malfunction_dataset_SONATA\") & (df[\"Label\"] == 0), \"dcs\"]\n",
    "# normal_t = df.loc[(df[\"name\"] == \"Malfunction_dataset_SONATA\") & (df[\"Label\"] == 0), \"t\"]\n",
    "# attack = df.loc[(df[\"name\"] == \"Malfunction_dataset_SONATA\") & (df[\"Label\"] == 1), \"dcs\"]\n",
    "# attack_t = df.loc[(df[\"name\"] == \"Malfunction_dataset_SONATA\") & (df[\"Label\"] == 1), \"t\"]\n",
    "plt.figure(figsize=(9.6, 1.4), dpi=200)\n",
    "plt.gca().yaxis.set_major_formatter(StrMethodFormatter('{x:,.1f}'))\n",
    "plt.scatter(x=normal_t, y=normal*1000, s=0.5, label=\"Normal\")\n",
    "plt.scatter(x=attack_t, y=attack*1000, s=0.5, c=\"red\", label=\"Attack\")\n",
    "\n",
    "# plt.ylim(0, 10)\n",
    "\n",
    "plt.xlabel(\"Elapsed time (s)\")\n",
    "plt.ylabel(\"$\\Delta$ t (µs)\")\n",
    "plt.legend(markerscale=8, loc=\"upper right\")\n",
    "# plt.title(\"Chevrolet Spark\")\n",
    "\n",
    "plt.show()\n",
    "\n",
    "# plt.savefig(\"ROAD_correlated_signal_attack_1_dt.png\")"
   ]
  },
  {
   "cell_type": "markdown",
   "id": "2fd1dc1b",
   "metadata": {},
   "source": [
    "Look at dt_IDs"
   ]
  },
  {
   "cell_type": "code",
   "execution_count": null,
   "id": "bbe9c706",
   "metadata": {},
   "outputs": [
    {
     "data": {
      "image/png": "[encoded data removed]",
      "text/plain": [
       "<Figure size 432x288 with 1 Axes>"
      ]
     },
     "metadata": {
      "needs_background": "light"
     },
     "output_type": "display_data"
    }
   ],
   "source": [
    "plt.hist(\n",
    "    x=[\n",
    "        df.loc[df[\"Label\"] == 0, \"dt\"],\n",
    "        df.loc[df[\"type\"] == \"masq\", \"dt\"],\n",
    "        df.loc[df[\"type\"] == \"fuzz\", \"dt\"],\n",
    "        df.loc[df[\"type\"] == \"fabr\", \"dt\"]\n",
    "    ],\n",
    "    bins=100,\n",
    "    range=(0, 0.01),\n",
    "    color=[\"tab:blue\", \"tab:red\", \"tab:green\", \"tab:purple\"],\n",
    "    log=True,\n",
    "    label=[\"Normal\", \"masq\", \"fuzz\", \"fabr\"], histtype=\"step\"\n",
    ")\n",
    "plt.legend()\n",
    "plt.xlabel(\"Time between packets with the same ID\\n(Divided into 100 steps)\")\n",
    "plt.ylabel(\"Number of CAN frames\")\n",
    "# plt.hist(df.loc[df[\"Label\"] == 1, \"dt_ID\"], bins=30, range=(0, 50), color=\"tab:red\", log=True, rwidth=0.5)\n",
    "plt.show()"
   ]
  },
  {
   "cell_type": "markdown",
   "id": "f233a90b",
   "metadata": {},
   "source": [
    "Measure the occurence of IDs in the normal data"
   ]
  },
  {
   "cell_type": "code",
   "execution_count": null,
   "id": "77f719f0",
   "metadata": {},
   "outputs": [
    {
     "data": {
      "image/png": "[encoded data removed]",
      "text/plain": [
       "<Figure size 432x288 with 1 Axes>"
      ]
     },
     "metadata": {
      "needs_background": "light"
     },
     "output_type": "display_data"
    },
    {
     "name": "stdout",
     "output_type": "stream",
     "text": [
      "30.061299800872803\n"
     ]
    }
   ],
   "source": [
    "types, types_count = np.unique(df.loc[df[\"Label\"] == 0, \"ID\"], return_counts=True)\n",
    "t_dt = []\n",
    "for t in types:\n",
    "    t_dt.append(df.loc[(df[\"ID\"] == t) & (df[\"Label\"] == 0), \"dt_ID\"].mean())\n",
    "plt.bar(x=types, height=t_dt)#, log=True)\n",
    "plt.show()\n",
    "print(df[\"dt_ID\"].max())"
   ]
  },
  {
   "cell_type": "markdown",
   "id": "4090211e",
   "metadata": {},
   "source": [
    "Drop a few columns<br>\n",
    "The data fields are dropped because there are different standards for each car manufacturers<br>\n",
    "on how to use the bytes in the payload of the CAN frame.<br>\n",
    "The ID is dropped for the same reason as the data fields; manufacturers use different high level protocols<br>\n",
    "to encode the ID field in their vehicles. Also, some datasets obfuscate their data.\n",
    "DLC is dropped because it does not exist in all datasets.<br>\n",
    "t is dropped because the absolute timestamps will not give much information, because<br>\n",
    "data dathered on different times will vary a lot. The delta time (dt) is better in this regard.<br>"
   ]
  },
  {
   "cell_type": "code",
   "execution_count": null,
   "id": "a4422006",
   "metadata": {},
   "outputs": [
    {
     "data": {
      "text/html": [
       "<div>\n",
       "<style scoped>\n",
       "    .dataframe tbody tr th:only-of-type {\n",
       "        vertical-align: middle;\n",
       "    }\n",
       "\n",
       "    .dataframe tbody tr th {\n",
       "        vertical-align: top;\n",
       "    }\n",
       "\n",
       "    .dataframe thead th {\n",
       "        text-align: right;\n",
       "    }\n",
       "</style>\n",
       "<table border=\"1\" class=\"dataframe\">\n",
       "  <thead>\n",
       "    <tr style=\"text-align: right;\">\n",
       "      <th></th>\n",
       "      <th>dt</th>\n",
       "      <th>dt_ID</th>\n",
       "      <th>dataset</th>\n",
       "      <th>type</th>\n",
       "      <th>Label</th>\n",
       "    </tr>\n",
       "  </thead>\n",
       "  <tbody>\n",
       "    <tr>\n",
       "      <th>0</th>\n",
       "      <td>4.073523e-04</td>\n",
       "      <td>0.009999</td>\n",
       "      <td>ROAD</td>\n",
       "      <td>none</td>\n",
       "      <td>0</td>\n",
       "    </tr>\n",
       "    <tr>\n",
       "      <th>1</th>\n",
       "      <td>1.019955e-03</td>\n",
       "      <td>0.009999</td>\n",
       "      <td>ROAD</td>\n",
       "      <td>none</td>\n",
       "      <td>0</td>\n",
       "    </tr>\n",
       "    <tr>\n",
       "      <th>2</th>\n",
       "      <td>1.072884e-06</td>\n",
       "      <td>0.019998</td>\n",
       "      <td>ROAD</td>\n",
       "      <td>none</td>\n",
       "      <td>0</td>\n",
       "    </tr>\n",
       "    <tr>\n",
       "      <th>3</th>\n",
       "      <td>2.026558e-06</td>\n",
       "      <td>0.009999</td>\n",
       "      <td>ROAD</td>\n",
       "      <td>none</td>\n",
       "      <td>0</td>\n",
       "    </tr>\n",
       "    <tr>\n",
       "      <th>4</th>\n",
       "      <td>9.536743e-07</td>\n",
       "      <td>0.009998</td>\n",
       "      <td>ROAD</td>\n",
       "      <td>none</td>\n",
       "      <td>0</td>\n",
       "    </tr>\n",
       "    <tr>\n",
       "      <th>...</th>\n",
       "      <td>...</td>\n",
       "      <td>...</td>\n",
       "      <td>...</td>\n",
       "      <td>...</td>\n",
       "      <td>...</td>\n",
       "    </tr>\n",
       "    <tr>\n",
       "      <th>3266459</th>\n",
       "      <td>1.192093e-06</td>\n",
       "      <td>0.050870</td>\n",
       "      <td>ROAD</td>\n",
       "      <td>none</td>\n",
       "      <td>0</td>\n",
       "    </tr>\n",
       "    <tr>\n",
       "      <th>3266460</th>\n",
       "      <td>9.977818e-04</td>\n",
       "      <td>0.019898</td>\n",
       "      <td>ROAD</td>\n",
       "      <td>none</td>\n",
       "      <td>0</td>\n",
       "    </tr>\n",
       "    <tr>\n",
       "      <th>3266461</th>\n",
       "      <td>2.145767e-06</td>\n",
       "      <td>0.010723</td>\n",
       "      <td>ROAD</td>\n",
       "      <td>none</td>\n",
       "      <td>0</td>\n",
       "    </tr>\n",
       "    <tr>\n",
       "      <th>3266462</th>\n",
       "      <td>9.536743e-07</td>\n",
       "      <td>0.025351</td>\n",
       "      <td>ROAD</td>\n",
       "      <td>none</td>\n",
       "      <td>0</td>\n",
       "    </tr>\n",
       "    <tr>\n",
       "      <th>3266463</th>\n",
       "      <td>9.536743e-07</td>\n",
       "      <td>0.009729</td>\n",
       "      <td>ROAD</td>\n",
       "      <td>none</td>\n",
       "      <td>0</td>\n",
       "    </tr>\n",
       "  </tbody>\n",
       "</table>\n",
       "<p>3266464 rows × 5 columns</p>\n",
       "</div>"
      ],
      "text/plain": [
       "                   dt     dt_ID dataset  type  Label\n",
       "0        4.073523e-04  0.009999    ROAD  none      0\n",
       "1        1.019955e-03  0.009999    ROAD  none      0\n",
       "2        1.072884e-06  0.019998    ROAD  none      0\n",
       "3        2.026558e-06  0.009999    ROAD  none      0\n",
       "4        9.536743e-07  0.009998    ROAD  none      0\n",
       "...               ...       ...     ...   ...    ...\n",
       "3266459  1.192093e-06  0.050870    ROAD  none      0\n",
       "3266460  9.977818e-04  0.019898    ROAD  none      0\n",
       "3266461  2.145767e-06  0.010723    ROAD  none      0\n",
       "3266462  9.536743e-07  0.025351    ROAD  none      0\n",
       "3266463  9.536743e-07  0.009729    ROAD  none      0\n",
       "\n",
       "[3266464 rows x 5 columns]"
      ]
     },
     "metadata": {},
     "output_type": "display_data"
    }
   ],
   "source": [
    "df.drop(columns=[\"d0\", \"d1\", \"d2\", \"d3\", \"d4\", \"d5\", \"d6\", \"d7\", \"ID\", \"DLC\", \"t\"], inplace=True, errors=\"ignore\")\n",
    "\n",
    "display(df)"
   ]
  },
  {
   "cell_type": "markdown",
   "id": "62a8ce46",
   "metadata": {},
   "source": [
    "Perform a Chi Squared test to see if there are any features that aren't dependent on the classification label, \"Label\"."
   ]
  },
  {
   "cell_type": "code",
   "execution_count": null,
   "id": "2730c0b9",
   "metadata": {},
   "outputs": [
    {
     "ename": "ValueError",
     "evalue": "at least one array or dtype is required",
     "output_type": "error",
     "traceback": [
      "\u001b[0;31m---------------------------------------------------------------------------\u001b[0m",
      "\u001b[0;31mValueError\u001b[0m                                Traceback (most recent call last)",
      "\u001b[1;32m/home/hampus/miun/master_thesis/python/ml-classify/ml_classify/main-notebook.ipynb Cell 12'\u001b[0m in \u001b[0;36m<module>\u001b[0;34m\u001b[0m\n\u001b[1;32m      <a href='vscode-notebook-cell:/home/hampus/miun/master_thesis/python/ml-classify/ml_classify/main-notebook.ipynb#ch0000011?line=2'>3</a>\u001b[0m X_chi \u001b[39m=\u001b[39m df\u001b[39m.\u001b[39mdrop(columns\u001b[39m=\u001b[39m[\u001b[39m\"\u001b[39m\u001b[39mdt\u001b[39m\u001b[39m\"\u001b[39m ,\u001b[39m\"\u001b[39m\u001b[39mdt_ID\u001b[39m\u001b[39m\"\u001b[39m, \u001b[39m\"\u001b[39m\u001b[39mtype\u001b[39m\u001b[39m\"\u001b[39m, \u001b[39m\"\u001b[39m\u001b[39mdataset\u001b[39m\u001b[39m\"\u001b[39m, \u001b[39m\"\u001b[39m\u001b[39mLabel\u001b[39m\u001b[39m\"\u001b[39m])\n\u001b[1;32m      <a href='vscode-notebook-cell:/home/hampus/miun/master_thesis/python/ml-classify/ml_classify/main-notebook.ipynb#ch0000011?line=3'>4</a>\u001b[0m y_chi \u001b[39m=\u001b[39m df[\u001b[39m\"\u001b[39m\u001b[39mLabel\u001b[39m\u001b[39m\"\u001b[39m]\n\u001b[0;32m----> <a href='vscode-notebook-cell:/home/hampus/miun/master_thesis/python/ml-classify/ml_classify/main-notebook.ipynb#ch0000011?line=4'>5</a>\u001b[0m chi_scores \u001b[39m=\u001b[39m chi2(X_chi, y_chi)\n\u001b[1;32m      <a href='vscode-notebook-cell:/home/hampus/miun/master_thesis/python/ml-classify/ml_classify/main-notebook.ipynb#ch0000011?line=5'>6</a>\u001b[0m p_values \u001b[39m=\u001b[39m chi_scores[\u001b[39m1\u001b[39m]\n\u001b[1;32m      <a href='vscode-notebook-cell:/home/hampus/miun/master_thesis/python/ml-classify/ml_classify/main-notebook.ipynb#ch0000011?line=6'>7</a>\u001b[0m \u001b[39mprint\u001b[39m(p_values)\n",
      "File \u001b[0;32m~/.cache/pypoetry/virtualenvs/ml-classify-pJEs0r8S-py3.8/lib/python3.8/site-packages/sklearn/feature_selection/_univariate_selection.py:213\u001b[0m, in \u001b[0;36mchi2\u001b[0;34m(X, y)\u001b[0m\n\u001b[1;32m    <a href='file:///home/hampus/.cache/pypoetry/virtualenvs/ml-classify-pJEs0r8S-py3.8/lib/python3.8/site-packages/sklearn/feature_selection/_univariate_selection.py?line=170'>171</a>\u001b[0m \u001b[39m\"\"\"Compute chi-squared stats between each non-negative feature and class.\u001b[39;00m\n\u001b[1;32m    <a href='file:///home/hampus/.cache/pypoetry/virtualenvs/ml-classify-pJEs0r8S-py3.8/lib/python3.8/site-packages/sklearn/feature_selection/_univariate_selection.py?line=171'>172</a>\u001b[0m \n\u001b[1;32m    <a href='file:///home/hampus/.cache/pypoetry/virtualenvs/ml-classify-pJEs0r8S-py3.8/lib/python3.8/site-packages/sklearn/feature_selection/_univariate_selection.py?line=172'>173</a>\u001b[0m \u001b[39mThis score can be used to select the n_features features with the\u001b[39;00m\n\u001b[0;32m   (...)\u001b[0m\n\u001b[1;32m    <a href='file:///home/hampus/.cache/pypoetry/virtualenvs/ml-classify-pJEs0r8S-py3.8/lib/python3.8/site-packages/sklearn/feature_selection/_univariate_selection.py?line=207'>208</a>\u001b[0m \u001b[39mf_regression : F-value between label/feature for regression tasks.\u001b[39;00m\n\u001b[1;32m    <a href='file:///home/hampus/.cache/pypoetry/virtualenvs/ml-classify-pJEs0r8S-py3.8/lib/python3.8/site-packages/sklearn/feature_selection/_univariate_selection.py?line=208'>209</a>\u001b[0m \u001b[39m\"\"\"\u001b[39;00m\n\u001b[1;32m    <a href='file:///home/hampus/.cache/pypoetry/virtualenvs/ml-classify-pJEs0r8S-py3.8/lib/python3.8/site-packages/sklearn/feature_selection/_univariate_selection.py?line=210'>211</a>\u001b[0m \u001b[39m# XXX: we might want to do some of the following in logspace instead for\u001b[39;00m\n\u001b[1;32m    <a href='file:///home/hampus/.cache/pypoetry/virtualenvs/ml-classify-pJEs0r8S-py3.8/lib/python3.8/site-packages/sklearn/feature_selection/_univariate_selection.py?line=211'>212</a>\u001b[0m \u001b[39m# numerical stability.\u001b[39;00m\n\u001b[0;32m--> <a href='file:///home/hampus/.cache/pypoetry/virtualenvs/ml-classify-pJEs0r8S-py3.8/lib/python3.8/site-packages/sklearn/feature_selection/_univariate_selection.py?line=212'>213</a>\u001b[0m X \u001b[39m=\u001b[39m check_array(X, accept_sparse\u001b[39m=\u001b[39;49m\u001b[39m\"\u001b[39;49m\u001b[39mcsr\u001b[39;49m\u001b[39m\"\u001b[39;49m)\n\u001b[1;32m    <a href='file:///home/hampus/.cache/pypoetry/virtualenvs/ml-classify-pJEs0r8S-py3.8/lib/python3.8/site-packages/sklearn/feature_selection/_univariate_selection.py?line=213'>214</a>\u001b[0m \u001b[39mif\u001b[39;00m np\u001b[39m.\u001b[39many((X\u001b[39m.\u001b[39mdata \u001b[39mif\u001b[39;00m issparse(X) \u001b[39melse\u001b[39;00m X) \u001b[39m<\u001b[39m \u001b[39m0\u001b[39m):\n\u001b[1;32m    <a href='file:///home/hampus/.cache/pypoetry/virtualenvs/ml-classify-pJEs0r8S-py3.8/lib/python3.8/site-packages/sklearn/feature_selection/_univariate_selection.py?line=214'>215</a>\u001b[0m     \u001b[39mraise\u001b[39;00m \u001b[39mValueError\u001b[39;00m(\u001b[39m\"\u001b[39m\u001b[39mInput X must be non-negative.\u001b[39m\u001b[39m\"\u001b[39m)\n",
      "File \u001b[0;32m~/.cache/pypoetry/virtualenvs/ml-classify-pJEs0r8S-py3.8/lib/python3.8/site-packages/sklearn/utils/validation.py:665\u001b[0m, in \u001b[0;36mcheck_array\u001b[0;34m(array, accept_sparse, accept_large_sparse, dtype, order, copy, force_all_finite, ensure_2d, allow_nd, ensure_min_samples, ensure_min_features, estimator)\u001b[0m\n\u001b[1;32m    <a href='file:///home/hampus/.cache/pypoetry/virtualenvs/ml-classify-pJEs0r8S-py3.8/lib/python3.8/site-packages/sklearn/utils/validation.py?line=661'>662</a>\u001b[0m                     has_pd_integer_array \u001b[39m=\u001b[39m \u001b[39mTrue\u001b[39;00m\n\u001b[1;32m    <a href='file:///home/hampus/.cache/pypoetry/virtualenvs/ml-classify-pJEs0r8S-py3.8/lib/python3.8/site-packages/sklearn/utils/validation.py?line=663'>664</a>\u001b[0m     \u001b[39mif\u001b[39;00m \u001b[39mall\u001b[39m(\u001b[39misinstance\u001b[39m(dtype, np\u001b[39m.\u001b[39mdtype) \u001b[39mfor\u001b[39;00m dtype \u001b[39min\u001b[39;00m dtypes_orig):\n\u001b[0;32m--> <a href='file:///home/hampus/.cache/pypoetry/virtualenvs/ml-classify-pJEs0r8S-py3.8/lib/python3.8/site-packages/sklearn/utils/validation.py?line=664'>665</a>\u001b[0m         dtype_orig \u001b[39m=\u001b[39m np\u001b[39m.\u001b[39;49mresult_type(\u001b[39m*\u001b[39;49mdtypes_orig)\n\u001b[1;32m    <a href='file:///home/hampus/.cache/pypoetry/virtualenvs/ml-classify-pJEs0r8S-py3.8/lib/python3.8/site-packages/sklearn/utils/validation.py?line=666'>667</a>\u001b[0m \u001b[39mif\u001b[39;00m dtype_numeric:\n\u001b[1;32m    <a href='file:///home/hampus/.cache/pypoetry/virtualenvs/ml-classify-pJEs0r8S-py3.8/lib/python3.8/site-packages/sklearn/utils/validation.py?line=667'>668</a>\u001b[0m     \u001b[39mif\u001b[39;00m dtype_orig \u001b[39mis\u001b[39;00m \u001b[39mnot\u001b[39;00m \u001b[39mNone\u001b[39;00m \u001b[39mand\u001b[39;00m dtype_orig\u001b[39m.\u001b[39mkind \u001b[39m==\u001b[39m \u001b[39m\"\u001b[39m\u001b[39mO\u001b[39m\u001b[39m\"\u001b[39m:\n\u001b[1;32m    <a href='file:///home/hampus/.cache/pypoetry/virtualenvs/ml-classify-pJEs0r8S-py3.8/lib/python3.8/site-packages/sklearn/utils/validation.py?line=668'>669</a>\u001b[0m         \u001b[39m# if input is object, convert to float.\u001b[39;00m\n",
      "File \u001b[0;32m<__array_function__ internals>:180\u001b[0m, in \u001b[0;36mresult_type\u001b[0;34m(*args, **kwargs)\u001b[0m\n",
      "\u001b[0;31mValueError\u001b[0m: at least one array or dtype is required"
     ]
    }
   ],
   "source": [
    "# Use a dataframe without \"type\", as it is categorical and will not be used to train later\n",
    "# Drop dt and dt_ID as they are not categorical\n",
    "X_chi = df.drop(columns=[\"dt\" ,\"dt_ID\", \"type\", \"dataset\", \"Label\"])\n",
    "y_chi = df[\"Label\"]\n",
    "chi_scores = chi2(X_chi, y_chi)\n",
    "p_values = chi_scores[1]\n",
    "print(p_values)\n",
    "plt.bar(x=X_chi.columns, height=p_values)\n",
    "plt.show()\n",
    "X_chi = None # Release memory\n",
    "y_chi = None"
   ]
  },
  {
   "cell_type": "markdown",
   "id": "f6fb40fc",
   "metadata": {},
   "source": [
    "I believe this means there is not sufficient evidence to disprove the null hypothesis (i.e. that features are independent of class label)."
   ]
  },
  {
   "cell_type": "markdown",
   "id": "5bf66664",
   "metadata": {},
   "source": [
    "We can also check the correlation between the features:"
   ]
  },
  {
   "cell_type": "code",
   "execution_count": null,
   "id": "411bc160",
   "metadata": {},
   "outputs": [
    {
     "data": {
      "image/png": "[encoded data removed]",
      "text/plain": [
       "<Figure size 432x288 with 2 Axes>"
      ]
     },
     "metadata": {
      "needs_background": "light"
     },
     "output_type": "display_data"
    }
   ],
   "source": [
    "# Compute the correlation matrix\n",
    "corr = df.drop(columns=[\"dataset\", \"type\"]).corr()\n",
    "\n",
    "# Drop first row and last column that don't provide information\n",
    "corr.drop(index=corr.index[0], inplace=True)\n",
    "corr.drop(columns=corr.columns[-1], inplace=True)\n",
    "\n",
    "# Generate a mask for the upper triangle but not the diagonal\n",
    "mask = np.triu(np.ones_like(corr, dtype=bool))\n",
    "np.fill_diagonal(mask, False)\n",
    "\n",
    "# Draw the correlation heatmap with the mask\n",
    "def tostr(num):\n",
    "    if isinstance(num, str): return num\n",
    "    if num < 0: return str(num)[:5]\n",
    "    return str(num)[:4]\n",
    "def remove_nocorr(corr):\n",
    "    annot = corr.copy()\n",
    "    annot.where(np.abs(annot) > 0.1, \" \", inplace=True)\n",
    "    annot = annot.applymap(tostr)\n",
    "    return annot\n",
    "annots = remove_nocorr(corr)\n",
    "\n",
    "sns.heatmap(corr, mask=mask, vmin=-1, vmax=1, center=0, annot=annots, annot_kws={\"fontsize\": 8}, fmt=\"s\", square=True)\n",
    "plt.show()"
   ]
  },
  {
   "cell_type": "markdown",
   "id": "f864782c",
   "metadata": {},
   "source": [
    "We will now see if the dataset is imbalanced, and also how we should stratify when creating the training and test sets.<br>\n",
    "Stratification makes sure that there is the same proportion of a class in both the training and test sets.<br>\n",
    "If the whole dataset contains 1% of one class and 99% of another, then the training and test sets will also have that proportion.<br>\n",
    "We begin by looking at the proportion of Normal vs Attack instances:"
   ]
  },
  {
   "cell_type": "code",
   "execution_count": null,
   "id": "4fb897c5",
   "metadata": {},
   "outputs": [
    {
     "data": {
      "image/png": "[encoded data removed]",
      "text/plain": [
       "<Figure size 432x288 with 1 Axes>"
      ]
     },
     "metadata": {
      "needs_background": "light"
     },
     "output_type": "display_data"
    }
   ],
   "source": [
    "plt.bar(x=[\"Normal\", \"Attack\"], height=np.bincount(df[\"Label\"]), color=[\"tab:blue\", \"tab:red\"])\n",
    "plt.show()"
   ]
  },
  {
   "cell_type": "markdown",
   "id": "63d785bb",
   "metadata": {},
   "source": [
    "Next, we look at the proportion of the different types of attacks:"
   ]
  },
  {
   "cell_type": "code",
   "execution_count": null,
   "id": "7084bbcd",
   "metadata": {},
   "outputs": [
    {
     "data": {
      "image/png": "[encoded data removed]",
      "text/plain": [
       "<Figure size 432x288 with 1 Axes>"
      ]
     },
     "metadata": {
      "needs_background": "light"
     },
     "output_type": "display_data"
    }
   ],
   "source": [
    "types, types_count = np.unique(df.loc[df[\"type\"] != \"none\", \"type\"], return_counts=True)\n",
    "plt.bar(x=types, height=types_count, color=[\"tab:green\", \"tab:red\", \"tab:orange\", \"tab:blue\"])\n",
    "plt.show()"
   ]
  },
  {
   "cell_type": "markdown",
   "id": "b163b7ca",
   "metadata": {},
   "source": [
    "It can be seen that there are different amounts of attack types in the dataset.<br>\n",
    "We want the proportion to be the same after splitting into training and testing data."
   ]
  },
  {
   "cell_type": "markdown",
   "id": "330800c6",
   "metadata": {},
   "source": [
    "Visualize the distribution of attack instances by ones counted."
   ]
  },
  {
   "cell_type": "code",
   "execution_count": null,
   "id": "0711fc94",
   "metadata": {},
   "outputs": [
    {
     "data": {
      "image/png": "[encoded data removed]",
      "text/plain": [
       "<Figure size 432x288 with 1 Axes>"
      ]
     },
     "metadata": {
      "needs_background": "light"
     },
     "output_type": "display_data"
    }
   ],
   "source": [
    "# d_temp = pd.concat([X_train, y_train], axis=\"columns\")\n",
    "size = len(df.loc[df[\"Label\"] == 1].index)\n",
    "ones_prob = [[], [], []]\n",
    "# zeros_prob = []\n",
    "for i in range(65):\n",
    "    # zeros_prob.append(len(d_temp.loc[(d_temp[\"Label\"] == 0) & (d_temp[\"ones\"] == i)].index) / size)\n",
    "\n",
    "    prob_flood = len(df.loc[(df[\"Label\"] == 1) & (df[\"ones\"] == i) & (df[\"type\"] == \"masq\")].index) / size\n",
    "    prob_fuzz = len(df.loc[(df[\"Label\"] == 1) & (df[\"ones\"] == i) & (df[\"type\"] == \"fuzz\")].index) / size\n",
    "    prob_fabr = len(df.loc[(df[\"Label\"] == 1) & (df[\"ones\"] == i) & (df[\"type\"] == \"fabr\")].index) / size\n",
    "    ones_prob[0].append(prob_flood)\n",
    "    ones_prob[1].append(prob_fuzz)\n",
    "    ones_prob[2].append(prob_fabr)\n",
    "\n",
    "\n",
    "# zeros_prob = pd.Series(zeros_prob)\n",
    "ones_prob = pd.Series(ones_prob)\n",
    "# sns.lineplot(data=ones_prob)\n",
    "\n",
    "# plt.bar(x=range(0, 65), height=zeros_prob)\n",
    "plt.bar(x=range(0, 65), height=ones_prob[0], color=\"tab:red\")\n",
    "plt.bar(x=range(0, 65), height=ones_prob[1], color=\"tab:green\")\n",
    "plt.bar(x=range(0, 65), height=ones_prob[2], color=\"tab:orange\")\n",
    "plt.legend(labels=[\"Flooding\", \"Fuzzing\", \"Fabrication\"])\n",
    "plt.xlabel(\"Number of ones counted\")\n",
    "plt.ylabel(\"% of attack observations (Label = 1)\")\n",
    "plt.show()"
   ]
  },
  {
   "cell_type": "markdown",
   "id": "4d8d56e7",
   "metadata": {},
   "source": [
    "It shows that in the flooding attack, there is never any ones, and it makes up almost 50% of all attacks.<br>\n",
    "It also shows that the fuzzing attack is randomly generating payloads (as is stated in the paper as well), and since there is a higher chance that a payload will have a one count of 32 (by binomial distribution) the distribution looks the way it does.<br>\n",
    "It shows that the fabrication attacks have 20 ones, 29 ones or randomly chose (it is the same as fuzzing, just smaller so is not seen well on the graph, but it is seen if plotted separately.).<br>\n",
    "It shows that 50% of the attacks contain no ones in the payload, so you will catch many attacks going just on that!\n",
    "Moreover, these attacks have clear patterns by how many ones they contain, as they are either a Specific value (0, 20 or 29).. or... binomially distributed."
   ]
  },
  {
   "cell_type": "markdown",
   "id": "bbcce076",
   "metadata": {},
   "source": [
    "Create the training and test data (with stratification on the type of attack)"
   ]
  },
  {
   "cell_type": "code",
   "execution_count": null,
   "id": "f7d2c415",
   "metadata": {},
   "outputs": [],
   "source": [
    "X_train = df.drop(columns=\"type\")\n",
    "y_train = df[\"type\"]\n",
    "\n",
    "df = None # Release memory\n",
    "\n",
    "# Split dataset into training and test data, stratify by the type of attack\n",
    "X_train, X_test, y_train, y_test = train_test_split(X_train, y_train, test_size=0.3, random_state=0, shuffle=True, stratify=y_train)\n",
    "\n",
    "# # Under-sample on type\n",
    "# rus = RandomUnderSampler(random_state=0)\n",
    "# X_train, y_train = rus.fit_resample(X_train, y_train)\n",
    "\n",
    "# Use feature \"Label\" as classification label\n",
    "d_temp: pd.DataFrame = pd.concat([X_train, y_train], axis=\"columns\")\n",
    "X_train, y_train = d_temp.drop(columns=\"Label\"), d_temp[\"Label\"]\n",
    "d_temp: pd.DataFrame = pd.concat([X_test, y_test], axis=\"columns\")\n",
    "X_test, y_test = d_temp.drop(columns=\"Label\"), d_temp[\"Label\"]\n",
    "d_temp = None # Release memory"
   ]
  },
  {
   "cell_type": "markdown",
   "id": "7d3e38bb",
   "metadata": {},
   "source": [
    "Now, we can look at the proportions again (in the Training data):"
   ]
  },
  {
   "cell_type": "code",
   "execution_count": null,
   "id": "140f4e69",
   "metadata": {},
   "outputs": [
    {
     "data": {
      "image/png": "[encoded data removed]",
      "text/plain": [
       "<Figure size 432x288 with 1 Axes>"
      ]
     },
     "metadata": {
      "needs_background": "light"
     },
     "output_type": "display_data"
    }
   ],
   "source": [
    "types, types_count = np.unique(X_train.loc[X_train[\"type\"] != \"none\", \"type\"], return_counts=True)\n",
    "plt.bar(x=types, height=types_count, color=[\"tab:orange\", \"tab:red\", \"tab:green\", \"tab:blue\"])\n",
    "plt.show()"
   ]
  },
  {
   "cell_type": "markdown",
   "id": "00a97c37",
   "metadata": {},
   "source": [
    "Under-sample the training set by the majority class (no attack, 0). The test set can be left imbalanced, as real world data can also be imbalanced."
   ]
  },
  {
   "cell_type": "code",
   "execution_count": null,
   "id": "54d6cef7",
   "metadata": {},
   "outputs": [
    {
     "name": "stdout",
     "output_type": "stream",
     "text": [
      "Labels\t\tTraining\tTesting\n",
      "Normal\t\t128320\t\t465758\n",
      "Attack\t\t128320\t\t54994\n"
     ]
    }
   ],
   "source": [
    "rus = RandomUnderSampler(random_state=0)\n",
    "X_train, y_train = rus.fit_resample(X_train, y_train)\n",
    "bintr = np.bincount(y_train)\n",
    "binte = np.bincount(y_test)\n",
    "print(f\"Labels\\t\\tTraining\\tTesting\\nNormal\\t\\t{bintr[0]}\\t\\t{binte[0]}\\nAttack\\t\\t{bintr[1]}\\t\\t{binte[1]}\")"
   ]
  }
 ],
 "metadata": {
  "interpreter": {
   "hash": "4cc1c01a394bbc3d069051c289161a3236732c38d026dbad3d7b5639e0cadb70"
  },
  "kernelspec": {
   "display_name": "Python 3.8.10 ('ml-classify-pJEs0r8S-py3.8')",
   "language": "python",
   "name": "python3"
  },
  "language_info": {
   "codemirror_mode": {
    "name": "ipython",
    "version": 3
   },
   "file_extension": ".py",
   "mimetype": "text/x-python",
   "name": "python",
   "nbconvert_exporter": "python",
   "pygments_lexer": "ipython3",
   "version": "3.8.10"
  }
 },
 "nbformat": 4,
 "nbformat_minor": 5
}
