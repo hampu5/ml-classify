{
 "cells": [
  {
   "cell_type": "markdown",
   "id": "d3e30535",
   "metadata": {},
   "source": [
    "<h2>Adding imports</h2>"
   ]
  },
  {
   "cell_type": "code",
   "execution_count": 1,
   "id": "4dc13c5b",
   "metadata": {},
   "outputs": [],
   "source": [
    "from timeit import timeit\n",
    "from IPython.display import display\n",
    "import matplotlib\n",
    "# matplotlib.use(\"pgf\")\n",
    "from matplotlib import pyplot as plt\n",
    "import pandas as pd\n",
    "from pandas.plotting import scatter_matrix\n",
    "import numpy as np\n",
    "from collections import Counter\n",
    "from sklearn.feature_selection import SelectKBest, chi2\n",
    "from sklearn.metrics import cohen_kappa_score, confusion_matrix, f1_score\n",
    "from sklearn.model_selection import cross_val_score, train_test_split\n",
    "from joblib import dump, load\n",
    "from imblearn.under_sampling import RandomUnderSampler\n",
    "import shap\n",
    "import seaborn as sns"
   ]
  },
  {
   "cell_type": "markdown",
   "id": "916b02cd",
   "metadata": {},
   "source": [
    "Open the dataset<br>\n",
    "The compile_dataset() function reads the dataset from file.<br>\n",
    "The original datasets contain these features:<br>\n",
    "timestamp/t (absolute), ID, DLC (some don't have this), data field 0, ..., data field 7, Label.<br>\n",
    "While compiling the dataset from the loaded files, new features are created.<br>\n",
    "From the timestamp, \"dt\" is created, and from timestamp and ID, \"dt_ID\" is created.<br>\n",
    "dt is the time between each CAN frame. dt_ID is the time between each CAN frame with the same ID.<br>\n",
    "From data field 0, ..., data field 7, \"ones\" is created, and from ID, \"ones_ID\" is created.<br>\n",
    "ones is the number of ones counted in the binary payload (combined data fields) for each CAN frame,<br>\n",
    "and ones_ID is the number of ones counted in the ID for each CAN frame.<br>\n",
    "Another feature, \"type\" is also added, which denotes the type of attack that a certain attack is.<br>\n",
    "For example, flooding (flood), and fuzzing (fuzz)."
   ]
  },
  {
   "cell_type": "code",
   "execution_count": 2,
   "id": "3266ffb9",
   "metadata": {},
   "outputs": [
    {
     "name": "stderr",
     "output_type": "stream",
     "text": [
      "2022-03-10 15:29:17.074808: W tensorflow/stream_executor/platform/default/dso_loader.cc:64] Could not load dynamic library 'libcudart.so.11.0'; dlerror: libcudart.so.11.0: cannot open shared object file: No such file or directory\n",
      "2022-03-10 15:29:17.074825: I tensorflow/stream_executor/cuda/cudart_stub.cc:29] Ignore above cudart dlerror if you do not have a GPU set up on your machine.\n",
      "2022-03-10 15:29:18.141724: I tensorflow/stream_executor/cuda/cuda_gpu_executor.cc:936] successful NUMA node read from SysFS had negative value (-1), but there must be at least one NUMA node, so returning NUMA node zero\n",
      "2022-03-10 15:29:18.142041: W tensorflow/stream_executor/platform/default/dso_loader.cc:64] Could not load dynamic library 'libcudart.so.11.0'; dlerror: libcudart.so.11.0: cannot open shared object file: No such file or directory\n",
      "2022-03-10 15:29:18.142089: W tensorflow/stream_executor/platform/default/dso_loader.cc:64] Could not load dynamic library 'libcublas.so.11'; dlerror: libcublas.so.11: cannot open shared object file: No such file or directory\n",
      "2022-03-10 15:29:18.142133: W tensorflow/stream_executor/platform/default/dso_loader.cc:64] Could not load dynamic library 'libcublasLt.so.11'; dlerror: libcublasLt.so.11: cannot open shared object file: No such file or directory\n",
      "2022-03-10 15:29:18.142175: W tensorflow/stream_executor/platform/default/dso_loader.cc:64] Could not load dynamic library 'libcufft.so.10'; dlerror: libcufft.so.10: cannot open shared object file: No such file or directory\n",
      "2022-03-10 15:29:18.142219: W tensorflow/stream_executor/platform/default/dso_loader.cc:64] Could not load dynamic library 'libcurand.so.10'; dlerror: libcurand.so.10: cannot open shared object file: No such file or directory\n",
      "2022-03-10 15:29:18.142262: W tensorflow/stream_executor/platform/default/dso_loader.cc:64] Could not load dynamic library 'libcusolver.so.11'; dlerror: libcusolver.so.11: cannot open shared object file: No such file or directory\n",
      "2022-03-10 15:29:18.142304: W tensorflow/stream_executor/platform/default/dso_loader.cc:64] Could not load dynamic library 'libcusparse.so.11'; dlerror: libcusparse.so.11: cannot open shared object file: No such file or directory\n",
      "2022-03-10 15:29:18.142348: W tensorflow/stream_executor/platform/default/dso_loader.cc:64] Could not load dynamic library 'libcudnn.so.8'; dlerror: libcudnn.so.8: cannot open shared object file: No such file or directory\n",
      "2022-03-10 15:29:18.142355: W tensorflow/core/common_runtime/gpu/gpu_device.cc:1850] Cannot dlopen some GPU libraries. Please make sure the missing libraries mentioned above are installed properly if you would like to use GPU. Follow the guide at https://www.tensorflow.org/install/gpu for how to download and setup the required libraries for your platform.\n",
      "Skipping registering GPU devices...\n",
      "2022-03-10 15:29:18.142539: I tensorflow/core/platform/cpu_feature_guard.cc:151] This TensorFlow binary is optimized with oneAPI Deep Neural Network Library (oneDNN) to use the following CPU instructions in performance-critical operations:  AVX2 FMA\n",
      "To enable them in other operations, rebuild TensorFlow with the appropriate compiler flags.\n"
     ]
    },
    {
     "data": {
      "text/html": [
       "<div>\n",
       "<style scoped>\n",
       "    .dataframe tbody tr th:only-of-type {\n",
       "        vertical-align: middle;\n",
       "    }\n",
       "\n",
       "    .dataframe tbody tr th {\n",
       "        vertical-align: top;\n",
       "    }\n",
       "\n",
       "    .dataframe thead th {\n",
       "        text-align: right;\n",
       "    }\n",
       "</style>\n",
       "<table border=\"1\" class=\"dataframe\">\n",
       "  <thead>\n",
       "    <tr style=\"text-align: right;\">\n",
       "      <th></th>\n",
       "      <th>t</th>\n",
       "      <th>ID</th>\n",
       "      <th>DLC</th>\n",
       "      <th>dt</th>\n",
       "      <th>dt_ID</th>\n",
       "      <th>ones</th>\n",
       "      <th>ones_ID</th>\n",
       "      <th>run_diff</th>\n",
       "      <th>run_diff_ID</th>\n",
       "      <th>dataset</th>\n",
       "      <th>type</th>\n",
       "      <th>Label</th>\n",
       "    </tr>\n",
       "  </thead>\n",
       "  <tbody>\n",
       "    <tr>\n",
       "      <th>0</th>\n",
       "      <td>0.000000</td>\n",
       "      <td>608</td>\n",
       "      <td>8</td>\n",
       "      <td>0.000444</td>\n",
       "      <td>0.009978</td>\n",
       "      <td>27</td>\n",
       "      <td>3</td>\n",
       "      <td>0.857143</td>\n",
       "      <td>0.500000</td>\n",
       "      <td>Survival</td>\n",
       "      <td>none</td>\n",
       "      <td>0</td>\n",
       "    </tr>\n",
       "    <tr>\n",
       "      <th>1</th>\n",
       "      <td>0.000232</td>\n",
       "      <td>672</td>\n",
       "      <td>8</td>\n",
       "      <td>0.000232</td>\n",
       "      <td>0.009977</td>\n",
       "      <td>20</td>\n",
       "      <td>3</td>\n",
       "      <td>0.818182</td>\n",
       "      <td>0.600000</td>\n",
       "      <td>Survival</td>\n",
       "      <td>none</td>\n",
       "      <td>0</td>\n",
       "    </tr>\n",
       "    <tr>\n",
       "      <th>2</th>\n",
       "      <td>0.000480</td>\n",
       "      <td>704</td>\n",
       "      <td>8</td>\n",
       "      <td>0.000248</td>\n",
       "      <td>0.009981</td>\n",
       "      <td>2</td>\n",
       "      <td>3</td>\n",
       "      <td>0.500000</td>\n",
       "      <td>0.500000</td>\n",
       "      <td>Survival</td>\n",
       "      <td>none</td>\n",
       "      <td>0</td>\n",
       "    </tr>\n",
       "    <tr>\n",
       "      <th>3</th>\n",
       "      <td>0.000714</td>\n",
       "      <td>809</td>\n",
       "      <td>8</td>\n",
       "      <td>0.000234</td>\n",
       "      <td>0.009978</td>\n",
       "      <td>21</td>\n",
       "      <td>5</td>\n",
       "      <td>0.857143</td>\n",
       "      <td>0.800000</td>\n",
       "      <td>Survival</td>\n",
       "      <td>none</td>\n",
       "      <td>0</td>\n",
       "    </tr>\n",
       "    <tr>\n",
       "      <th>4</th>\n",
       "      <td>0.000955</td>\n",
       "      <td>1349</td>\n",
       "      <td>8</td>\n",
       "      <td>0.000241</td>\n",
       "      <td>0.009978</td>\n",
       "      <td>7</td>\n",
       "      <td>5</td>\n",
       "      <td>0.800000</td>\n",
       "      <td>0.833333</td>\n",
       "      <td>Survival</td>\n",
       "      <td>none</td>\n",
       "      <td>0</td>\n",
       "    </tr>\n",
       "    <tr>\n",
       "      <th>...</th>\n",
       "      <td>...</td>\n",
       "      <td>...</td>\n",
       "      <td>...</td>\n",
       "      <td>...</td>\n",
       "      <td>...</td>\n",
       "      <td>...</td>\n",
       "      <td>...</td>\n",
       "      <td>...</td>\n",
       "      <td>...</td>\n",
       "      <td>...</td>\n",
       "      <td>...</td>\n",
       "      <td>...</td>\n",
       "    </tr>\n",
       "    <tr>\n",
       "      <th>1735835</th>\n",
       "      <td>59.573580</td>\n",
       "      <td>562</td>\n",
       "      <td>8</td>\n",
       "      <td>0.000248</td>\n",
       "      <td>0.020620</td>\n",
       "      <td>1</td>\n",
       "      <td>4</td>\n",
       "      <td>0.333333</td>\n",
       "      <td>0.600000</td>\n",
       "      <td>Survival</td>\n",
       "      <td>none</td>\n",
       "      <td>0</td>\n",
       "    </tr>\n",
       "    <tr>\n",
       "      <th>1735836</th>\n",
       "      <td>59.573815</td>\n",
       "      <td>398</td>\n",
       "      <td>8</td>\n",
       "      <td>0.000235</td>\n",
       "      <td>0.013305</td>\n",
       "      <td>18</td>\n",
       "      <td>5</td>\n",
       "      <td>0.857143</td>\n",
       "      <td>0.500000</td>\n",
       "      <td>Survival</td>\n",
       "      <td>none</td>\n",
       "      <td>0</td>\n",
       "    </tr>\n",
       "    <tr>\n",
       "      <th>1735837</th>\n",
       "      <td>59.574057</td>\n",
       "      <td>401</td>\n",
       "      <td>8</td>\n",
       "      <td>0.000242</td>\n",
       "      <td>0.013092</td>\n",
       "      <td>18</td>\n",
       "      <td>4</td>\n",
       "      <td>0.866667</td>\n",
       "      <td>0.750000</td>\n",
       "      <td>Survival</td>\n",
       "      <td>none</td>\n",
       "      <td>0</td>\n",
       "    </tr>\n",
       "    <tr>\n",
       "      <th>1735838</th>\n",
       "      <td>59.574492</td>\n",
       "      <td>199</td>\n",
       "      <td>4</td>\n",
       "      <td>0.000435</td>\n",
       "      <td>0.012329</td>\n",
       "      <td>5</td>\n",
       "      <td>5</td>\n",
       "      <td>0.600000</td>\n",
       "      <td>0.666667</td>\n",
       "      <td>Survival</td>\n",
       "      <td>none</td>\n",
       "      <td>0</td>\n",
       "    </tr>\n",
       "    <tr>\n",
       "      <th>1735839</th>\n",
       "      <td>59.574722</td>\n",
       "      <td>249</td>\n",
       "      <td>8</td>\n",
       "      <td>0.000230</td>\n",
       "      <td>0.012098</td>\n",
       "      <td>1</td>\n",
       "      <td>6</td>\n",
       "      <td>0.333333</td>\n",
       "      <td>0.666667</td>\n",
       "      <td>Survival</td>\n",
       "      <td>none</td>\n",
       "      <td>0</td>\n",
       "    </tr>\n",
       "  </tbody>\n",
       "</table>\n",
       "<p>1735840 rows × 12 columns</p>\n",
       "</div>"
      ],
      "text/plain": [
       "                 t    ID  DLC        dt     dt_ID  ones  ones_ID  run_diff  \\\n",
       "0         0.000000   608    8  0.000444  0.009978    27        3  0.857143   \n",
       "1         0.000232   672    8  0.000232  0.009977    20        3  0.818182   \n",
       "2         0.000480   704    8  0.000248  0.009981     2        3  0.500000   \n",
       "3         0.000714   809    8  0.000234  0.009978    21        5  0.857143   \n",
       "4         0.000955  1349    8  0.000241  0.009978     7        5  0.800000   \n",
       "...            ...   ...  ...       ...       ...   ...      ...       ...   \n",
       "1735835  59.573580   562    8  0.000248  0.020620     1        4  0.333333   \n",
       "1735836  59.573815   398    8  0.000235  0.013305    18        5  0.857143   \n",
       "1735837  59.574057   401    8  0.000242  0.013092    18        4  0.866667   \n",
       "1735838  59.574492   199    4  0.000435  0.012329     5        5  0.600000   \n",
       "1735839  59.574722   249    8  0.000230  0.012098     1        6  0.333333   \n",
       "\n",
       "         run_diff_ID   dataset  type  Label  \n",
       "0           0.500000  Survival  none      0  \n",
       "1           0.600000  Survival  none      0  \n",
       "2           0.500000  Survival  none      0  \n",
       "3           0.800000  Survival  none      0  \n",
       "4           0.833333  Survival  none      0  \n",
       "...              ...       ...   ...    ...  \n",
       "1735835     0.600000  Survival  none      0  \n",
       "1735836     0.500000  Survival  none      0  \n",
       "1735837     0.750000  Survival  none      0  \n",
       "1735838     0.666667  Survival  none      0  \n",
       "1735839     0.666667  Survival  none      0  \n",
       "\n",
       "[1735840 rows x 12 columns]"
      ]
     },
     "metadata": {},
     "output_type": "display_data"
    }
   ],
   "source": [
    "from compiledataset import load_dataset, compile_dataset\n",
    "\n",
    "PATH = \"/home/hampus/miun/master_thesis/Datasets\"\n",
    "\n",
    "datasets = {}\n",
    "\n",
    "dataset: pd.DataFrame = load_dataset(PATH + \"/ORNL\", \"data_a.csv\")\n",
    "dataset[\"remarks\"] = \"No DLC available\"\n",
    "datasets[\"ROAD\"] = dataset.to_dict(\"records\")\n",
    "\n",
    "# dataset: pd.DataFrame = load_dataset(PATH + \"/Survival\", \"data.csv\")\n",
    "# dataset[\"remarks\"] = \"-\"\n",
    "# datasets[\"Survival\"] = dataset.to_dict(\"records\")\n",
    "\n",
    "# dataset: pd.DataFrame = load_dataset(PATH + \"/Hisingen\", \"data.csv\")\n",
    "# dataset[\"remarks\"] = \"-\"\n",
    "# datasets[\"Hisingen\"] = dataset.to_dict(\"records\")\n",
    "\n",
    "\n",
    "df = compile_dataset(datasets)\n",
    "\n",
    "dataset = None # Release memory, as it isn't used for now\n",
    "datasets = None\n",
    "\n",
    "display(df)"
   ]
  },
  {
   "cell_type": "markdown",
   "id": "f233a90b",
   "metadata": {},
   "source": [
    "Measure the occurence of IDs in the normal data"
   ]
  },
  {
   "cell_type": "code",
   "execution_count": 3,
   "id": "77f719f0",
   "metadata": {},
   "outputs": [
    {
     "data": {
      "image/png": "[encoded data removed]",
      "text/plain": [
       "<Figure size 432x288 with 1 Axes>"
      ]
     },
     "metadata": {
      "needs_background": "light"
     },
     "output_type": "display_data"
    },
    {
     "name": "stdout",
     "output_type": "stream",
     "text": [
      "40.5793240070343\n"
     ]
    }
   ],
   "source": [
    "types, types_count = np.unique(df.loc[df[\"Label\"] == 0, \"ID\"], return_counts=True)\n",
    "t_dt = []\n",
    "for t in types:\n",
    "    t_dt.append(df.loc[(df[\"ID\"] == t) & (df[\"Label\"] == 0), \"dt_ID\"].mean())\n",
    "plt.bar(x=types, height=t_dt)#, log=True)\n",
    "plt.show()\n",
    "print(df[\"dt_ID\"].max())"
   ]
  },
  {
   "cell_type": "markdown",
   "id": "4090211e",
   "metadata": {},
   "source": [
    "Drop a few columns<br>\n",
    "The data fields are dropped because there are different standards for each car manufacturers<br>\n",
    "on how to use the bytes in the payload of the CAN frame.<br>\n",
    "The ID is dropped for the same reason as the data fields; manufacturers use different high level protocols<br>\n",
    "to encode the ID field in their vehicles. Also, some datasets obfuscate their data.\n",
    "DLC is dropped because it does not exist in all datasets.<br>\n",
    "t is dropped because the absolute timestamps will not give much information, because<br>\n",
    "data dathered on different times will vary a lot. The delta time (dt) is better in this regard.<br>"
   ]
  },
  {
   "cell_type": "code",
   "execution_count": 4,
   "id": "a4422006",
   "metadata": {},
   "outputs": [
    {
     "data": {
      "text/html": [
       "<div>\n",
       "<style scoped>\n",
       "    .dataframe tbody tr th:only-of-type {\n",
       "        vertical-align: middle;\n",
       "    }\n",
       "\n",
       "    .dataframe tbody tr th {\n",
       "        vertical-align: top;\n",
       "    }\n",
       "\n",
       "    .dataframe thead th {\n",
       "        text-align: right;\n",
       "    }\n",
       "</style>\n",
       "<table border=\"1\" class=\"dataframe\">\n",
       "  <thead>\n",
       "    <tr style=\"text-align: right;\">\n",
       "      <th></th>\n",
       "      <th>dt</th>\n",
       "      <th>dt_ID</th>\n",
       "      <th>ones</th>\n",
       "      <th>ones_ID</th>\n",
       "      <th>run_diff</th>\n",
       "      <th>run_diff_ID</th>\n",
       "      <th>dataset</th>\n",
       "      <th>type</th>\n",
       "      <th>Label</th>\n",
       "    </tr>\n",
       "  </thead>\n",
       "  <tbody>\n",
       "    <tr>\n",
       "      <th>0</th>\n",
       "      <td>0.000444</td>\n",
       "      <td>0.009978</td>\n",
       "      <td>27</td>\n",
       "      <td>3</td>\n",
       "      <td>0.857143</td>\n",
       "      <td>0.500000</td>\n",
       "      <td>Survival</td>\n",
       "      <td>none</td>\n",
       "      <td>0</td>\n",
       "    </tr>\n",
       "    <tr>\n",
       "      <th>1</th>\n",
       "      <td>0.000232</td>\n",
       "      <td>0.009977</td>\n",
       "      <td>20</td>\n",
       "      <td>3</td>\n",
       "      <td>0.818182</td>\n",
       "      <td>0.600000</td>\n",
       "      <td>Survival</td>\n",
       "      <td>none</td>\n",
       "      <td>0</td>\n",
       "    </tr>\n",
       "    <tr>\n",
       "      <th>2</th>\n",
       "      <td>0.000248</td>\n",
       "      <td>0.009981</td>\n",
       "      <td>2</td>\n",
       "      <td>3</td>\n",
       "      <td>0.500000</td>\n",
       "      <td>0.500000</td>\n",
       "      <td>Survival</td>\n",
       "      <td>none</td>\n",
       "      <td>0</td>\n",
       "    </tr>\n",
       "    <tr>\n",
       "      <th>3</th>\n",
       "      <td>0.000234</td>\n",
       "      <td>0.009978</td>\n",
       "      <td>21</td>\n",
       "      <td>5</td>\n",
       "      <td>0.857143</td>\n",
       "      <td>0.800000</td>\n",
       "      <td>Survival</td>\n",
       "      <td>none</td>\n",
       "      <td>0</td>\n",
       "    </tr>\n",
       "    <tr>\n",
       "      <th>4</th>\n",
       "      <td>0.000241</td>\n",
       "      <td>0.009978</td>\n",
       "      <td>7</td>\n",
       "      <td>5</td>\n",
       "      <td>0.800000</td>\n",
       "      <td>0.833333</td>\n",
       "      <td>Survival</td>\n",
       "      <td>none</td>\n",
       "      <td>0</td>\n",
       "    </tr>\n",
       "    <tr>\n",
       "      <th>...</th>\n",
       "      <td>...</td>\n",
       "      <td>...</td>\n",
       "      <td>...</td>\n",
       "      <td>...</td>\n",
       "      <td>...</td>\n",
       "      <td>...</td>\n",
       "      <td>...</td>\n",
       "      <td>...</td>\n",
       "      <td>...</td>\n",
       "    </tr>\n",
       "    <tr>\n",
       "      <th>1735835</th>\n",
       "      <td>0.000248</td>\n",
       "      <td>0.020620</td>\n",
       "      <td>1</td>\n",
       "      <td>4</td>\n",
       "      <td>0.333333</td>\n",
       "      <td>0.600000</td>\n",
       "      <td>Survival</td>\n",
       "      <td>none</td>\n",
       "      <td>0</td>\n",
       "    </tr>\n",
       "    <tr>\n",
       "      <th>1735836</th>\n",
       "      <td>0.000235</td>\n",
       "      <td>0.013305</td>\n",
       "      <td>18</td>\n",
       "      <td>5</td>\n",
       "      <td>0.857143</td>\n",
       "      <td>0.500000</td>\n",
       "      <td>Survival</td>\n",
       "      <td>none</td>\n",
       "      <td>0</td>\n",
       "    </tr>\n",
       "    <tr>\n",
       "      <th>1735837</th>\n",
       "      <td>0.000242</td>\n",
       "      <td>0.013092</td>\n",
       "      <td>18</td>\n",
       "      <td>4</td>\n",
       "      <td>0.866667</td>\n",
       "      <td>0.750000</td>\n",
       "      <td>Survival</td>\n",
       "      <td>none</td>\n",
       "      <td>0</td>\n",
       "    </tr>\n",
       "    <tr>\n",
       "      <th>1735838</th>\n",
       "      <td>0.000435</td>\n",
       "      <td>0.012329</td>\n",
       "      <td>5</td>\n",
       "      <td>5</td>\n",
       "      <td>0.600000</td>\n",
       "      <td>0.666667</td>\n",
       "      <td>Survival</td>\n",
       "      <td>none</td>\n",
       "      <td>0</td>\n",
       "    </tr>\n",
       "    <tr>\n",
       "      <th>1735839</th>\n",
       "      <td>0.000230</td>\n",
       "      <td>0.012098</td>\n",
       "      <td>1</td>\n",
       "      <td>6</td>\n",
       "      <td>0.333333</td>\n",
       "      <td>0.666667</td>\n",
       "      <td>Survival</td>\n",
       "      <td>none</td>\n",
       "      <td>0</td>\n",
       "    </tr>\n",
       "  </tbody>\n",
       "</table>\n",
       "<p>1735840 rows × 9 columns</p>\n",
       "</div>"
      ],
      "text/plain": [
       "               dt     dt_ID  ones  ones_ID  run_diff  run_diff_ID   dataset  \\\n",
       "0        0.000444  0.009978    27        3  0.857143     0.500000  Survival   \n",
       "1        0.000232  0.009977    20        3  0.818182     0.600000  Survival   \n",
       "2        0.000248  0.009981     2        3  0.500000     0.500000  Survival   \n",
       "3        0.000234  0.009978    21        5  0.857143     0.800000  Survival   \n",
       "4        0.000241  0.009978     7        5  0.800000     0.833333  Survival   \n",
       "...           ...       ...   ...      ...       ...          ...       ...   \n",
       "1735835  0.000248  0.020620     1        4  0.333333     0.600000  Survival   \n",
       "1735836  0.000235  0.013305    18        5  0.857143     0.500000  Survival   \n",
       "1735837  0.000242  0.013092    18        4  0.866667     0.750000  Survival   \n",
       "1735838  0.000435  0.012329     5        5  0.600000     0.666667  Survival   \n",
       "1735839  0.000230  0.012098     1        6  0.333333     0.666667  Survival   \n",
       "\n",
       "         type  Label  \n",
       "0        none      0  \n",
       "1        none      0  \n",
       "2        none      0  \n",
       "3        none      0  \n",
       "4        none      0  \n",
       "...       ...    ...  \n",
       "1735835  none      0  \n",
       "1735836  none      0  \n",
       "1735837  none      0  \n",
       "1735838  none      0  \n",
       "1735839  none      0  \n",
       "\n",
       "[1735840 rows x 9 columns]"
      ]
     },
     "metadata": {},
     "output_type": "display_data"
    }
   ],
   "source": [
    "df.drop(columns=[\"d0\", \"d1\", \"d2\", \"d3\", \"d4\", \"d5\", \"d6\", \"d7\", \"ID\", \"DLC\", \"t\"], inplace=True, errors=\"ignore\")\n",
    "\n",
    "display(df)"
   ]
  },
  {
   "cell_type": "markdown",
   "metadata": {},
   "source": [
    "Perform a Chi Squared test to see if there are any features that aren't dependent on the classification label, \"Label\"."
   ]
  },
  {
   "cell_type": "code",
   "execution_count": 5,
   "id": "2730c0b9",
   "metadata": {},
   "outputs": [
    {
     "name": "stdout",
     "output_type": "stream",
     "text": [
      "[0.00000000e+000 0.00000000e+000 0.00000000e+000 2.51423179e-138]\n"
     ]
    },
    {
     "data": {
      "image/png": "[encoded data removed]",
      "text/plain": [
       "<Figure size 432x288 with 1 Axes>"
      ]
     },
     "metadata": {
      "needs_background": "light"
     },
     "output_type": "display_data"
    }
   ],
   "source": [
    "# Use a dataframe without \"type\", as it is categorical and will not be used to train later\n",
    "# Drop dt and dt_ID as they are not categorical\n",
    "X_chi = df.drop(columns=[\"dt\" ,\"dt_ID\", \"type\", \"dataset\", \"Label\"])\n",
    "y_chi = df[\"Label\"]\n",
    "chi_scores = chi2(X_chi, y_chi)\n",
    "p_values = chi_scores[1]\n",
    "print(p_values)\n",
    "plt.bar(x=X_chi.columns, height=p_values)\n",
    "plt.show()\n",
    "X_chi = None # Release memory\n",
    "y_chi = None"
   ]
  },
  {
   "cell_type": "markdown",
   "id": "f6fb40fc",
   "metadata": {},
   "source": [
    "I believe this means there is not sufficient evidence to disprove the null hypothesis (i.e. that features are independent of class label)."
   ]
  },
  {
   "cell_type": "markdown",
   "id": "5bf66664",
   "metadata": {},
   "source": [
    "We can also check the correlation between the features:"
   ]
  },
  {
   "cell_type": "code",
   "execution_count": 6,
   "id": "411bc160",
   "metadata": {},
   "outputs": [
    {
     "data": {
      "image/png": "[encoded data removed]",
      "text/plain": [
       "<Figure size 432x288 with 2 Axes>"
      ]
     },
     "metadata": {
      "needs_background": "light"
     },
     "output_type": "display_data"
    }
   ],
   "source": [
    "# Compute the correlation matrix\n",
    "corr = df.drop(columns=[\"dataset\", \"type\"]).corr()\n",
    "\n",
    "# Drop first row and last column that don't provide information\n",
    "corr.drop(index=corr.index[0], inplace=True)\n",
    "corr.drop(columns=corr.columns[-1], inplace=True)\n",
    "\n",
    "# Generate a mask for the upper triangle but not the diagonal\n",
    "mask = np.triu(np.ones_like(corr, dtype=bool))\n",
    "np.fill_diagonal(mask, False)\n",
    "\n",
    "# Draw the correlation heatmap with the mask\n",
    "def tostr(num):\n",
    "    if isinstance(num, str): return num\n",
    "    if num < 0: return str(num)[:5]\n",
    "    return str(num)[:4]\n",
    "def remove_nocorr(corr):\n",
    "    annot = corr.copy()\n",
    "    annot.where(np.abs(annot) > 0.1, \" \", inplace=True)\n",
    "    annot = annot.applymap(tostr)\n",
    "    return annot\n",
    "annots = remove_nocorr(corr)\n",
    "\n",
    "sns.heatmap(corr, mask=mask, vmin=-1, vmax=1, center=0, annot=annots, annot_kws={\"fontsize\": 8}, fmt=\"s\", square=True)\n",
    "plt.show()"
   ]
  },
  {
   "cell_type": "markdown",
   "id": "f864782c",
   "metadata": {},
   "source": [
    "We will now see if the dataset is imbalanced, and also how we should stratify when creating the training and test sets.<br>\n",
    "Stratification makes sure that there is the same proportion of a class in both the training and test sets.<br>\n",
    "If the whole dataset contains 1% of one class and 99% of another, then the training and test sets will also have that proportion.<br>\n",
    "We begin by looking at the proportion of Normal vs Attack instances:"
   ]
  },
  {
   "cell_type": "code",
   "execution_count": 7,
   "id": "4fb897c5",
   "metadata": {},
   "outputs": [
    {
     "data": {
      "image/png": "[encoded data removed]",
      "text/plain": [
       "<Figure size 432x288 with 1 Axes>"
      ]
     },
     "metadata": {
      "needs_background": "light"
     },
     "output_type": "display_data"
    }
   ],
   "source": [
    "plt.bar(x=[\"Normal\", \"Attack\"], height=np.bincount(df[\"Label\"]), color=[\"tab:blue\", \"tab:red\"])\n",
    "plt.show()"
   ]
  },
  {
   "cell_type": "markdown",
   "id": "63d785bb",
   "metadata": {},
   "source": [
    "Next, we look at the proportion of the different types of attacks:"
   ]
  },
  {
   "cell_type": "code",
   "execution_count": 8,
   "id": "7084bbcd",
   "metadata": {},
   "outputs": [
    {
     "data": {
      "image/png": "[encoded data removed]",
      "text/plain": [
       "<Figure size 432x288 with 1 Axes>"
      ]
     },
     "metadata": {
      "needs_background": "light"
     },
     "output_type": "display_data"
    }
   ],
   "source": [
    "types, types_count = np.unique(df.loc[df[\"type\"] != \"none\", \"type\"], return_counts=True)\n",
    "plt.bar(x=types, height=types_count, color=[\"tab:green\", \"tab:red\", \"tab:orange\", \"tab:blue\"])\n",
    "plt.show()"
   ]
  },
  {
   "cell_type": "markdown",
   "id": "b163b7ca",
   "metadata": {},
   "source": [
    "It can be seen that there are different amounts of attack types in the dataset.<br>\n",
    "We want the proportion to be the same after splitting into training and testing data."
   ]
  },
  {
   "cell_type": "markdown",
   "id": "330800c6",
   "metadata": {},
   "source": [
    "Visualize the distribution of attack instances by ones counted."
   ]
  },
  {
   "cell_type": "code",
   "execution_count": 9,
   "id": "0711fc94",
   "metadata": {},
   "outputs": [
    {
     "data": {
      "image/png": "[encoded data removed]",
      "text/plain": [
       "<Figure size 432x288 with 1 Axes>"
      ]
     },
     "metadata": {
      "needs_background": "light"
     },
     "output_type": "display_data"
    }
   ],
   "source": [
    "# d_temp = pd.concat([X_train, y_train], axis=\"columns\")\n",
    "size = len(df.loc[df[\"Label\"] == 1].index)\n",
    "ones_prob = [[], [], []]\n",
    "# zeros_prob = []\n",
    "for i in range(65):\n",
    "    # zeros_prob.append(len(d_temp.loc[(d_temp[\"Label\"] == 0) & (d_temp[\"ones\"] == i)].index) / size)\n",
    "\n",
    "    prob_flood = len(df.loc[(df[\"Label\"] == 1) & (df[\"ones\"] == i) & (df[\"type\"] == \"masq\")].index) / size\n",
    "    prob_fuzz = len(df.loc[(df[\"Label\"] == 1) & (df[\"ones\"] == i) & (df[\"type\"] == \"fuzz\")].index) / size\n",
    "    prob_fabr = len(df.loc[(df[\"Label\"] == 1) & (df[\"ones\"] == i) & (df[\"type\"] == \"fabr\")].index) / size\n",
    "    ones_prob[0].append(prob_flood)\n",
    "    ones_prob[1].append(prob_fuzz)\n",
    "    ones_prob[2].append(prob_fabr)\n",
    "\n",
    "\n",
    "# zeros_prob = pd.Series(zeros_prob)\n",
    "ones_prob = pd.Series(ones_prob)\n",
    "# sns.lineplot(data=ones_prob)\n",
    "\n",
    "# plt.bar(x=range(0, 65), height=zeros_prob)\n",
    "plt.bar(x=range(0, 65), height=ones_prob[0], color=\"tab:red\")\n",
    "plt.bar(x=range(0, 65), height=ones_prob[1], color=\"tab:green\")\n",
    "plt.bar(x=range(0, 65), height=ones_prob[2], color=\"tab:orange\")\n",
    "plt.legend(labels=[\"Flooding\", \"Fuzzing\", \"Fabrication\"])\n",
    "plt.xlabel(\"Number of ones counted\")\n",
    "plt.ylabel(\"% of attack observations (Label = 1)\")\n",
    "plt.show()"
   ]
  },
  {
   "cell_type": "markdown",
   "id": "4d8d56e7",
   "metadata": {},
   "source": [
    "It shows that in the flooding attack, there is never any ones, and it makes up almost 50% of all attacks.<br>\n",
    "It also shows that the fuzzing attack is randomly generating payloads (as is stated in the paper as well), and since there is a higher chance that a payload will have a one count of 32 (by binomial distribution) the distribution looks the way it does.<br>\n",
    "It shows that the fabrication attacks have 20 ones, 29 ones or randomly chose (it is the same as fuzzing, just smaller so is not seen well on the graph, but it is seen if plotted separately.).<br>\n",
    "It shows that 50% of the attacks contain no ones in the payload, so you will catch many attacks going just on that!\n",
    "Moreover, these attacks have clear patterns by how many ones they contain, as they are either a Specific value (0, 20 or 29).. or... binomially distributed."
   ]
  },
  {
   "cell_type": "markdown",
   "id": "bbcce076",
   "metadata": {},
   "source": [
    "Create the training and test data (with stratification on the type of attack)"
   ]
  },
  {
   "cell_type": "code",
   "execution_count": 10,
   "id": "f7d2c415",
   "metadata": {},
   "outputs": [],
   "source": [
    "X_train = df.drop(columns=\"type\")\n",
    "y_train = df[\"type\"]\n",
    "\n",
    "df = None # Release memory\n",
    "\n",
    "# Split dataset into training and test data, stratify by the type of attack\n",
    "X_train, X_test, y_train, y_test = train_test_split(X_train, y_train, test_size=0.3, random_state=0, shuffle=True, stratify=y_train)\n",
    "\n",
    "# # Under-sample on type\n",
    "# rus = RandomUnderSampler(random_state=0)\n",
    "# X_train, y_train = rus.fit_resample(X_train, y_train)\n",
    "\n",
    "# Use feature \"Label\" as classification label\n",
    "d_temp: pd.DataFrame = pd.concat([X_train, y_train], axis=\"columns\")\n",
    "X_train, y_train = d_temp.drop(columns=\"Label\"), d_temp[\"Label\"]\n",
    "d_temp: pd.DataFrame = pd.concat([X_test, y_test], axis=\"columns\")\n",
    "X_test, y_test = d_temp.drop(columns=\"Label\"), d_temp[\"Label\"]\n",
    "d_temp = None # Release memory"
   ]
  },
  {
   "cell_type": "markdown",
   "id": "7d3e38bb",
   "metadata": {},
   "source": [
    "Now, we can look at the proportions again (in the Training data):"
   ]
  },
  {
   "cell_type": "code",
   "execution_count": 11,
   "id": "140f4e69",
   "metadata": {},
   "outputs": [
    {
     "data": {
      "image/png": "[encoded data removed]",
      "text/plain": [
       "<Figure size 432x288 with 1 Axes>"
      ]
     },
     "metadata": {
      "needs_background": "light"
     },
     "output_type": "display_data"
    }
   ],
   "source": [
    "types, types_count = np.unique(X_train.loc[X_train[\"type\"] != \"none\", \"type\"], return_counts=True)\n",
    "plt.bar(x=types, height=types_count, color=[\"tab:orange\", \"tab:red\", \"tab:green\", \"tab:blue\"])\n",
    "plt.show()"
   ]
  },
  {
   "cell_type": "markdown",
   "id": "00a97c37",
   "metadata": {},
   "source": [
    "Under-sample the training set by the majority class (no attack, 0). The test set can be left imbalanced, as real world data can also be imbalanced."
   ]
  },
  {
   "cell_type": "code",
   "execution_count": 12,
   "id": "54d6cef7",
   "metadata": {},
   "outputs": [
    {
     "name": "stdout",
     "output_type": "stream",
     "text": [
      "Labels\t\tTraining\tTesting\n",
      "Normal\t\t128320\t\t465758\n",
      "Attack\t\t128320\t\t54994\n"
     ]
    }
   ],
   "source": [
    "rus = RandomUnderSampler(random_state=0)\n",
    "X_train, y_train = rus.fit_resample(X_train, y_train)\n",
    "bintr = np.bincount(y_train)\n",
    "binte = np.bincount(y_test)\n",
    "print(f\"Labels\\t\\tTraining\\tTesting\\nNormal\\t\\t{bintr[0]}\\t\\t{binte[0]}\\nAttack\\t\\t{bintr[1]}\\t\\t{binte[1]}\")"
   ]
  }
 ],
 "metadata": {
  "kernelspec": {
   "display_name": "Python 3",
   "language": "python",
   "name": "python3"
  },
  "language_info": {
   "codemirror_mode": {
    "name": "ipython",
    "version": 3
   },
   "file_extension": ".py",
   "mimetype": "text/x-python",
   "name": "python",
   "nbconvert_exporter": "python",
   "pygments_lexer": "ipython3",
   "version": "3.8.10"
  }
 },
 "nbformat": 4,
 "nbformat_minor": 5
}
