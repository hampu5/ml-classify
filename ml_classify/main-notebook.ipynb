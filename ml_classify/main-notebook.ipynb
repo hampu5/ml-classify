{
 "cells": [
  {
   "cell_type": "markdown",
   "id": "d3e30535",
   "metadata": {},
   "source": [
    "<h2>Adding imports</h2>"
   ]
  },
  {
   "cell_type": "code",
   "execution_count": 33,
   "id": "4dc13c5b",
   "metadata": {},
   "outputs": [],
   "source": [
    "from timeit import timeit\n",
    "from IPython.display import display\n",
    "import matplotlib\n",
    "matplotlib.use(\"pgf\")\n",
    "from matplotlib import pyplot as plt\n",
    "import pandas as pd\n",
    "from pandas.plotting import scatter_matrix\n",
    "import numpy as np\n",
    "from collections import Counter\n",
    "from sklearn.feature_selection import SelectKBest, chi2\n",
    "from sklearn.metrics import cohen_kappa_score, confusion_matrix, f1_score\n",
    "from sklearn.model_selection import cross_val_score, train_test_split\n",
    "from joblib import dump, load\n",
    "from imblearn.under_sampling import RandomUnderSampler\n",
    "import shap\n",
    "import seaborn as sns"
   ]
  },
  {
   "cell_type": "markdown",
   "id": "916b02cd",
   "metadata": {},
   "source": [
    "Open the dataset<br>\n",
    "The compile_dataset() function reads the dataset from file.<br>\n",
    "The original datasets contain these features:<br>\n",
    "timestamp/t (absolute), ID, DLC (some don't have this), data field 0, ..., data field 7, Label.<br>\n",
    "While compiling the dataset from the loaded files, new features are created.<br>\n",
    "From the timestamp, \"dt\" is created, and from timestamp and ID, \"dt_ID\" is created.<br>\n",
    "dt is the time between each CAN frame. dt_ID is the time between each CAN frame with the same ID.<br>\n",
    "From data field 0, ..., data field 7, \"ones\" is created, and from ID, \"ones_ID\" is created.<br>\n",
    "ones is the number of ones counted in the binary payload (combined data fields) for each CAN frame,<br>\n",
    "and ones_ID is the number of ones counted in the ID for each CAN frame.<br>\n",
    "Another feature, \"type\" is also added, which denotes the type of attack that a certain attack is.<br>\n",
    "For example, flooding (flood), and fuzzing (fuzz)."
   ]
  },
  {
   "cell_type": "code",
   "execution_count": 34,
   "id": "3266ffb9",
   "metadata": {},
   "outputs": [
    {
     "data": {
      "text/html": [
       "<div>\n",
       "<style scoped>\n",
       "    .dataframe tbody tr th:only-of-type {\n",
       "        vertical-align: middle;\n",
       "    }\n",
       "\n",
       "    .dataframe tbody tr th {\n",
       "        vertical-align: top;\n",
       "    }\n",
       "\n",
       "    .dataframe thead th {\n",
       "        text-align: right;\n",
       "    }\n",
       "</style>\n",
       "<table border=\"1\" class=\"dataframe\">\n",
       "  <thead>\n",
       "    <tr style=\"text-align: right;\">\n",
       "      <th></th>\n",
       "      <th>t</th>\n",
       "      <th>ID</th>\n",
       "      <th>d0</th>\n",
       "      <th>d1</th>\n",
       "      <th>d2</th>\n",
       "      <th>d3</th>\n",
       "      <th>d4</th>\n",
       "      <th>d5</th>\n",
       "      <th>d6</th>\n",
       "      <th>d7</th>\n",
       "      <th>dt</th>\n",
       "      <th>dt_ID</th>\n",
       "      <th>name</th>\n",
       "      <th>dataset</th>\n",
       "      <th>type</th>\n",
       "      <th>Label</th>\n",
       "    </tr>\n",
       "  </thead>\n",
       "  <tbody>\n",
       "    <tr>\n",
       "      <th>0</th>\n",
       "      <td>1.030000e+09</td>\n",
       "      <td>852</td>\n",
       "      <td>32</td>\n",
       "      <td>10</td>\n",
       "      <td>0</td>\n",
       "      <td>0</td>\n",
       "      <td>0</td>\n",
       "      <td>2</td>\n",
       "      <td>116</td>\n",
       "      <td>128</td>\n",
       "      <td>4.073523e-04</td>\n",
       "      <td>0.009999</td>\n",
       "      <td>correlated_signal_attack_1</td>\n",
       "      <td>ROAD</td>\n",
       "      <td>none</td>\n",
       "      <td>0</td>\n",
       "    </tr>\n",
       "    <tr>\n",
       "      <th>1</th>\n",
       "      <td>1.030000e+09</td>\n",
       "      <td>1505</td>\n",
       "      <td>137</td>\n",
       "      <td>63</td>\n",
       "      <td>192</td>\n",
       "      <td>11</td>\n",
       "      <td>10</td>\n",
       "      <td>1</td>\n",
       "      <td>56</td>\n",
       "      <td>128</td>\n",
       "      <td>1.019955e-03</td>\n",
       "      <td>0.009999</td>\n",
       "      <td>correlated_signal_attack_1</td>\n",
       "      <td>ROAD</td>\n",
       "      <td>none</td>\n",
       "      <td>0</td>\n",
       "    </tr>\n",
       "    <tr>\n",
       "      <th>2</th>\n",
       "      <td>1.030000e+09</td>\n",
       "      <td>651</td>\n",
       "      <td>0</td>\n",
       "      <td>0</td>\n",
       "      <td>0</td>\n",
       "      <td>0</td>\n",
       "      <td>0</td>\n",
       "      <td>0</td>\n",
       "      <td>0</td>\n",
       "      <td>0</td>\n",
       "      <td>1.072884e-06</td>\n",
       "      <td>0.019998</td>\n",
       "      <td>correlated_signal_attack_1</td>\n",
       "      <td>ROAD</td>\n",
       "      <td>none</td>\n",
       "      <td>0</td>\n",
       "    </tr>\n",
       "    <tr>\n",
       "      <th>3</th>\n",
       "      <td>1.030000e+09</td>\n",
       "      <td>167</td>\n",
       "      <td>0</td>\n",
       "      <td>16</td>\n",
       "      <td>250</td>\n",
       "      <td>36</td>\n",
       "      <td>209</td>\n",
       "      <td>46</td>\n",
       "      <td>0</td>\n",
       "      <td>160</td>\n",
       "      <td>2.026558e-06</td>\n",
       "      <td>0.009999</td>\n",
       "      <td>correlated_signal_attack_1</td>\n",
       "      <td>ROAD</td>\n",
       "      <td>none</td>\n",
       "      <td>0</td>\n",
       "    </tr>\n",
       "    <tr>\n",
       "      <th>4</th>\n",
       "      <td>1.030000e+09</td>\n",
       "      <td>208</td>\n",
       "      <td>74</td>\n",
       "      <td>119</td>\n",
       "      <td>4</td>\n",
       "      <td>96</td>\n",
       "      <td>2</td>\n",
       "      <td>1</td>\n",
       "      <td>240</td>\n",
       "      <td>0</td>\n",
       "      <td>9.536743e-07</td>\n",
       "      <td>0.009998</td>\n",
       "      <td>correlated_signal_attack_1</td>\n",
       "      <td>ROAD</td>\n",
       "      <td>none</td>\n",
       "      <td>0</td>\n",
       "    </tr>\n",
       "    <tr>\n",
       "      <th>...</th>\n",
       "      <td>...</td>\n",
       "      <td>...</td>\n",
       "      <td>...</td>\n",
       "      <td>...</td>\n",
       "      <td>...</td>\n",
       "      <td>...</td>\n",
       "      <td>...</td>\n",
       "      <td>...</td>\n",
       "      <td>...</td>\n",
       "      <td>...</td>\n",
       "      <td>...</td>\n",
       "      <td>...</td>\n",
       "      <td>...</td>\n",
       "      <td>...</td>\n",
       "      <td>...</td>\n",
       "      <td>...</td>\n",
       "    </tr>\n",
       "    <tr>\n",
       "      <th>3266459</th>\n",
       "      <td>1.280000e+09</td>\n",
       "      <td>813</td>\n",
       "      <td>0</td>\n",
       "      <td>0</td>\n",
       "      <td>4</td>\n",
       "      <td>32</td>\n",
       "      <td>168</td>\n",
       "      <td>1</td>\n",
       "      <td>0</td>\n",
       "      <td>32</td>\n",
       "      <td>1.192093e-06</td>\n",
       "      <td>0.050870</td>\n",
       "      <td>reverse_light_on_attack_3_masquerade</td>\n",
       "      <td>ROAD</td>\n",
       "      <td>none</td>\n",
       "      <td>0</td>\n",
       "    </tr>\n",
       "    <tr>\n",
       "      <th>3266460</th>\n",
       "      <td>1.280000e+09</td>\n",
       "      <td>737</td>\n",
       "      <td>0</td>\n",
       "      <td>0</td>\n",
       "      <td>0</td>\n",
       "      <td>0</td>\n",
       "      <td>0</td>\n",
       "      <td>0</td>\n",
       "      <td>0</td>\n",
       "      <td>4</td>\n",
       "      <td>9.977818e-04</td>\n",
       "      <td>0.019898</td>\n",
       "      <td>reverse_light_on_attack_3_masquerade</td>\n",
       "      <td>ROAD</td>\n",
       "      <td>none</td>\n",
       "      <td>0</td>\n",
       "    </tr>\n",
       "    <tr>\n",
       "      <th>3266461</th>\n",
       "      <td>1.280000e+09</td>\n",
       "      <td>852</td>\n",
       "      <td>31</td>\n",
       "      <td>255</td>\n",
       "      <td>64</td>\n",
       "      <td>0</td>\n",
       "      <td>0</td>\n",
       "      <td>3</td>\n",
       "      <td>190</td>\n",
       "      <td>0</td>\n",
       "      <td>2.145767e-06</td>\n",
       "      <td>0.010723</td>\n",
       "      <td>reverse_light_on_attack_3_masquerade</td>\n",
       "      <td>ROAD</td>\n",
       "      <td>none</td>\n",
       "      <td>0</td>\n",
       "    </tr>\n",
       "    <tr>\n",
       "      <th>3266462</th>\n",
       "      <td>1.280000e+09</td>\n",
       "      <td>961</td>\n",
       "      <td>123</td>\n",
       "      <td>85</td>\n",
       "      <td>31</td>\n",
       "      <td>188</td>\n",
       "      <td>129</td>\n",
       "      <td>226</td>\n",
       "      <td>41</td>\n",
       "      <td>46</td>\n",
       "      <td>9.536743e-07</td>\n",
       "      <td>0.025351</td>\n",
       "      <td>reverse_light_on_attack_3_masquerade</td>\n",
       "      <td>ROAD</td>\n",
       "      <td>none</td>\n",
       "      <td>0</td>\n",
       "    </tr>\n",
       "    <tr>\n",
       "      <th>3266463</th>\n",
       "      <td>1.280000e+09</td>\n",
       "      <td>1505</td>\n",
       "      <td>137</td>\n",
       "      <td>63</td>\n",
       "      <td>224</td>\n",
       "      <td>11</td>\n",
       "      <td>10</td>\n",
       "      <td>0</td>\n",
       "      <td>0</td>\n",
       "      <td>128</td>\n",
       "      <td>9.536743e-07</td>\n",
       "      <td>0.009729</td>\n",
       "      <td>reverse_light_on_attack_3_masquerade</td>\n",
       "      <td>ROAD</td>\n",
       "      <td>none</td>\n",
       "      <td>0</td>\n",
       "    </tr>\n",
       "  </tbody>\n",
       "</table>\n",
       "<p>3266464 rows × 16 columns</p>\n",
       "</div>"
      ],
      "text/plain": [
       "                    t    ID   d0   d1   d2   d3   d4   d5   d6   d7  \\\n",
       "0        1.030000e+09   852   32   10    0    0    0    2  116  128   \n",
       "1        1.030000e+09  1505  137   63  192   11   10    1   56  128   \n",
       "2        1.030000e+09   651    0    0    0    0    0    0    0    0   \n",
       "3        1.030000e+09   167    0   16  250   36  209   46    0  160   \n",
       "4        1.030000e+09   208   74  119    4   96    2    1  240    0   \n",
       "...               ...   ...  ...  ...  ...  ...  ...  ...  ...  ...   \n",
       "3266459  1.280000e+09   813    0    0    4   32  168    1    0   32   \n",
       "3266460  1.280000e+09   737    0    0    0    0    0    0    0    4   \n",
       "3266461  1.280000e+09   852   31  255   64    0    0    3  190    0   \n",
       "3266462  1.280000e+09   961  123   85   31  188  129  226   41   46   \n",
       "3266463  1.280000e+09  1505  137   63  224   11   10    0    0  128   \n",
       "\n",
       "                   dt     dt_ID                                  name dataset  \\\n",
       "0        4.073523e-04  0.009999            correlated_signal_attack_1    ROAD   \n",
       "1        1.019955e-03  0.009999            correlated_signal_attack_1    ROAD   \n",
       "2        1.072884e-06  0.019998            correlated_signal_attack_1    ROAD   \n",
       "3        2.026558e-06  0.009999            correlated_signal_attack_1    ROAD   \n",
       "4        9.536743e-07  0.009998            correlated_signal_attack_1    ROAD   \n",
       "...               ...       ...                                   ...     ...   \n",
       "3266459  1.192093e-06  0.050870  reverse_light_on_attack_3_masquerade    ROAD   \n",
       "3266460  9.977818e-04  0.019898  reverse_light_on_attack_3_masquerade    ROAD   \n",
       "3266461  2.145767e-06  0.010723  reverse_light_on_attack_3_masquerade    ROAD   \n",
       "3266462  9.536743e-07  0.025351  reverse_light_on_attack_3_masquerade    ROAD   \n",
       "3266463  9.536743e-07  0.009729  reverse_light_on_attack_3_masquerade    ROAD   \n",
       "\n",
       "         type  Label  \n",
       "0        none      0  \n",
       "1        none      0  \n",
       "2        none      0  \n",
       "3        none      0  \n",
       "4        none      0  \n",
       "...       ...    ...  \n",
       "3266459  none      0  \n",
       "3266460  none      0  \n",
       "3266461  none      0  \n",
       "3266462  none      0  \n",
       "3266463  none      0  \n",
       "\n",
       "[3266464 rows x 16 columns]"
      ]
     },
     "metadata": {},
     "output_type": "display_data"
    }
   ],
   "source": [
    "from compiledataset import load_dataset, compile_dataset\n",
    "\n",
    "PATH = \"/home/hampus/miun/master_thesis/Datasets\"\n",
    "\n",
    "datasets = {}\n",
    "\n",
    "dataset: pd.DataFrame = load_dataset(PATH + \"/ORNL\", \"data_a.csv\")\n",
    "dataset[\"remarks\"] = \"No DLC available\"\n",
    "datasets[\"ROAD\"] = dataset.to_dict(\"records\")\n",
    "\n",
    "# dataset: pd.DataFrame = load_dataset(PATH + \"/Survival\", \"data.csv\")\n",
    "# dataset[\"remarks\"] = \"-\"\n",
    "# datasets[\"Survival\"] = dataset.to_dict(\"records\")\n",
    "\n",
    "# dataset: pd.DataFrame = load_dataset(PATH + \"/Hisingen\", \"data.csv\")\n",
    "# dataset[\"remarks\"] = \"-\"\n",
    "# datasets[\"Hisingen\"] = dataset.to_dict(\"records\")\n",
    "\n",
    "\n",
    "df = compile_dataset(datasets)\n",
    "\n",
    "dataset = None # Release memory, as it isn't used for now\n",
    "datasets = None\n",
    "\n",
    "display(df)"
   ]
  },
  {
   "cell_type": "code",
   "execution_count": 36,
   "id": "a493dfa9",
   "metadata": {},
   "outputs": [
    {
     "ename": "RuntimeError",
     "evalue": "xelatex not found.  Install it or change rcParams['pgf.texsystem'] to an available TeX implementation.",
     "output_type": "error",
     "traceback": [
      "\u001b[0;31m---------------------------------------------------------------------------\u001b[0m",
      "\u001b[0;31mFileNotFoundError\u001b[0m                         Traceback (most recent call last)",
      "File \u001b[0;32m~/.cache/pypoetry/virtualenvs/ml-classify-pJEs0r8S-py3.8/lib/python3.8/site-packages/matplotlib/backends/backend_pgf.py:283\u001b[0m, in \u001b[0;36mLatexManager.__init__\u001b[0;34m(self)\u001b[0m\n\u001b[1;32m    <a href='file:///home/hampus/.cache/pypoetry/virtualenvs/ml-classify-pJEs0r8S-py3.8/lib/python3.8/site-packages/matplotlib/backends/backend_pgf.py?line=281'>282</a>\u001b[0m \u001b[39mtry\u001b[39;00m:\n\u001b[0;32m--> <a href='file:///home/hampus/.cache/pypoetry/virtualenvs/ml-classify-pJEs0r8S-py3.8/lib/python3.8/site-packages/matplotlib/backends/backend_pgf.py?line=282'>283</a>\u001b[0m     latex \u001b[39m=\u001b[39m subprocess\u001b[39m.\u001b[39;49mPopen(\n\u001b[1;32m    <a href='file:///home/hampus/.cache/pypoetry/virtualenvs/ml-classify-pJEs0r8S-py3.8/lib/python3.8/site-packages/matplotlib/backends/backend_pgf.py?line=283'>284</a>\u001b[0m         [\u001b[39mself\u001b[39;49m\u001b[39m.\u001b[39;49mtexcommand, \u001b[39m\"\u001b[39;49m\u001b[39m-halt-on-error\u001b[39;49m\u001b[39m\"\u001b[39;49m],\n\u001b[1;32m    <a href='file:///home/hampus/.cache/pypoetry/virtualenvs/ml-classify-pJEs0r8S-py3.8/lib/python3.8/site-packages/matplotlib/backends/backend_pgf.py?line=284'>285</a>\u001b[0m         stdin\u001b[39m=\u001b[39;49msubprocess\u001b[39m.\u001b[39;49mPIPE, stdout\u001b[39m=\u001b[39;49msubprocess\u001b[39m.\u001b[39;49mPIPE,\n\u001b[1;32m    <a href='file:///home/hampus/.cache/pypoetry/virtualenvs/ml-classify-pJEs0r8S-py3.8/lib/python3.8/site-packages/matplotlib/backends/backend_pgf.py?line=285'>286</a>\u001b[0m         encoding\u001b[39m=\u001b[39;49m\u001b[39m\"\u001b[39;49m\u001b[39mutf-8\u001b[39;49m\u001b[39m\"\u001b[39;49m, cwd\u001b[39m=\u001b[39;49m\u001b[39mself\u001b[39;49m\u001b[39m.\u001b[39;49mtmpdir)\n\u001b[1;32m    <a href='file:///home/hampus/.cache/pypoetry/virtualenvs/ml-classify-pJEs0r8S-py3.8/lib/python3.8/site-packages/matplotlib/backends/backend_pgf.py?line=286'>287</a>\u001b[0m \u001b[39mexcept\u001b[39;00m \u001b[39mFileNotFoundError\u001b[39;00m \u001b[39mas\u001b[39;00m err:\n",
      "File \u001b[0;32m/usr/lib/python3.8/subprocess.py:858\u001b[0m, in \u001b[0;36mPopen.__init__\u001b[0;34m(self, args, bufsize, executable, stdin, stdout, stderr, preexec_fn, close_fds, shell, cwd, env, universal_newlines, startupinfo, creationflags, restore_signals, start_new_session, pass_fds, encoding, errors, text)\u001b[0m\n\u001b[1;32m    <a href='file:///usr/lib/python3.8/subprocess.py?line=854'>855</a>\u001b[0m             \u001b[39mself\u001b[39m\u001b[39m.\u001b[39mstderr \u001b[39m=\u001b[39m io\u001b[39m.\u001b[39mTextIOWrapper(\u001b[39mself\u001b[39m\u001b[39m.\u001b[39mstderr,\n\u001b[1;32m    <a href='file:///usr/lib/python3.8/subprocess.py?line=855'>856</a>\u001b[0m                     encoding\u001b[39m=\u001b[39mencoding, errors\u001b[39m=\u001b[39merrors)\n\u001b[0;32m--> <a href='file:///usr/lib/python3.8/subprocess.py?line=857'>858</a>\u001b[0m     \u001b[39mself\u001b[39;49m\u001b[39m.\u001b[39;49m_execute_child(args, executable, preexec_fn, close_fds,\n\u001b[1;32m    <a href='file:///usr/lib/python3.8/subprocess.py?line=858'>859</a>\u001b[0m                         pass_fds, cwd, env,\n\u001b[1;32m    <a href='file:///usr/lib/python3.8/subprocess.py?line=859'>860</a>\u001b[0m                         startupinfo, creationflags, shell,\n\u001b[1;32m    <a href='file:///usr/lib/python3.8/subprocess.py?line=860'>861</a>\u001b[0m                         p2cread, p2cwrite,\n\u001b[1;32m    <a href='file:///usr/lib/python3.8/subprocess.py?line=861'>862</a>\u001b[0m                         c2pread, c2pwrite,\n\u001b[1;32m    <a href='file:///usr/lib/python3.8/subprocess.py?line=862'>863</a>\u001b[0m                         errread, errwrite,\n\u001b[1;32m    <a href='file:///usr/lib/python3.8/subprocess.py?line=863'>864</a>\u001b[0m                         restore_signals, start_new_session)\n\u001b[1;32m    <a href='file:///usr/lib/python3.8/subprocess.py?line=864'>865</a>\u001b[0m \u001b[39mexcept\u001b[39;00m:\n\u001b[1;32m    <a href='file:///usr/lib/python3.8/subprocess.py?line=865'>866</a>\u001b[0m     \u001b[39m# Cleanup if the child failed starting.\u001b[39;00m\n",
      "File \u001b[0;32m/usr/lib/python3.8/subprocess.py:1704\u001b[0m, in \u001b[0;36mPopen._execute_child\u001b[0;34m(self, args, executable, preexec_fn, close_fds, pass_fds, cwd, env, startupinfo, creationflags, shell, p2cread, p2cwrite, c2pread, c2pwrite, errread, errwrite, restore_signals, start_new_session)\u001b[0m\n\u001b[1;32m   <a href='file:///usr/lib/python3.8/subprocess.py?line=1702'>1703</a>\u001b[0m         err_msg \u001b[39m=\u001b[39m os\u001b[39m.\u001b[39mstrerror(errno_num)\n\u001b[0;32m-> <a href='file:///usr/lib/python3.8/subprocess.py?line=1703'>1704</a>\u001b[0m     \u001b[39mraise\u001b[39;00m child_exception_type(errno_num, err_msg, err_filename)\n\u001b[1;32m   <a href='file:///usr/lib/python3.8/subprocess.py?line=1704'>1705</a>\u001b[0m \u001b[39mraise\u001b[39;00m child_exception_type(err_msg)\n",
      "\u001b[0;31mFileNotFoundError\u001b[0m: [Errno 2] No such file or directory: 'xelatex'",
      "\nThe above exception was the direct cause of the following exception:\n",
      "\u001b[0;31mRuntimeError\u001b[0m                              Traceback (most recent call last)",
      "\u001b[1;32m/home/hampus/miun/master_thesis/python/ml-classify/ml_classify/main-notebook.ipynb Cell 5'\u001b[0m in \u001b[0;36m<module>\u001b[0;34m\u001b[0m\n\u001b[1;32m     <a href='vscode-notebook-cell:/home/hampus/miun/master_thesis/python/ml-classify/ml_classify/main-notebook.ipynb#ch0000029?line=10'>11</a>\u001b[0m plt\u001b[39m.\u001b[39mylabel(\u001b[39m\"\u001b[39m\u001b[39m$\u001b[39m\u001b[39m\\\u001b[39m\u001b[39mDelta$ t (s)\u001b[39m\u001b[39m\"\u001b[39m)\n\u001b[1;32m     <a href='vscode-notebook-cell:/home/hampus/miun/master_thesis/python/ml-classify/ml_classify/main-notebook.ipynb#ch0000029?line=12'>13</a>\u001b[0m \u001b[39m# plt.show()\u001b[39;00m\n\u001b[0;32m---> <a href='vscode-notebook-cell:/home/hampus/miun/master_thesis/python/ml-classify/ml_classify/main-notebook.ipynb#ch0000029?line=14'>15</a>\u001b[0m plt\u001b[39m.\u001b[39;49msavefig(\u001b[39m\"\u001b[39;49m\u001b[39mROAD_correlated_signal_attack_1_dt.pgf\u001b[39;49m\u001b[39m\"\u001b[39;49m)\n",
      "File \u001b[0;32m~/.cache/pypoetry/virtualenvs/ml-classify-pJEs0r8S-py3.8/lib/python3.8/site-packages/matplotlib/pyplot.py:958\u001b[0m, in \u001b[0;36msavefig\u001b[0;34m(*args, **kwargs)\u001b[0m\n\u001b[1;32m    <a href='file:///home/hampus/.cache/pypoetry/virtualenvs/ml-classify-pJEs0r8S-py3.8/lib/python3.8/site-packages/matplotlib/pyplot.py?line=954'>955</a>\u001b[0m \u001b[39m@_copy_docstring_and_deprecators\u001b[39m(Figure\u001b[39m.\u001b[39msavefig)\n\u001b[1;32m    <a href='file:///home/hampus/.cache/pypoetry/virtualenvs/ml-classify-pJEs0r8S-py3.8/lib/python3.8/site-packages/matplotlib/pyplot.py?line=955'>956</a>\u001b[0m \u001b[39mdef\u001b[39;00m \u001b[39msavefig\u001b[39m(\u001b[39m*\u001b[39margs, \u001b[39m*\u001b[39m\u001b[39m*\u001b[39mkwargs):\n\u001b[1;32m    <a href='file:///home/hampus/.cache/pypoetry/virtualenvs/ml-classify-pJEs0r8S-py3.8/lib/python3.8/site-packages/matplotlib/pyplot.py?line=956'>957</a>\u001b[0m     fig \u001b[39m=\u001b[39m gcf()\n\u001b[0;32m--> <a href='file:///home/hampus/.cache/pypoetry/virtualenvs/ml-classify-pJEs0r8S-py3.8/lib/python3.8/site-packages/matplotlib/pyplot.py?line=957'>958</a>\u001b[0m     res \u001b[39m=\u001b[39m fig\u001b[39m.\u001b[39;49msavefig(\u001b[39m*\u001b[39;49margs, \u001b[39m*\u001b[39;49m\u001b[39m*\u001b[39;49mkwargs)\n\u001b[1;32m    <a href='file:///home/hampus/.cache/pypoetry/virtualenvs/ml-classify-pJEs0r8S-py3.8/lib/python3.8/site-packages/matplotlib/pyplot.py?line=958'>959</a>\u001b[0m     fig\u001b[39m.\u001b[39mcanvas\u001b[39m.\u001b[39mdraw_idle()   \u001b[39m# need this if 'transparent=True' to reset colors\u001b[39;00m\n\u001b[1;32m    <a href='file:///home/hampus/.cache/pypoetry/virtualenvs/ml-classify-pJEs0r8S-py3.8/lib/python3.8/site-packages/matplotlib/pyplot.py?line=959'>960</a>\u001b[0m     \u001b[39mreturn\u001b[39;00m res\n",
      "File \u001b[0;32m~/.cache/pypoetry/virtualenvs/ml-classify-pJEs0r8S-py3.8/lib/python3.8/site-packages/matplotlib/figure.py:3019\u001b[0m, in \u001b[0;36mFigure.savefig\u001b[0;34m(self, fname, transparent, **kwargs)\u001b[0m\n\u001b[1;32m   <a href='file:///home/hampus/.cache/pypoetry/virtualenvs/ml-classify-pJEs0r8S-py3.8/lib/python3.8/site-packages/matplotlib/figure.py?line=3014'>3015</a>\u001b[0m     \u001b[39mfor\u001b[39;00m ax \u001b[39min\u001b[39;00m \u001b[39mself\u001b[39m\u001b[39m.\u001b[39maxes:\n\u001b[1;32m   <a href='file:///home/hampus/.cache/pypoetry/virtualenvs/ml-classify-pJEs0r8S-py3.8/lib/python3.8/site-packages/matplotlib/figure.py?line=3015'>3016</a>\u001b[0m         stack\u001b[39m.\u001b[39menter_context(\n\u001b[1;32m   <a href='file:///home/hampus/.cache/pypoetry/virtualenvs/ml-classify-pJEs0r8S-py3.8/lib/python3.8/site-packages/matplotlib/figure.py?line=3016'>3017</a>\u001b[0m             ax\u001b[39m.\u001b[39mpatch\u001b[39m.\u001b[39m_cm_set(facecolor\u001b[39m=\u001b[39m\u001b[39m'\u001b[39m\u001b[39mnone\u001b[39m\u001b[39m'\u001b[39m, edgecolor\u001b[39m=\u001b[39m\u001b[39m'\u001b[39m\u001b[39mnone\u001b[39m\u001b[39m'\u001b[39m))\n\u001b[0;32m-> <a href='file:///home/hampus/.cache/pypoetry/virtualenvs/ml-classify-pJEs0r8S-py3.8/lib/python3.8/site-packages/matplotlib/figure.py?line=3018'>3019</a>\u001b[0m \u001b[39mself\u001b[39;49m\u001b[39m.\u001b[39;49mcanvas\u001b[39m.\u001b[39;49mprint_figure(fname, \u001b[39m*\u001b[39;49m\u001b[39m*\u001b[39;49mkwargs)\n",
      "File \u001b[0;32m~/.cache/pypoetry/virtualenvs/ml-classify-pJEs0r8S-py3.8/lib/python3.8/site-packages/matplotlib/backend_bases.py:2319\u001b[0m, in \u001b[0;36mFigureCanvasBase.print_figure\u001b[0;34m(self, filename, dpi, facecolor, edgecolor, orientation, format, bbox_inches, pad_inches, bbox_extra_artists, backend, **kwargs)\u001b[0m\n\u001b[1;32m   <a href='file:///home/hampus/.cache/pypoetry/virtualenvs/ml-classify-pJEs0r8S-py3.8/lib/python3.8/site-packages/matplotlib/backend_bases.py?line=2314'>2315</a>\u001b[0m \u001b[39mtry\u001b[39;00m:\n\u001b[1;32m   <a href='file:///home/hampus/.cache/pypoetry/virtualenvs/ml-classify-pJEs0r8S-py3.8/lib/python3.8/site-packages/matplotlib/backend_bases.py?line=2315'>2316</a>\u001b[0m     \u001b[39m# _get_renderer may change the figure dpi (as vector formats\u001b[39;00m\n\u001b[1;32m   <a href='file:///home/hampus/.cache/pypoetry/virtualenvs/ml-classify-pJEs0r8S-py3.8/lib/python3.8/site-packages/matplotlib/backend_bases.py?line=2316'>2317</a>\u001b[0m     \u001b[39m# force the figure dpi to 72), so we need to set it again here.\u001b[39;00m\n\u001b[1;32m   <a href='file:///home/hampus/.cache/pypoetry/virtualenvs/ml-classify-pJEs0r8S-py3.8/lib/python3.8/site-packages/matplotlib/backend_bases.py?line=2317'>2318</a>\u001b[0m     \u001b[39mwith\u001b[39;00m cbook\u001b[39m.\u001b[39m_setattr_cm(\u001b[39mself\u001b[39m\u001b[39m.\u001b[39mfigure, dpi\u001b[39m=\u001b[39mdpi):\n\u001b[0;32m-> <a href='file:///home/hampus/.cache/pypoetry/virtualenvs/ml-classify-pJEs0r8S-py3.8/lib/python3.8/site-packages/matplotlib/backend_bases.py?line=2318'>2319</a>\u001b[0m         result \u001b[39m=\u001b[39m print_method(\n\u001b[1;32m   <a href='file:///home/hampus/.cache/pypoetry/virtualenvs/ml-classify-pJEs0r8S-py3.8/lib/python3.8/site-packages/matplotlib/backend_bases.py?line=2319'>2320</a>\u001b[0m             filename,\n\u001b[1;32m   <a href='file:///home/hampus/.cache/pypoetry/virtualenvs/ml-classify-pJEs0r8S-py3.8/lib/python3.8/site-packages/matplotlib/backend_bases.py?line=2320'>2321</a>\u001b[0m             facecolor\u001b[39m=\u001b[39;49mfacecolor,\n\u001b[1;32m   <a href='file:///home/hampus/.cache/pypoetry/virtualenvs/ml-classify-pJEs0r8S-py3.8/lib/python3.8/site-packages/matplotlib/backend_bases.py?line=2321'>2322</a>\u001b[0m             edgecolor\u001b[39m=\u001b[39;49medgecolor,\n\u001b[1;32m   <a href='file:///home/hampus/.cache/pypoetry/virtualenvs/ml-classify-pJEs0r8S-py3.8/lib/python3.8/site-packages/matplotlib/backend_bases.py?line=2322'>2323</a>\u001b[0m             orientation\u001b[39m=\u001b[39;49morientation,\n\u001b[1;32m   <a href='file:///home/hampus/.cache/pypoetry/virtualenvs/ml-classify-pJEs0r8S-py3.8/lib/python3.8/site-packages/matplotlib/backend_bases.py?line=2323'>2324</a>\u001b[0m             bbox_inches_restore\u001b[39m=\u001b[39;49m_bbox_inches_restore,\n\u001b[1;32m   <a href='file:///home/hampus/.cache/pypoetry/virtualenvs/ml-classify-pJEs0r8S-py3.8/lib/python3.8/site-packages/matplotlib/backend_bases.py?line=2324'>2325</a>\u001b[0m             \u001b[39m*\u001b[39;49m\u001b[39m*\u001b[39;49mkwargs)\n\u001b[1;32m   <a href='file:///home/hampus/.cache/pypoetry/virtualenvs/ml-classify-pJEs0r8S-py3.8/lib/python3.8/site-packages/matplotlib/backend_bases.py?line=2325'>2326</a>\u001b[0m \u001b[39mfinally\u001b[39;00m:\n\u001b[1;32m   <a href='file:///home/hampus/.cache/pypoetry/virtualenvs/ml-classify-pJEs0r8S-py3.8/lib/python3.8/site-packages/matplotlib/backend_bases.py?line=2326'>2327</a>\u001b[0m     \u001b[39mif\u001b[39;00m bbox_inches \u001b[39mand\u001b[39;00m restore_bbox:\n",
      "File \u001b[0;32m~/.cache/pypoetry/virtualenvs/ml-classify-pJEs0r8S-py3.8/lib/python3.8/site-packages/matplotlib/backends/backend_pgf.py:860\u001b[0m, in \u001b[0;36mFigureCanvasPgf.print_pgf\u001b[0;34m(self, fname_or_fh, **kwargs)\u001b[0m\n\u001b[1;32m    <a href='file:///home/hampus/.cache/pypoetry/virtualenvs/ml-classify-pJEs0r8S-py3.8/lib/python3.8/site-packages/matplotlib/backends/backend_pgf.py?line=857'>858</a>\u001b[0m \u001b[39mif\u001b[39;00m \u001b[39mnot\u001b[39;00m cbook\u001b[39m.\u001b[39mfile_requires_unicode(file):\n\u001b[1;32m    <a href='file:///home/hampus/.cache/pypoetry/virtualenvs/ml-classify-pJEs0r8S-py3.8/lib/python3.8/site-packages/matplotlib/backends/backend_pgf.py?line=858'>859</a>\u001b[0m     file \u001b[39m=\u001b[39m codecs\u001b[39m.\u001b[39mgetwriter(\u001b[39m\"\u001b[39m\u001b[39mutf-8\u001b[39m\u001b[39m\"\u001b[39m)(file)\n\u001b[0;32m--> <a href='file:///home/hampus/.cache/pypoetry/virtualenvs/ml-classify-pJEs0r8S-py3.8/lib/python3.8/site-packages/matplotlib/backends/backend_pgf.py?line=859'>860</a>\u001b[0m \u001b[39mself\u001b[39;49m\u001b[39m.\u001b[39;49m_print_pgf_to_fh(file, \u001b[39m*\u001b[39;49m\u001b[39m*\u001b[39;49mkwargs)\n",
      "File \u001b[0;32m~/.cache/pypoetry/virtualenvs/ml-classify-pJEs0r8S-py3.8/lib/python3.8/site-packages/matplotlib/backend_bases.py:1648\u001b[0m, in \u001b[0;36m_check_savefig_extra_args.<locals>.wrapper\u001b[0;34m(*args, **kwargs)\u001b[0m\n\u001b[1;32m   <a href='file:///home/hampus/.cache/pypoetry/virtualenvs/ml-classify-pJEs0r8S-py3.8/lib/python3.8/site-packages/matplotlib/backend_bases.py?line=1639'>1640</a>\u001b[0m     _api\u001b[39m.\u001b[39mwarn_deprecated(\n\u001b[1;32m   <a href='file:///home/hampus/.cache/pypoetry/virtualenvs/ml-classify-pJEs0r8S-py3.8/lib/python3.8/site-packages/matplotlib/backend_bases.py?line=1640'>1641</a>\u001b[0m         \u001b[39m'\u001b[39m\u001b[39m3.3\u001b[39m\u001b[39m'\u001b[39m, name\u001b[39m=\u001b[39mname, removal\u001b[39m=\u001b[39m\u001b[39m'\u001b[39m\u001b[39m3.6\u001b[39m\u001b[39m'\u001b[39m,\n\u001b[1;32m   <a href='file:///home/hampus/.cache/pypoetry/virtualenvs/ml-classify-pJEs0r8S-py3.8/lib/python3.8/site-packages/matplotlib/backend_bases.py?line=1641'>1642</a>\u001b[0m         message\u001b[39m=\u001b[39m\u001b[39m'\u001b[39m\u001b[39m%(name)s\u001b[39;00m\u001b[39m() got unexpected keyword argument \u001b[39m\u001b[39m\"\u001b[39m\u001b[39m'\u001b[39m\n\u001b[1;32m   <a href='file:///home/hampus/.cache/pypoetry/virtualenvs/ml-classify-pJEs0r8S-py3.8/lib/python3.8/site-packages/matplotlib/backend_bases.py?line=1642'>1643</a>\u001b[0m                 \u001b[39m+\u001b[39m arg \u001b[39m+\u001b[39m \u001b[39m'\u001b[39m\u001b[39m\"\u001b[39m\u001b[39m which is no longer supported as of \u001b[39m\u001b[39m'\u001b[39m\n\u001b[1;32m   <a href='file:///home/hampus/.cache/pypoetry/virtualenvs/ml-classify-pJEs0r8S-py3.8/lib/python3.8/site-packages/matplotlib/backend_bases.py?line=1643'>1644</a>\u001b[0m                 \u001b[39m'\u001b[39m\u001b[39m%(since)s\u001b[39;00m\u001b[39m and will become an error \u001b[39m\u001b[39m'\u001b[39m\n\u001b[1;32m   <a href='file:///home/hampus/.cache/pypoetry/virtualenvs/ml-classify-pJEs0r8S-py3.8/lib/python3.8/site-packages/matplotlib/backend_bases.py?line=1644'>1645</a>\u001b[0m                 \u001b[39m'\u001b[39m\u001b[39m%(removal)s\u001b[39;00m\u001b[39m'\u001b[39m)\n\u001b[1;32m   <a href='file:///home/hampus/.cache/pypoetry/virtualenvs/ml-classify-pJEs0r8S-py3.8/lib/python3.8/site-packages/matplotlib/backend_bases.py?line=1645'>1646</a>\u001b[0m     kwargs\u001b[39m.\u001b[39mpop(arg)\n\u001b[0;32m-> <a href='file:///home/hampus/.cache/pypoetry/virtualenvs/ml-classify-pJEs0r8S-py3.8/lib/python3.8/site-packages/matplotlib/backend_bases.py?line=1647'>1648</a>\u001b[0m \u001b[39mreturn\u001b[39;00m func(\u001b[39m*\u001b[39;49margs, \u001b[39m*\u001b[39;49m\u001b[39m*\u001b[39;49mkwargs)\n",
      "File \u001b[0;32m~/.cache/pypoetry/virtualenvs/ml-classify-pJEs0r8S-py3.8/lib/python3.8/site-packages/matplotlib/backends/backend_pgf.py:845\u001b[0m, in \u001b[0;36mFigureCanvasPgf._print_pgf_to_fh\u001b[0;34m(self, fh, bbox_inches_restore)\u001b[0m\n\u001b[1;32m    <a href='file:///home/hampus/.cache/pypoetry/virtualenvs/ml-classify-pJEs0r8S-py3.8/lib/python3.8/site-packages/matplotlib/backends/backend_pgf.py?line=840'>841</a>\u001b[0m writeln(fh, \u001b[39mr\u001b[39m\u001b[39m\"\u001b[39m\u001b[39m\\\u001b[39m\u001b[39mpgfusepath\u001b[39m\u001b[39m{\u001b[39m\u001b[39muse as bounding box, clip}\u001b[39m\u001b[39m\"\u001b[39m)\n\u001b[1;32m    <a href='file:///home/hampus/.cache/pypoetry/virtualenvs/ml-classify-pJEs0r8S-py3.8/lib/python3.8/site-packages/matplotlib/backends/backend_pgf.py?line=841'>842</a>\u001b[0m renderer \u001b[39m=\u001b[39m MixedModeRenderer(\u001b[39mself\u001b[39m\u001b[39m.\u001b[39mfigure, w, h, dpi,\n\u001b[1;32m    <a href='file:///home/hampus/.cache/pypoetry/virtualenvs/ml-classify-pJEs0r8S-py3.8/lib/python3.8/site-packages/matplotlib/backends/backend_pgf.py?line=842'>843</a>\u001b[0m                              RendererPgf(\u001b[39mself\u001b[39m\u001b[39m.\u001b[39mfigure, fh),\n\u001b[1;32m    <a href='file:///home/hampus/.cache/pypoetry/virtualenvs/ml-classify-pJEs0r8S-py3.8/lib/python3.8/site-packages/matplotlib/backends/backend_pgf.py?line=843'>844</a>\u001b[0m                              bbox_inches_restore\u001b[39m=\u001b[39mbbox_inches_restore)\n\u001b[0;32m--> <a href='file:///home/hampus/.cache/pypoetry/virtualenvs/ml-classify-pJEs0r8S-py3.8/lib/python3.8/site-packages/matplotlib/backends/backend_pgf.py?line=844'>845</a>\u001b[0m \u001b[39mself\u001b[39;49m\u001b[39m.\u001b[39;49mfigure\u001b[39m.\u001b[39;49mdraw(renderer)\n\u001b[1;32m    <a href='file:///home/hampus/.cache/pypoetry/virtualenvs/ml-classify-pJEs0r8S-py3.8/lib/python3.8/site-packages/matplotlib/backends/backend_pgf.py?line=846'>847</a>\u001b[0m \u001b[39m# end the pgfpicture environment\u001b[39;00m\n\u001b[1;32m    <a href='file:///home/hampus/.cache/pypoetry/virtualenvs/ml-classify-pJEs0r8S-py3.8/lib/python3.8/site-packages/matplotlib/backends/backend_pgf.py?line=847'>848</a>\u001b[0m writeln(fh, \u001b[39mr\u001b[39m\u001b[39m\"\u001b[39m\u001b[39m\\\u001b[39m\u001b[39mend\u001b[39m\u001b[39m{pgfpicture}\u001b[39;00m\u001b[39m\"\u001b[39m)\n",
      "File \u001b[0;32m~/.cache/pypoetry/virtualenvs/ml-classify-pJEs0r8S-py3.8/lib/python3.8/site-packages/matplotlib/artist.py:73\u001b[0m, in \u001b[0;36m_finalize_rasterization.<locals>.draw_wrapper\u001b[0;34m(artist, renderer, *args, **kwargs)\u001b[0m\n\u001b[1;32m     <a href='file:///home/hampus/.cache/pypoetry/virtualenvs/ml-classify-pJEs0r8S-py3.8/lib/python3.8/site-packages/matplotlib/artist.py?line=70'>71</a>\u001b[0m \u001b[39m@wraps\u001b[39m(draw)\n\u001b[1;32m     <a href='file:///home/hampus/.cache/pypoetry/virtualenvs/ml-classify-pJEs0r8S-py3.8/lib/python3.8/site-packages/matplotlib/artist.py?line=71'>72</a>\u001b[0m \u001b[39mdef\u001b[39;00m \u001b[39mdraw_wrapper\u001b[39m(artist, renderer, \u001b[39m*\u001b[39margs, \u001b[39m*\u001b[39m\u001b[39m*\u001b[39mkwargs):\n\u001b[0;32m---> <a href='file:///home/hampus/.cache/pypoetry/virtualenvs/ml-classify-pJEs0r8S-py3.8/lib/python3.8/site-packages/matplotlib/artist.py?line=72'>73</a>\u001b[0m     result \u001b[39m=\u001b[39m draw(artist, renderer, \u001b[39m*\u001b[39;49margs, \u001b[39m*\u001b[39;49m\u001b[39m*\u001b[39;49mkwargs)\n\u001b[1;32m     <a href='file:///home/hampus/.cache/pypoetry/virtualenvs/ml-classify-pJEs0r8S-py3.8/lib/python3.8/site-packages/matplotlib/artist.py?line=73'>74</a>\u001b[0m     \u001b[39mif\u001b[39;00m renderer\u001b[39m.\u001b[39m_rasterizing:\n\u001b[1;32m     <a href='file:///home/hampus/.cache/pypoetry/virtualenvs/ml-classify-pJEs0r8S-py3.8/lib/python3.8/site-packages/matplotlib/artist.py?line=74'>75</a>\u001b[0m         renderer\u001b[39m.\u001b[39mstop_rasterizing()\n",
      "File \u001b[0;32m~/.cache/pypoetry/virtualenvs/ml-classify-pJEs0r8S-py3.8/lib/python3.8/site-packages/matplotlib/artist.py:50\u001b[0m, in \u001b[0;36mallow_rasterization.<locals>.draw_wrapper\u001b[0;34m(artist, renderer)\u001b[0m\n\u001b[1;32m     <a href='file:///home/hampus/.cache/pypoetry/virtualenvs/ml-classify-pJEs0r8S-py3.8/lib/python3.8/site-packages/matplotlib/artist.py?line=46'>47</a>\u001b[0m     \u001b[39mif\u001b[39;00m artist\u001b[39m.\u001b[39mget_agg_filter() \u001b[39mis\u001b[39;00m \u001b[39mnot\u001b[39;00m \u001b[39mNone\u001b[39;00m:\n\u001b[1;32m     <a href='file:///home/hampus/.cache/pypoetry/virtualenvs/ml-classify-pJEs0r8S-py3.8/lib/python3.8/site-packages/matplotlib/artist.py?line=47'>48</a>\u001b[0m         renderer\u001b[39m.\u001b[39mstart_filter()\n\u001b[0;32m---> <a href='file:///home/hampus/.cache/pypoetry/virtualenvs/ml-classify-pJEs0r8S-py3.8/lib/python3.8/site-packages/matplotlib/artist.py?line=49'>50</a>\u001b[0m     \u001b[39mreturn\u001b[39;00m draw(artist, renderer)\n\u001b[1;32m     <a href='file:///home/hampus/.cache/pypoetry/virtualenvs/ml-classify-pJEs0r8S-py3.8/lib/python3.8/site-packages/matplotlib/artist.py?line=50'>51</a>\u001b[0m \u001b[39mfinally\u001b[39;00m:\n\u001b[1;32m     <a href='file:///home/hampus/.cache/pypoetry/virtualenvs/ml-classify-pJEs0r8S-py3.8/lib/python3.8/site-packages/matplotlib/artist.py?line=51'>52</a>\u001b[0m     \u001b[39mif\u001b[39;00m artist\u001b[39m.\u001b[39mget_agg_filter() \u001b[39mis\u001b[39;00m \u001b[39mnot\u001b[39;00m \u001b[39mNone\u001b[39;00m:\n",
      "File \u001b[0;32m~/.cache/pypoetry/virtualenvs/ml-classify-pJEs0r8S-py3.8/lib/python3.8/site-packages/matplotlib/figure.py:2810\u001b[0m, in \u001b[0;36mFigure.draw\u001b[0;34m(self, renderer)\u001b[0m\n\u001b[1;32m   <a href='file:///home/hampus/.cache/pypoetry/virtualenvs/ml-classify-pJEs0r8S-py3.8/lib/python3.8/site-packages/matplotlib/figure.py?line=2806'>2807</a>\u001b[0m         \u001b[39m# ValueError can occur when resizing a window.\u001b[39;00m\n\u001b[1;32m   <a href='file:///home/hampus/.cache/pypoetry/virtualenvs/ml-classify-pJEs0r8S-py3.8/lib/python3.8/site-packages/matplotlib/figure.py?line=2808'>2809</a>\u001b[0m \u001b[39mself\u001b[39m\u001b[39m.\u001b[39mpatch\u001b[39m.\u001b[39mdraw(renderer)\n\u001b[0;32m-> <a href='file:///home/hampus/.cache/pypoetry/virtualenvs/ml-classify-pJEs0r8S-py3.8/lib/python3.8/site-packages/matplotlib/figure.py?line=2809'>2810</a>\u001b[0m mimage\u001b[39m.\u001b[39;49m_draw_list_compositing_images(\n\u001b[1;32m   <a href='file:///home/hampus/.cache/pypoetry/virtualenvs/ml-classify-pJEs0r8S-py3.8/lib/python3.8/site-packages/matplotlib/figure.py?line=2810'>2811</a>\u001b[0m     renderer, \u001b[39mself\u001b[39;49m, artists, \u001b[39mself\u001b[39;49m\u001b[39m.\u001b[39;49msuppressComposite)\n\u001b[1;32m   <a href='file:///home/hampus/.cache/pypoetry/virtualenvs/ml-classify-pJEs0r8S-py3.8/lib/python3.8/site-packages/matplotlib/figure.py?line=2812'>2813</a>\u001b[0m \u001b[39mfor\u001b[39;00m sfig \u001b[39min\u001b[39;00m \u001b[39mself\u001b[39m\u001b[39m.\u001b[39msubfigs:\n\u001b[1;32m   <a href='file:///home/hampus/.cache/pypoetry/virtualenvs/ml-classify-pJEs0r8S-py3.8/lib/python3.8/site-packages/matplotlib/figure.py?line=2813'>2814</a>\u001b[0m     sfig\u001b[39m.\u001b[39mdraw(renderer)\n",
      "File \u001b[0;32m~/.cache/pypoetry/virtualenvs/ml-classify-pJEs0r8S-py3.8/lib/python3.8/site-packages/matplotlib/image.py:132\u001b[0m, in \u001b[0;36m_draw_list_compositing_images\u001b[0;34m(renderer, parent, artists, suppress_composite)\u001b[0m\n\u001b[1;32m    <a href='file:///home/hampus/.cache/pypoetry/virtualenvs/ml-classify-pJEs0r8S-py3.8/lib/python3.8/site-packages/matplotlib/image.py?line=129'>130</a>\u001b[0m \u001b[39mif\u001b[39;00m not_composite \u001b[39mor\u001b[39;00m \u001b[39mnot\u001b[39;00m has_images:\n\u001b[1;32m    <a href='file:///home/hampus/.cache/pypoetry/virtualenvs/ml-classify-pJEs0r8S-py3.8/lib/python3.8/site-packages/matplotlib/image.py?line=130'>131</a>\u001b[0m     \u001b[39mfor\u001b[39;00m a \u001b[39min\u001b[39;00m artists:\n\u001b[0;32m--> <a href='file:///home/hampus/.cache/pypoetry/virtualenvs/ml-classify-pJEs0r8S-py3.8/lib/python3.8/site-packages/matplotlib/image.py?line=131'>132</a>\u001b[0m         a\u001b[39m.\u001b[39;49mdraw(renderer)\n\u001b[1;32m    <a href='file:///home/hampus/.cache/pypoetry/virtualenvs/ml-classify-pJEs0r8S-py3.8/lib/python3.8/site-packages/matplotlib/image.py?line=132'>133</a>\u001b[0m \u001b[39melse\u001b[39;00m:\n\u001b[1;32m    <a href='file:///home/hampus/.cache/pypoetry/virtualenvs/ml-classify-pJEs0r8S-py3.8/lib/python3.8/site-packages/matplotlib/image.py?line=133'>134</a>\u001b[0m     \u001b[39m# Composite any adjacent images together\u001b[39;00m\n\u001b[1;32m    <a href='file:///home/hampus/.cache/pypoetry/virtualenvs/ml-classify-pJEs0r8S-py3.8/lib/python3.8/site-packages/matplotlib/image.py?line=134'>135</a>\u001b[0m     image_group \u001b[39m=\u001b[39m []\n",
      "File \u001b[0;32m~/.cache/pypoetry/virtualenvs/ml-classify-pJEs0r8S-py3.8/lib/python3.8/site-packages/matplotlib/artist.py:50\u001b[0m, in \u001b[0;36mallow_rasterization.<locals>.draw_wrapper\u001b[0;34m(artist, renderer)\u001b[0m\n\u001b[1;32m     <a href='file:///home/hampus/.cache/pypoetry/virtualenvs/ml-classify-pJEs0r8S-py3.8/lib/python3.8/site-packages/matplotlib/artist.py?line=46'>47</a>\u001b[0m     \u001b[39mif\u001b[39;00m artist\u001b[39m.\u001b[39mget_agg_filter() \u001b[39mis\u001b[39;00m \u001b[39mnot\u001b[39;00m \u001b[39mNone\u001b[39;00m:\n\u001b[1;32m     <a href='file:///home/hampus/.cache/pypoetry/virtualenvs/ml-classify-pJEs0r8S-py3.8/lib/python3.8/site-packages/matplotlib/artist.py?line=47'>48</a>\u001b[0m         renderer\u001b[39m.\u001b[39mstart_filter()\n\u001b[0;32m---> <a href='file:///home/hampus/.cache/pypoetry/virtualenvs/ml-classify-pJEs0r8S-py3.8/lib/python3.8/site-packages/matplotlib/artist.py?line=49'>50</a>\u001b[0m     \u001b[39mreturn\u001b[39;00m draw(artist, renderer)\n\u001b[1;32m     <a href='file:///home/hampus/.cache/pypoetry/virtualenvs/ml-classify-pJEs0r8S-py3.8/lib/python3.8/site-packages/matplotlib/artist.py?line=50'>51</a>\u001b[0m \u001b[39mfinally\u001b[39;00m:\n\u001b[1;32m     <a href='file:///home/hampus/.cache/pypoetry/virtualenvs/ml-classify-pJEs0r8S-py3.8/lib/python3.8/site-packages/matplotlib/artist.py?line=51'>52</a>\u001b[0m     \u001b[39mif\u001b[39;00m artist\u001b[39m.\u001b[39mget_agg_filter() \u001b[39mis\u001b[39;00m \u001b[39mnot\u001b[39;00m \u001b[39mNone\u001b[39;00m:\n",
      "File \u001b[0;32m~/.cache/pypoetry/virtualenvs/ml-classify-pJEs0r8S-py3.8/lib/python3.8/site-packages/matplotlib/axes/_base.py:3082\u001b[0m, in \u001b[0;36m_AxesBase.draw\u001b[0;34m(self, renderer)\u001b[0m\n\u001b[1;32m   <a href='file:///home/hampus/.cache/pypoetry/virtualenvs/ml-classify-pJEs0r8S-py3.8/lib/python3.8/site-packages/matplotlib/axes/_base.py?line=3078'>3079</a>\u001b[0m         a\u001b[39m.\u001b[39mdraw(renderer)\n\u001b[1;32m   <a href='file:///home/hampus/.cache/pypoetry/virtualenvs/ml-classify-pJEs0r8S-py3.8/lib/python3.8/site-packages/matplotlib/axes/_base.py?line=3079'>3080</a>\u001b[0m     renderer\u001b[39m.\u001b[39mstop_rasterizing()\n\u001b[0;32m-> <a href='file:///home/hampus/.cache/pypoetry/virtualenvs/ml-classify-pJEs0r8S-py3.8/lib/python3.8/site-packages/matplotlib/axes/_base.py?line=3081'>3082</a>\u001b[0m mimage\u001b[39m.\u001b[39;49m_draw_list_compositing_images(\n\u001b[1;32m   <a href='file:///home/hampus/.cache/pypoetry/virtualenvs/ml-classify-pJEs0r8S-py3.8/lib/python3.8/site-packages/matplotlib/axes/_base.py?line=3082'>3083</a>\u001b[0m     renderer, \u001b[39mself\u001b[39;49m, artists, \u001b[39mself\u001b[39;49m\u001b[39m.\u001b[39;49mfigure\u001b[39m.\u001b[39;49msuppressComposite)\n\u001b[1;32m   <a href='file:///home/hampus/.cache/pypoetry/virtualenvs/ml-classify-pJEs0r8S-py3.8/lib/python3.8/site-packages/matplotlib/axes/_base.py?line=3084'>3085</a>\u001b[0m renderer\u001b[39m.\u001b[39mclose_group(\u001b[39m'\u001b[39m\u001b[39maxes\u001b[39m\u001b[39m'\u001b[39m)\n\u001b[1;32m   <a href='file:///home/hampus/.cache/pypoetry/virtualenvs/ml-classify-pJEs0r8S-py3.8/lib/python3.8/site-packages/matplotlib/axes/_base.py?line=3085'>3086</a>\u001b[0m \u001b[39mself\u001b[39m\u001b[39m.\u001b[39mstale \u001b[39m=\u001b[39m \u001b[39mFalse\u001b[39;00m\n",
      "File \u001b[0;32m~/.cache/pypoetry/virtualenvs/ml-classify-pJEs0r8S-py3.8/lib/python3.8/site-packages/matplotlib/image.py:132\u001b[0m, in \u001b[0;36m_draw_list_compositing_images\u001b[0;34m(renderer, parent, artists, suppress_composite)\u001b[0m\n\u001b[1;32m    <a href='file:///home/hampus/.cache/pypoetry/virtualenvs/ml-classify-pJEs0r8S-py3.8/lib/python3.8/site-packages/matplotlib/image.py?line=129'>130</a>\u001b[0m \u001b[39mif\u001b[39;00m not_composite \u001b[39mor\u001b[39;00m \u001b[39mnot\u001b[39;00m has_images:\n\u001b[1;32m    <a href='file:///home/hampus/.cache/pypoetry/virtualenvs/ml-classify-pJEs0r8S-py3.8/lib/python3.8/site-packages/matplotlib/image.py?line=130'>131</a>\u001b[0m     \u001b[39mfor\u001b[39;00m a \u001b[39min\u001b[39;00m artists:\n\u001b[0;32m--> <a href='file:///home/hampus/.cache/pypoetry/virtualenvs/ml-classify-pJEs0r8S-py3.8/lib/python3.8/site-packages/matplotlib/image.py?line=131'>132</a>\u001b[0m         a\u001b[39m.\u001b[39;49mdraw(renderer)\n\u001b[1;32m    <a href='file:///home/hampus/.cache/pypoetry/virtualenvs/ml-classify-pJEs0r8S-py3.8/lib/python3.8/site-packages/matplotlib/image.py?line=132'>133</a>\u001b[0m \u001b[39melse\u001b[39;00m:\n\u001b[1;32m    <a href='file:///home/hampus/.cache/pypoetry/virtualenvs/ml-classify-pJEs0r8S-py3.8/lib/python3.8/site-packages/matplotlib/image.py?line=133'>134</a>\u001b[0m     \u001b[39m# Composite any adjacent images together\u001b[39;00m\n\u001b[1;32m    <a href='file:///home/hampus/.cache/pypoetry/virtualenvs/ml-classify-pJEs0r8S-py3.8/lib/python3.8/site-packages/matplotlib/image.py?line=134'>135</a>\u001b[0m     image_group \u001b[39m=\u001b[39m []\n",
      "File \u001b[0;32m~/.cache/pypoetry/virtualenvs/ml-classify-pJEs0r8S-py3.8/lib/python3.8/site-packages/matplotlib/artist.py:50\u001b[0m, in \u001b[0;36mallow_rasterization.<locals>.draw_wrapper\u001b[0;34m(artist, renderer)\u001b[0m\n\u001b[1;32m     <a href='file:///home/hampus/.cache/pypoetry/virtualenvs/ml-classify-pJEs0r8S-py3.8/lib/python3.8/site-packages/matplotlib/artist.py?line=46'>47</a>\u001b[0m     \u001b[39mif\u001b[39;00m artist\u001b[39m.\u001b[39mget_agg_filter() \u001b[39mis\u001b[39;00m \u001b[39mnot\u001b[39;00m \u001b[39mNone\u001b[39;00m:\n\u001b[1;32m     <a href='file:///home/hampus/.cache/pypoetry/virtualenvs/ml-classify-pJEs0r8S-py3.8/lib/python3.8/site-packages/matplotlib/artist.py?line=47'>48</a>\u001b[0m         renderer\u001b[39m.\u001b[39mstart_filter()\n\u001b[0;32m---> <a href='file:///home/hampus/.cache/pypoetry/virtualenvs/ml-classify-pJEs0r8S-py3.8/lib/python3.8/site-packages/matplotlib/artist.py?line=49'>50</a>\u001b[0m     \u001b[39mreturn\u001b[39;00m draw(artist, renderer)\n\u001b[1;32m     <a href='file:///home/hampus/.cache/pypoetry/virtualenvs/ml-classify-pJEs0r8S-py3.8/lib/python3.8/site-packages/matplotlib/artist.py?line=50'>51</a>\u001b[0m \u001b[39mfinally\u001b[39;00m:\n\u001b[1;32m     <a href='file:///home/hampus/.cache/pypoetry/virtualenvs/ml-classify-pJEs0r8S-py3.8/lib/python3.8/site-packages/matplotlib/artist.py?line=51'>52</a>\u001b[0m     \u001b[39mif\u001b[39;00m artist\u001b[39m.\u001b[39mget_agg_filter() \u001b[39mis\u001b[39;00m \u001b[39mnot\u001b[39;00m \u001b[39mNone\u001b[39;00m:\n",
      "File \u001b[0;32m~/.cache/pypoetry/virtualenvs/ml-classify-pJEs0r8S-py3.8/lib/python3.8/site-packages/matplotlib/axis.py:1159\u001b[0m, in \u001b[0;36mAxis.draw\u001b[0;34m(self, renderer, *args, **kwargs)\u001b[0m\n\u001b[1;32m   <a href='file:///home/hampus/.cache/pypoetry/virtualenvs/ml-classify-pJEs0r8S-py3.8/lib/python3.8/site-packages/matplotlib/axis.py?line=1155'>1156</a>\u001b[0m renderer\u001b[39m.\u001b[39mopen_group(\u001b[39m__name__\u001b[39m, gid\u001b[39m=\u001b[39m\u001b[39mself\u001b[39m\u001b[39m.\u001b[39mget_gid())\n\u001b[1;32m   <a href='file:///home/hampus/.cache/pypoetry/virtualenvs/ml-classify-pJEs0r8S-py3.8/lib/python3.8/site-packages/matplotlib/axis.py?line=1157'>1158</a>\u001b[0m ticks_to_draw \u001b[39m=\u001b[39m \u001b[39mself\u001b[39m\u001b[39m.\u001b[39m_update_ticks()\n\u001b[0;32m-> <a href='file:///home/hampus/.cache/pypoetry/virtualenvs/ml-classify-pJEs0r8S-py3.8/lib/python3.8/site-packages/matplotlib/axis.py?line=1158'>1159</a>\u001b[0m ticklabelBoxes, ticklabelBoxes2 \u001b[39m=\u001b[39m \u001b[39mself\u001b[39;49m\u001b[39m.\u001b[39;49m_get_tick_bboxes(ticks_to_draw,\n\u001b[1;32m   <a href='file:///home/hampus/.cache/pypoetry/virtualenvs/ml-classify-pJEs0r8S-py3.8/lib/python3.8/site-packages/matplotlib/axis.py?line=1159'>1160</a>\u001b[0m                                                         renderer)\n\u001b[1;32m   <a href='file:///home/hampus/.cache/pypoetry/virtualenvs/ml-classify-pJEs0r8S-py3.8/lib/python3.8/site-packages/matplotlib/axis.py?line=1161'>1162</a>\u001b[0m \u001b[39mfor\u001b[39;00m tick \u001b[39min\u001b[39;00m ticks_to_draw:\n\u001b[1;32m   <a href='file:///home/hampus/.cache/pypoetry/virtualenvs/ml-classify-pJEs0r8S-py3.8/lib/python3.8/site-packages/matplotlib/axis.py?line=1162'>1163</a>\u001b[0m     tick\u001b[39m.\u001b[39mdraw(renderer)\n",
      "File \u001b[0;32m~/.cache/pypoetry/virtualenvs/ml-classify-pJEs0r8S-py3.8/lib/python3.8/site-packages/matplotlib/axis.py:1085\u001b[0m, in \u001b[0;36mAxis._get_tick_bboxes\u001b[0;34m(self, ticks, renderer)\u001b[0m\n\u001b[1;32m   <a href='file:///home/hampus/.cache/pypoetry/virtualenvs/ml-classify-pJEs0r8S-py3.8/lib/python3.8/site-packages/matplotlib/axis.py?line=1082'>1083</a>\u001b[0m \u001b[39mdef\u001b[39;00m \u001b[39m_get_tick_bboxes\u001b[39m(\u001b[39mself\u001b[39m, ticks, renderer):\n\u001b[1;32m   <a href='file:///home/hampus/.cache/pypoetry/virtualenvs/ml-classify-pJEs0r8S-py3.8/lib/python3.8/site-packages/matplotlib/axis.py?line=1083'>1084</a>\u001b[0m     \u001b[39m\"\"\"Return lists of bboxes for ticks' label1's and label2's.\"\"\"\u001b[39;00m\n\u001b[0;32m-> <a href='file:///home/hampus/.cache/pypoetry/virtualenvs/ml-classify-pJEs0r8S-py3.8/lib/python3.8/site-packages/matplotlib/axis.py?line=1084'>1085</a>\u001b[0m     \u001b[39mreturn\u001b[39;00m ([tick\u001b[39m.\u001b[39mlabel1\u001b[39m.\u001b[39mget_window_extent(renderer)\n\u001b[1;32m   <a href='file:///home/hampus/.cache/pypoetry/virtualenvs/ml-classify-pJEs0r8S-py3.8/lib/python3.8/site-packages/matplotlib/axis.py?line=1085'>1086</a>\u001b[0m              \u001b[39mfor\u001b[39;00m tick \u001b[39min\u001b[39;00m ticks \u001b[39mif\u001b[39;00m tick\u001b[39m.\u001b[39mlabel1\u001b[39m.\u001b[39mget_visible()],\n\u001b[1;32m   <a href='file:///home/hampus/.cache/pypoetry/virtualenvs/ml-classify-pJEs0r8S-py3.8/lib/python3.8/site-packages/matplotlib/axis.py?line=1086'>1087</a>\u001b[0m             [tick\u001b[39m.\u001b[39mlabel2\u001b[39m.\u001b[39mget_window_extent(renderer)\n\u001b[1;32m   <a href='file:///home/hampus/.cache/pypoetry/virtualenvs/ml-classify-pJEs0r8S-py3.8/lib/python3.8/site-packages/matplotlib/axis.py?line=1087'>1088</a>\u001b[0m              \u001b[39mfor\u001b[39;00m tick \u001b[39min\u001b[39;00m ticks \u001b[39mif\u001b[39;00m tick\u001b[39m.\u001b[39mlabel2\u001b[39m.\u001b[39mget_visible()])\n",
      "File \u001b[0;32m~/.cache/pypoetry/virtualenvs/ml-classify-pJEs0r8S-py3.8/lib/python3.8/site-packages/matplotlib/axis.py:1085\u001b[0m, in \u001b[0;36m<listcomp>\u001b[0;34m(.0)\u001b[0m\n\u001b[1;32m   <a href='file:///home/hampus/.cache/pypoetry/virtualenvs/ml-classify-pJEs0r8S-py3.8/lib/python3.8/site-packages/matplotlib/axis.py?line=1082'>1083</a>\u001b[0m \u001b[39mdef\u001b[39;00m \u001b[39m_get_tick_bboxes\u001b[39m(\u001b[39mself\u001b[39m, ticks, renderer):\n\u001b[1;32m   <a href='file:///home/hampus/.cache/pypoetry/virtualenvs/ml-classify-pJEs0r8S-py3.8/lib/python3.8/site-packages/matplotlib/axis.py?line=1083'>1084</a>\u001b[0m     \u001b[39m\"\"\"Return lists of bboxes for ticks' label1's and label2's.\"\"\"\u001b[39;00m\n\u001b[0;32m-> <a href='file:///home/hampus/.cache/pypoetry/virtualenvs/ml-classify-pJEs0r8S-py3.8/lib/python3.8/site-packages/matplotlib/axis.py?line=1084'>1085</a>\u001b[0m     \u001b[39mreturn\u001b[39;00m ([tick\u001b[39m.\u001b[39;49mlabel1\u001b[39m.\u001b[39;49mget_window_extent(renderer)\n\u001b[1;32m   <a href='file:///home/hampus/.cache/pypoetry/virtualenvs/ml-classify-pJEs0r8S-py3.8/lib/python3.8/site-packages/matplotlib/axis.py?line=1085'>1086</a>\u001b[0m              \u001b[39mfor\u001b[39;00m tick \u001b[39min\u001b[39;00m ticks \u001b[39mif\u001b[39;00m tick\u001b[39m.\u001b[39mlabel1\u001b[39m.\u001b[39mget_visible()],\n\u001b[1;32m   <a href='file:///home/hampus/.cache/pypoetry/virtualenvs/ml-classify-pJEs0r8S-py3.8/lib/python3.8/site-packages/matplotlib/axis.py?line=1086'>1087</a>\u001b[0m             [tick\u001b[39m.\u001b[39mlabel2\u001b[39m.\u001b[39mget_window_extent(renderer)\n\u001b[1;32m   <a href='file:///home/hampus/.cache/pypoetry/virtualenvs/ml-classify-pJEs0r8S-py3.8/lib/python3.8/site-packages/matplotlib/axis.py?line=1087'>1088</a>\u001b[0m              \u001b[39mfor\u001b[39;00m tick \u001b[39min\u001b[39;00m ticks \u001b[39mif\u001b[39;00m tick\u001b[39m.\u001b[39mlabel2\u001b[39m.\u001b[39mget_visible()])\n",
      "File \u001b[0;32m~/.cache/pypoetry/virtualenvs/ml-classify-pJEs0r8S-py3.8/lib/python3.8/site-packages/matplotlib/text.py:910\u001b[0m, in \u001b[0;36mText.get_window_extent\u001b[0;34m(self, renderer, dpi)\u001b[0m\n\u001b[1;32m    <a href='file:///home/hampus/.cache/pypoetry/virtualenvs/ml-classify-pJEs0r8S-py3.8/lib/python3.8/site-packages/matplotlib/text.py?line=906'>907</a>\u001b[0m     \u001b[39mraise\u001b[39;00m \u001b[39mRuntimeError\u001b[39;00m(\u001b[39m'\u001b[39m\u001b[39mCannot get window extent w/o renderer\u001b[39m\u001b[39m'\u001b[39m)\n\u001b[1;32m    <a href='file:///home/hampus/.cache/pypoetry/virtualenvs/ml-classify-pJEs0r8S-py3.8/lib/python3.8/site-packages/matplotlib/text.py?line=908'>909</a>\u001b[0m \u001b[39mwith\u001b[39;00m cbook\u001b[39m.\u001b[39m_setattr_cm(\u001b[39mself\u001b[39m\u001b[39m.\u001b[39mfigure, dpi\u001b[39m=\u001b[39mdpi):\n\u001b[0;32m--> <a href='file:///home/hampus/.cache/pypoetry/virtualenvs/ml-classify-pJEs0r8S-py3.8/lib/python3.8/site-packages/matplotlib/text.py?line=909'>910</a>\u001b[0m     bbox, info, descent \u001b[39m=\u001b[39m \u001b[39mself\u001b[39;49m\u001b[39m.\u001b[39;49m_get_layout(\u001b[39mself\u001b[39;49m\u001b[39m.\u001b[39;49m_renderer)\n\u001b[1;32m    <a href='file:///home/hampus/.cache/pypoetry/virtualenvs/ml-classify-pJEs0r8S-py3.8/lib/python3.8/site-packages/matplotlib/text.py?line=910'>911</a>\u001b[0m     x, y \u001b[39m=\u001b[39m \u001b[39mself\u001b[39m\u001b[39m.\u001b[39mget_unitless_position()\n\u001b[1;32m    <a href='file:///home/hampus/.cache/pypoetry/virtualenvs/ml-classify-pJEs0r8S-py3.8/lib/python3.8/site-packages/matplotlib/text.py?line=911'>912</a>\u001b[0m     x, y \u001b[39m=\u001b[39m \u001b[39mself\u001b[39m\u001b[39m.\u001b[39mget_transform()\u001b[39m.\u001b[39mtransform((x, y))\n",
      "File \u001b[0;32m~/.cache/pypoetry/virtualenvs/ml-classify-pJEs0r8S-py3.8/lib/python3.8/site-packages/matplotlib/text.py:309\u001b[0m, in \u001b[0;36mText._get_layout\u001b[0;34m(self, renderer)\u001b[0m\n\u001b[1;32m    <a href='file:///home/hampus/.cache/pypoetry/virtualenvs/ml-classify-pJEs0r8S-py3.8/lib/python3.8/site-packages/matplotlib/text.py?line=305'>306</a>\u001b[0m ys \u001b[39m=\u001b[39m []\n\u001b[1;32m    <a href='file:///home/hampus/.cache/pypoetry/virtualenvs/ml-classify-pJEs0r8S-py3.8/lib/python3.8/site-packages/matplotlib/text.py?line=307'>308</a>\u001b[0m \u001b[39m# Full vertical extent of font, including ascenders and descenders:\u001b[39;00m\n\u001b[0;32m--> <a href='file:///home/hampus/.cache/pypoetry/virtualenvs/ml-classify-pJEs0r8S-py3.8/lib/python3.8/site-packages/matplotlib/text.py?line=308'>309</a>\u001b[0m _, lp_h, lp_d \u001b[39m=\u001b[39m renderer\u001b[39m.\u001b[39;49mget_text_width_height_descent(\n\u001b[1;32m    <a href='file:///home/hampus/.cache/pypoetry/virtualenvs/ml-classify-pJEs0r8S-py3.8/lib/python3.8/site-packages/matplotlib/text.py?line=309'>310</a>\u001b[0m     \u001b[39m\"\u001b[39;49m\u001b[39mlp\u001b[39;49m\u001b[39m\"\u001b[39;49m, \u001b[39mself\u001b[39;49m\u001b[39m.\u001b[39;49m_fontproperties,\n\u001b[1;32m    <a href='file:///home/hampus/.cache/pypoetry/virtualenvs/ml-classify-pJEs0r8S-py3.8/lib/python3.8/site-packages/matplotlib/text.py?line=310'>311</a>\u001b[0m     ismath\u001b[39m=\u001b[39;49m\u001b[39m\"\u001b[39;49m\u001b[39mTeX\u001b[39;49m\u001b[39m\"\u001b[39;49m \u001b[39mif\u001b[39;49;00m \u001b[39mself\u001b[39;49m\u001b[39m.\u001b[39;49mget_usetex() \u001b[39melse\u001b[39;49;00m \u001b[39mFalse\u001b[39;49;00m)\n\u001b[1;32m    <a href='file:///home/hampus/.cache/pypoetry/virtualenvs/ml-classify-pJEs0r8S-py3.8/lib/python3.8/site-packages/matplotlib/text.py?line=311'>312</a>\u001b[0m min_dy \u001b[39m=\u001b[39m (lp_h \u001b[39m-\u001b[39m lp_d) \u001b[39m*\u001b[39m \u001b[39mself\u001b[39m\u001b[39m.\u001b[39m_linespacing\n\u001b[1;32m    <a href='file:///home/hampus/.cache/pypoetry/virtualenvs/ml-classify-pJEs0r8S-py3.8/lib/python3.8/site-packages/matplotlib/text.py?line=313'>314</a>\u001b[0m \u001b[39mfor\u001b[39;00m i, line \u001b[39min\u001b[39;00m \u001b[39menumerate\u001b[39m(lines):\n",
      "File \u001b[0;32m~/.cache/pypoetry/virtualenvs/ml-classify-pJEs0r8S-py3.8/lib/python3.8/site-packages/matplotlib/backends/backend_pgf.py:738\u001b[0m, in \u001b[0;36mRendererPgf.get_text_width_height_descent\u001b[0;34m(self, s, prop, ismath)\u001b[0m\n\u001b[1;32m    <a href='file:///home/hampus/.cache/pypoetry/virtualenvs/ml-classify-pJEs0r8S-py3.8/lib/python3.8/site-packages/matplotlib/backends/backend_pgf.py?line=734'>735</a>\u001b[0m \u001b[39mdef\u001b[39;00m \u001b[39mget_text_width_height_descent\u001b[39m(\u001b[39mself\u001b[39m, s, prop, ismath):\n\u001b[1;32m    <a href='file:///home/hampus/.cache/pypoetry/virtualenvs/ml-classify-pJEs0r8S-py3.8/lib/python3.8/site-packages/matplotlib/backends/backend_pgf.py?line=735'>736</a>\u001b[0m     \u001b[39m# docstring inherited\u001b[39;00m\n\u001b[1;32m    <a href='file:///home/hampus/.cache/pypoetry/virtualenvs/ml-classify-pJEs0r8S-py3.8/lib/python3.8/site-packages/matplotlib/backends/backend_pgf.py?line=736'>737</a>\u001b[0m     \u001b[39m# get text metrics in units of latex pt, convert to display units\u001b[39;00m\n\u001b[0;32m--> <a href='file:///home/hampus/.cache/pypoetry/virtualenvs/ml-classify-pJEs0r8S-py3.8/lib/python3.8/site-packages/matplotlib/backends/backend_pgf.py?line=737'>738</a>\u001b[0m     w, h, d \u001b[39m=\u001b[39m (LatexManager\u001b[39m.\u001b[39;49m_get_cached_or_new()\n\u001b[1;32m    <a href='file:///home/hampus/.cache/pypoetry/virtualenvs/ml-classify-pJEs0r8S-py3.8/lib/python3.8/site-packages/matplotlib/backends/backend_pgf.py?line=738'>739</a>\u001b[0m                \u001b[39m.\u001b[39mget_width_height_descent(s, prop))\n\u001b[1;32m    <a href='file:///home/hampus/.cache/pypoetry/virtualenvs/ml-classify-pJEs0r8S-py3.8/lib/python3.8/site-packages/matplotlib/backends/backend_pgf.py?line=739'>740</a>\u001b[0m     \u001b[39m# TODO: this should be latex_pt_to_in instead of mpl_pt_to_in\u001b[39;00m\n\u001b[1;32m    <a href='file:///home/hampus/.cache/pypoetry/virtualenvs/ml-classify-pJEs0r8S-py3.8/lib/python3.8/site-packages/matplotlib/backends/backend_pgf.py?line=740'>741</a>\u001b[0m     \u001b[39m# but having a little bit more space around the text looks better,\u001b[39;00m\n\u001b[1;32m    <a href='file:///home/hampus/.cache/pypoetry/virtualenvs/ml-classify-pJEs0r8S-py3.8/lib/python3.8/site-packages/matplotlib/backends/backend_pgf.py?line=741'>742</a>\u001b[0m     \u001b[39m# plus the bounding box reported by LaTeX is VERY narrow\u001b[39;00m\n\u001b[1;32m    <a href='file:///home/hampus/.cache/pypoetry/virtualenvs/ml-classify-pJEs0r8S-py3.8/lib/python3.8/site-packages/matplotlib/backends/backend_pgf.py?line=742'>743</a>\u001b[0m     f \u001b[39m=\u001b[39m mpl_pt_to_in \u001b[39m*\u001b[39m \u001b[39mself\u001b[39m\u001b[39m.\u001b[39mdpi\n",
      "File \u001b[0;32m~/.cache/pypoetry/virtualenvs/ml-classify-pJEs0r8S-py3.8/lib/python3.8/site-packages/matplotlib/backends/backend_pgf.py:241\u001b[0m, in \u001b[0;36mLatexManager._get_cached_or_new\u001b[0;34m(cls)\u001b[0m\n\u001b[1;32m    <a href='file:///home/hampus/.cache/pypoetry/virtualenvs/ml-classify-pJEs0r8S-py3.8/lib/python3.8/site-packages/matplotlib/backends/backend_pgf.py?line=234'>235</a>\u001b[0m \u001b[39m@classmethod\u001b[39m\n\u001b[1;32m    <a href='file:///home/hampus/.cache/pypoetry/virtualenvs/ml-classify-pJEs0r8S-py3.8/lib/python3.8/site-packages/matplotlib/backends/backend_pgf.py?line=235'>236</a>\u001b[0m \u001b[39mdef\u001b[39;00m \u001b[39m_get_cached_or_new\u001b[39m(\u001b[39mcls\u001b[39m):\n\u001b[1;32m    <a href='file:///home/hampus/.cache/pypoetry/virtualenvs/ml-classify-pJEs0r8S-py3.8/lib/python3.8/site-packages/matplotlib/backends/backend_pgf.py?line=236'>237</a>\u001b[0m     \u001b[39m\"\"\"\u001b[39;00m\n\u001b[1;32m    <a href='file:///home/hampus/.cache/pypoetry/virtualenvs/ml-classify-pJEs0r8S-py3.8/lib/python3.8/site-packages/matplotlib/backends/backend_pgf.py?line=237'>238</a>\u001b[0m \u001b[39m    Return the previous LatexManager if the header and tex system did not\u001b[39;00m\n\u001b[1;32m    <a href='file:///home/hampus/.cache/pypoetry/virtualenvs/ml-classify-pJEs0r8S-py3.8/lib/python3.8/site-packages/matplotlib/backends/backend_pgf.py?line=238'>239</a>\u001b[0m \u001b[39m    change, or a new instance otherwise.\u001b[39;00m\n\u001b[1;32m    <a href='file:///home/hampus/.cache/pypoetry/virtualenvs/ml-classify-pJEs0r8S-py3.8/lib/python3.8/site-packages/matplotlib/backends/backend_pgf.py?line=239'>240</a>\u001b[0m \u001b[39m    \"\"\"\u001b[39;00m\n\u001b[0;32m--> <a href='file:///home/hampus/.cache/pypoetry/virtualenvs/ml-classify-pJEs0r8S-py3.8/lib/python3.8/site-packages/matplotlib/backends/backend_pgf.py?line=240'>241</a>\u001b[0m     \u001b[39mreturn\u001b[39;00m \u001b[39mcls\u001b[39;49m\u001b[39m.\u001b[39;49m_get_cached_or_new_impl(\u001b[39mcls\u001b[39;49m\u001b[39m.\u001b[39;49m_build_latex_header())\n",
      "File \u001b[0;32m~/.cache/pypoetry/virtualenvs/ml-classify-pJEs0r8S-py3.8/lib/python3.8/site-packages/matplotlib/backends/backend_pgf.py:246\u001b[0m, in \u001b[0;36mLatexManager._get_cached_or_new_impl\u001b[0;34m(cls, header)\u001b[0m\n\u001b[1;32m    <a href='file:///home/hampus/.cache/pypoetry/virtualenvs/ml-classify-pJEs0r8S-py3.8/lib/python3.8/site-packages/matplotlib/backends/backend_pgf.py?line=242'>243</a>\u001b[0m \u001b[39m@classmethod\u001b[39m\n\u001b[1;32m    <a href='file:///home/hampus/.cache/pypoetry/virtualenvs/ml-classify-pJEs0r8S-py3.8/lib/python3.8/site-packages/matplotlib/backends/backend_pgf.py?line=243'>244</a>\u001b[0m \u001b[39m@functools\u001b[39m\u001b[39m.\u001b[39mlru_cache(\u001b[39m1\u001b[39m)\n\u001b[1;32m    <a href='file:///home/hampus/.cache/pypoetry/virtualenvs/ml-classify-pJEs0r8S-py3.8/lib/python3.8/site-packages/matplotlib/backends/backend_pgf.py?line=244'>245</a>\u001b[0m \u001b[39mdef\u001b[39;00m \u001b[39m_get_cached_or_new_impl\u001b[39m(\u001b[39mcls\u001b[39m, header):  \u001b[39m# Helper for _get_cached_or_new.\u001b[39;00m\n\u001b[0;32m--> <a href='file:///home/hampus/.cache/pypoetry/virtualenvs/ml-classify-pJEs0r8S-py3.8/lib/python3.8/site-packages/matplotlib/backends/backend_pgf.py?line=245'>246</a>\u001b[0m     \u001b[39mreturn\u001b[39;00m \u001b[39mcls\u001b[39;49m()\n",
      "File \u001b[0;32m~/.cache/pypoetry/virtualenvs/ml-classify-pJEs0r8S-py3.8/lib/python3.8/site-packages/matplotlib/backends/backend_pgf.py:288\u001b[0m, in \u001b[0;36mLatexManager.__init__\u001b[0;34m(self)\u001b[0m\n\u001b[1;32m    <a href='file:///home/hampus/.cache/pypoetry/virtualenvs/ml-classify-pJEs0r8S-py3.8/lib/python3.8/site-packages/matplotlib/backends/backend_pgf.py?line=282'>283</a>\u001b[0m     latex \u001b[39m=\u001b[39m subprocess\u001b[39m.\u001b[39mPopen(\n\u001b[1;32m    <a href='file:///home/hampus/.cache/pypoetry/virtualenvs/ml-classify-pJEs0r8S-py3.8/lib/python3.8/site-packages/matplotlib/backends/backend_pgf.py?line=283'>284</a>\u001b[0m         [\u001b[39mself\u001b[39m\u001b[39m.\u001b[39mtexcommand, \u001b[39m\"\u001b[39m\u001b[39m-halt-on-error\u001b[39m\u001b[39m\"\u001b[39m],\n\u001b[1;32m    <a href='file:///home/hampus/.cache/pypoetry/virtualenvs/ml-classify-pJEs0r8S-py3.8/lib/python3.8/site-packages/matplotlib/backends/backend_pgf.py?line=284'>285</a>\u001b[0m         stdin\u001b[39m=\u001b[39msubprocess\u001b[39m.\u001b[39mPIPE, stdout\u001b[39m=\u001b[39msubprocess\u001b[39m.\u001b[39mPIPE,\n\u001b[1;32m    <a href='file:///home/hampus/.cache/pypoetry/virtualenvs/ml-classify-pJEs0r8S-py3.8/lib/python3.8/site-packages/matplotlib/backends/backend_pgf.py?line=285'>286</a>\u001b[0m         encoding\u001b[39m=\u001b[39m\u001b[39m\"\u001b[39m\u001b[39mutf-8\u001b[39m\u001b[39m\"\u001b[39m, cwd\u001b[39m=\u001b[39m\u001b[39mself\u001b[39m\u001b[39m.\u001b[39mtmpdir)\n\u001b[1;32m    <a href='file:///home/hampus/.cache/pypoetry/virtualenvs/ml-classify-pJEs0r8S-py3.8/lib/python3.8/site-packages/matplotlib/backends/backend_pgf.py?line=286'>287</a>\u001b[0m \u001b[39mexcept\u001b[39;00m \u001b[39mFileNotFoundError\u001b[39;00m \u001b[39mas\u001b[39;00m err:\n\u001b[0;32m--> <a href='file:///home/hampus/.cache/pypoetry/virtualenvs/ml-classify-pJEs0r8S-py3.8/lib/python3.8/site-packages/matplotlib/backends/backend_pgf.py?line=287'>288</a>\u001b[0m     \u001b[39mraise\u001b[39;00m \u001b[39mRuntimeError\u001b[39;00m(\n\u001b[1;32m    <a href='file:///home/hampus/.cache/pypoetry/virtualenvs/ml-classify-pJEs0r8S-py3.8/lib/python3.8/site-packages/matplotlib/backends/backend_pgf.py?line=288'>289</a>\u001b[0m         \u001b[39mf\u001b[39m\u001b[39m\"\u001b[39m\u001b[39m{\u001b[39;00m\u001b[39mself\u001b[39m\u001b[39m.\u001b[39mtexcommand\u001b[39m}\u001b[39;00m\u001b[39m not found.  Install it or change \u001b[39m\u001b[39m\"\u001b[39m\n\u001b[1;32m    <a href='file:///home/hampus/.cache/pypoetry/virtualenvs/ml-classify-pJEs0r8S-py3.8/lib/python3.8/site-packages/matplotlib/backends/backend_pgf.py?line=289'>290</a>\u001b[0m         \u001b[39mf\u001b[39m\u001b[39m\"\u001b[39m\u001b[39mrcParams[\u001b[39m\u001b[39m'\u001b[39m\u001b[39mpgf.texsystem\u001b[39m\u001b[39m'\u001b[39m\u001b[39m] to an available TeX \u001b[39m\u001b[39m\"\u001b[39m\n\u001b[1;32m    <a href='file:///home/hampus/.cache/pypoetry/virtualenvs/ml-classify-pJEs0r8S-py3.8/lib/python3.8/site-packages/matplotlib/backends/backend_pgf.py?line=290'>291</a>\u001b[0m         \u001b[39mf\u001b[39m\u001b[39m\"\u001b[39m\u001b[39mimplementation.\u001b[39m\u001b[39m\"\u001b[39m) \u001b[39mfrom\u001b[39;00m \u001b[39merr\u001b[39;00m\n\u001b[1;32m    <a href='file:///home/hampus/.cache/pypoetry/virtualenvs/ml-classify-pJEs0r8S-py3.8/lib/python3.8/site-packages/matplotlib/backends/backend_pgf.py?line=291'>292</a>\u001b[0m \u001b[39mexcept\u001b[39;00m \u001b[39mOSError\u001b[39;00m \u001b[39mas\u001b[39;00m err:\n\u001b[1;32m    <a href='file:///home/hampus/.cache/pypoetry/virtualenvs/ml-classify-pJEs0r8S-py3.8/lib/python3.8/site-packages/matplotlib/backends/backend_pgf.py?line=292'>293</a>\u001b[0m     \u001b[39mraise\u001b[39;00m \u001b[39mRuntimeError\u001b[39;00m(\u001b[39m\"\u001b[39m\u001b[39mError starting process \u001b[39m\u001b[39m%r\u001b[39;00m\u001b[39m\"\u001b[39m \u001b[39m%\u001b[39m\n\u001b[1;32m    <a href='file:///home/hampus/.cache/pypoetry/virtualenvs/ml-classify-pJEs0r8S-py3.8/lib/python3.8/site-packages/matplotlib/backends/backend_pgf.py?line=293'>294</a>\u001b[0m                        \u001b[39mself\u001b[39m\u001b[39m.\u001b[39mtexcommand) \u001b[39mfrom\u001b[39;00m \u001b[39merr\u001b[39;00m\n",
      "\u001b[0;31mRuntimeError\u001b[0m: xelatex not found.  Install it or change rcParams['pgf.texsystem'] to an available TeX implementation."
     ]
    },
    {
     "ename": "RuntimeError",
     "evalue": "xelatex not found.  Install it or change rcParams['pgf.texsystem'] to an available TeX implementation.",
     "output_type": "error",
     "traceback": [
      "\u001b[0;31m---------------------------------------------------------------------------\u001b[0m",
      "\u001b[0;31mFileNotFoundError\u001b[0m                         Traceback (most recent call last)",
      "File \u001b[0;32m~/.cache/pypoetry/virtualenvs/ml-classify-pJEs0r8S-py3.8/lib/python3.8/site-packages/matplotlib/backends/backend_pgf.py:283\u001b[0m, in \u001b[0;36mLatexManager.__init__\u001b[0;34m(self)\u001b[0m\n\u001b[1;32m    <a href='file:///home/hampus/.cache/pypoetry/virtualenvs/ml-classify-pJEs0r8S-py3.8/lib/python3.8/site-packages/matplotlib/backends/backend_pgf.py?line=281'>282</a>\u001b[0m \u001b[39mtry\u001b[39;00m:\n\u001b[0;32m--> <a href='file:///home/hampus/.cache/pypoetry/virtualenvs/ml-classify-pJEs0r8S-py3.8/lib/python3.8/site-packages/matplotlib/backends/backend_pgf.py?line=282'>283</a>\u001b[0m     latex \u001b[39m=\u001b[39m subprocess\u001b[39m.\u001b[39;49mPopen(\n\u001b[1;32m    <a href='file:///home/hampus/.cache/pypoetry/virtualenvs/ml-classify-pJEs0r8S-py3.8/lib/python3.8/site-packages/matplotlib/backends/backend_pgf.py?line=283'>284</a>\u001b[0m         [\u001b[39mself\u001b[39;49m\u001b[39m.\u001b[39;49mtexcommand, \u001b[39m\"\u001b[39;49m\u001b[39m-halt-on-error\u001b[39;49m\u001b[39m\"\u001b[39;49m],\n\u001b[1;32m    <a href='file:///home/hampus/.cache/pypoetry/virtualenvs/ml-classify-pJEs0r8S-py3.8/lib/python3.8/site-packages/matplotlib/backends/backend_pgf.py?line=284'>285</a>\u001b[0m         stdin\u001b[39m=\u001b[39;49msubprocess\u001b[39m.\u001b[39;49mPIPE, stdout\u001b[39m=\u001b[39;49msubprocess\u001b[39m.\u001b[39;49mPIPE,\n\u001b[1;32m    <a href='file:///home/hampus/.cache/pypoetry/virtualenvs/ml-classify-pJEs0r8S-py3.8/lib/python3.8/site-packages/matplotlib/backends/backend_pgf.py?line=285'>286</a>\u001b[0m         encoding\u001b[39m=\u001b[39;49m\u001b[39m\"\u001b[39;49m\u001b[39mutf-8\u001b[39;49m\u001b[39m\"\u001b[39;49m, cwd\u001b[39m=\u001b[39;49m\u001b[39mself\u001b[39;49m\u001b[39m.\u001b[39;49mtmpdir)\n\u001b[1;32m    <a href='file:///home/hampus/.cache/pypoetry/virtualenvs/ml-classify-pJEs0r8S-py3.8/lib/python3.8/site-packages/matplotlib/backends/backend_pgf.py?line=286'>287</a>\u001b[0m \u001b[39mexcept\u001b[39;00m \u001b[39mFileNotFoundError\u001b[39;00m \u001b[39mas\u001b[39;00m err:\n",
      "File \u001b[0;32m/usr/lib/python3.8/subprocess.py:858\u001b[0m, in \u001b[0;36mPopen.__init__\u001b[0;34m(self, args, bufsize, executable, stdin, stdout, stderr, preexec_fn, close_fds, shell, cwd, env, universal_newlines, startupinfo, creationflags, restore_signals, start_new_session, pass_fds, encoding, errors, text)\u001b[0m\n\u001b[1;32m    <a href='file:///usr/lib/python3.8/subprocess.py?line=854'>855</a>\u001b[0m             \u001b[39mself\u001b[39m\u001b[39m.\u001b[39mstderr \u001b[39m=\u001b[39m io\u001b[39m.\u001b[39mTextIOWrapper(\u001b[39mself\u001b[39m\u001b[39m.\u001b[39mstderr,\n\u001b[1;32m    <a href='file:///usr/lib/python3.8/subprocess.py?line=855'>856</a>\u001b[0m                     encoding\u001b[39m=\u001b[39mencoding, errors\u001b[39m=\u001b[39merrors)\n\u001b[0;32m--> <a href='file:///usr/lib/python3.8/subprocess.py?line=857'>858</a>\u001b[0m     \u001b[39mself\u001b[39;49m\u001b[39m.\u001b[39;49m_execute_child(args, executable, preexec_fn, close_fds,\n\u001b[1;32m    <a href='file:///usr/lib/python3.8/subprocess.py?line=858'>859</a>\u001b[0m                         pass_fds, cwd, env,\n\u001b[1;32m    <a href='file:///usr/lib/python3.8/subprocess.py?line=859'>860</a>\u001b[0m                         startupinfo, creationflags, shell,\n\u001b[1;32m    <a href='file:///usr/lib/python3.8/subprocess.py?line=860'>861</a>\u001b[0m                         p2cread, p2cwrite,\n\u001b[1;32m    <a href='file:///usr/lib/python3.8/subprocess.py?line=861'>862</a>\u001b[0m                         c2pread, c2pwrite,\n\u001b[1;32m    <a href='file:///usr/lib/python3.8/subprocess.py?line=862'>863</a>\u001b[0m                         errread, errwrite,\n\u001b[1;32m    <a href='file:///usr/lib/python3.8/subprocess.py?line=863'>864</a>\u001b[0m                         restore_signals, start_new_session)\n\u001b[1;32m    <a href='file:///usr/lib/python3.8/subprocess.py?line=864'>865</a>\u001b[0m \u001b[39mexcept\u001b[39;00m:\n\u001b[1;32m    <a href='file:///usr/lib/python3.8/subprocess.py?line=865'>866</a>\u001b[0m     \u001b[39m# Cleanup if the child failed starting.\u001b[39;00m\n",
      "File \u001b[0;32m/usr/lib/python3.8/subprocess.py:1704\u001b[0m, in \u001b[0;36mPopen._execute_child\u001b[0;34m(self, args, executable, preexec_fn, close_fds, pass_fds, cwd, env, startupinfo, creationflags, shell, p2cread, p2cwrite, c2pread, c2pwrite, errread, errwrite, restore_signals, start_new_session)\u001b[0m\n\u001b[1;32m   <a href='file:///usr/lib/python3.8/subprocess.py?line=1702'>1703</a>\u001b[0m         err_msg \u001b[39m=\u001b[39m os\u001b[39m.\u001b[39mstrerror(errno_num)\n\u001b[0;32m-> <a href='file:///usr/lib/python3.8/subprocess.py?line=1703'>1704</a>\u001b[0m     \u001b[39mraise\u001b[39;00m child_exception_type(errno_num, err_msg, err_filename)\n\u001b[1;32m   <a href='file:///usr/lib/python3.8/subprocess.py?line=1704'>1705</a>\u001b[0m \u001b[39mraise\u001b[39;00m child_exception_type(err_msg)\n",
      "\u001b[0;31mFileNotFoundError\u001b[0m: [Errno 2] No such file or directory: 'xelatex'",
      "\nThe above exception was the direct cause of the following exception:\n",
      "\u001b[0;31mRuntimeError\u001b[0m                              Traceback (most recent call last)",
      "File \u001b[0;32m~/.cache/pypoetry/virtualenvs/ml-classify-pJEs0r8S-py3.8/lib/python3.8/site-packages/IPython/core/formatters.py:339\u001b[0m, in \u001b[0;36mBaseFormatter.__call__\u001b[0;34m(self, obj)\u001b[0m\n\u001b[1;32m    <a href='file:///home/hampus/.cache/pypoetry/virtualenvs/ml-classify-pJEs0r8S-py3.8/lib/python3.8/site-packages/IPython/core/formatters.py?line=336'>337</a>\u001b[0m     \u001b[39mpass\u001b[39;00m\n\u001b[1;32m    <a href='file:///home/hampus/.cache/pypoetry/virtualenvs/ml-classify-pJEs0r8S-py3.8/lib/python3.8/site-packages/IPython/core/formatters.py?line=337'>338</a>\u001b[0m \u001b[39melse\u001b[39;00m:\n\u001b[0;32m--> <a href='file:///home/hampus/.cache/pypoetry/virtualenvs/ml-classify-pJEs0r8S-py3.8/lib/python3.8/site-packages/IPython/core/formatters.py?line=338'>339</a>\u001b[0m     \u001b[39mreturn\u001b[39;00m printer(obj)\n\u001b[1;32m    <a href='file:///home/hampus/.cache/pypoetry/virtualenvs/ml-classify-pJEs0r8S-py3.8/lib/python3.8/site-packages/IPython/core/formatters.py?line=339'>340</a>\u001b[0m \u001b[39m# Finally look for special method names\u001b[39;00m\n\u001b[1;32m    <a href='file:///home/hampus/.cache/pypoetry/virtualenvs/ml-classify-pJEs0r8S-py3.8/lib/python3.8/site-packages/IPython/core/formatters.py?line=340'>341</a>\u001b[0m method \u001b[39m=\u001b[39m get_real_method(obj, \u001b[39mself\u001b[39m\u001b[39m.\u001b[39mprint_method)\n",
      "File \u001b[0;32m~/.cache/pypoetry/virtualenvs/ml-classify-pJEs0r8S-py3.8/lib/python3.8/site-packages/IPython/core/pylabtools.py:151\u001b[0m, in \u001b[0;36mprint_figure\u001b[0;34m(fig, fmt, bbox_inches, base64, **kwargs)\u001b[0m\n\u001b[1;32m    <a href='file:///home/hampus/.cache/pypoetry/virtualenvs/ml-classify-pJEs0r8S-py3.8/lib/python3.8/site-packages/IPython/core/pylabtools.py?line=147'>148</a>\u001b[0m     \u001b[39mfrom\u001b[39;00m \u001b[39mmatplotlib\u001b[39;00m\u001b[39m.\u001b[39;00m\u001b[39mbackend_bases\u001b[39;00m \u001b[39mimport\u001b[39;00m FigureCanvasBase\n\u001b[1;32m    <a href='file:///home/hampus/.cache/pypoetry/virtualenvs/ml-classify-pJEs0r8S-py3.8/lib/python3.8/site-packages/IPython/core/pylabtools.py?line=148'>149</a>\u001b[0m     FigureCanvasBase(fig)\n\u001b[0;32m--> <a href='file:///home/hampus/.cache/pypoetry/virtualenvs/ml-classify-pJEs0r8S-py3.8/lib/python3.8/site-packages/IPython/core/pylabtools.py?line=150'>151</a>\u001b[0m fig\u001b[39m.\u001b[39;49mcanvas\u001b[39m.\u001b[39;49mprint_figure(bytes_io, \u001b[39m*\u001b[39;49m\u001b[39m*\u001b[39;49mkw)\n\u001b[1;32m    <a href='file:///home/hampus/.cache/pypoetry/virtualenvs/ml-classify-pJEs0r8S-py3.8/lib/python3.8/site-packages/IPython/core/pylabtools.py?line=151'>152</a>\u001b[0m data \u001b[39m=\u001b[39m bytes_io\u001b[39m.\u001b[39mgetvalue()\n\u001b[1;32m    <a href='file:///home/hampus/.cache/pypoetry/virtualenvs/ml-classify-pJEs0r8S-py3.8/lib/python3.8/site-packages/IPython/core/pylabtools.py?line=152'>153</a>\u001b[0m \u001b[39mif\u001b[39;00m fmt \u001b[39m==\u001b[39m \u001b[39m'\u001b[39m\u001b[39msvg\u001b[39m\u001b[39m'\u001b[39m:\n",
      "File \u001b[0;32m~/.cache/pypoetry/virtualenvs/ml-classify-pJEs0r8S-py3.8/lib/python3.8/site-packages/matplotlib/backend_bases.py:2295\u001b[0m, in \u001b[0;36mFigureCanvasBase.print_figure\u001b[0;34m(self, filename, dpi, facecolor, edgecolor, orientation, format, bbox_inches, pad_inches, bbox_extra_artists, backend, **kwargs)\u001b[0m\n\u001b[1;32m   <a href='file:///home/hampus/.cache/pypoetry/virtualenvs/ml-classify-pJEs0r8S-py3.8/lib/python3.8/site-packages/matplotlib/backend_bases.py?line=2288'>2289</a>\u001b[0m     renderer \u001b[39m=\u001b[39m _get_renderer(\n\u001b[1;32m   <a href='file:///home/hampus/.cache/pypoetry/virtualenvs/ml-classify-pJEs0r8S-py3.8/lib/python3.8/site-packages/matplotlib/backend_bases.py?line=2289'>2290</a>\u001b[0m         \u001b[39mself\u001b[39m\u001b[39m.\u001b[39mfigure,\n\u001b[1;32m   <a href='file:///home/hampus/.cache/pypoetry/virtualenvs/ml-classify-pJEs0r8S-py3.8/lib/python3.8/site-packages/matplotlib/backend_bases.py?line=2290'>2291</a>\u001b[0m         functools\u001b[39m.\u001b[39mpartial(\n\u001b[1;32m   <a href='file:///home/hampus/.cache/pypoetry/virtualenvs/ml-classify-pJEs0r8S-py3.8/lib/python3.8/site-packages/matplotlib/backend_bases.py?line=2291'>2292</a>\u001b[0m             print_method, orientation\u001b[39m=\u001b[39morientation)\n\u001b[1;32m   <a href='file:///home/hampus/.cache/pypoetry/virtualenvs/ml-classify-pJEs0r8S-py3.8/lib/python3.8/site-packages/matplotlib/backend_bases.py?line=2292'>2293</a>\u001b[0m     )\n\u001b[1;32m   <a href='file:///home/hampus/.cache/pypoetry/virtualenvs/ml-classify-pJEs0r8S-py3.8/lib/python3.8/site-packages/matplotlib/backend_bases.py?line=2293'>2294</a>\u001b[0m     \u001b[39mwith\u001b[39;00m \u001b[39mgetattr\u001b[39m(renderer, \u001b[39m\"\u001b[39m\u001b[39m_draw_disabled\u001b[39m\u001b[39m\"\u001b[39m, nullcontext)():\n\u001b[0;32m-> <a href='file:///home/hampus/.cache/pypoetry/virtualenvs/ml-classify-pJEs0r8S-py3.8/lib/python3.8/site-packages/matplotlib/backend_bases.py?line=2294'>2295</a>\u001b[0m         \u001b[39mself\u001b[39;49m\u001b[39m.\u001b[39;49mfigure\u001b[39m.\u001b[39;49mdraw(renderer)\n\u001b[1;32m   <a href='file:///home/hampus/.cache/pypoetry/virtualenvs/ml-classify-pJEs0r8S-py3.8/lib/python3.8/site-packages/matplotlib/backend_bases.py?line=2296'>2297</a>\u001b[0m \u001b[39mif\u001b[39;00m bbox_inches:\n\u001b[1;32m   <a href='file:///home/hampus/.cache/pypoetry/virtualenvs/ml-classify-pJEs0r8S-py3.8/lib/python3.8/site-packages/matplotlib/backend_bases.py?line=2297'>2298</a>\u001b[0m     \u001b[39mif\u001b[39;00m bbox_inches \u001b[39m==\u001b[39m \u001b[39m\"\u001b[39m\u001b[39mtight\u001b[39m\u001b[39m\"\u001b[39m:\n",
      "File \u001b[0;32m~/.cache/pypoetry/virtualenvs/ml-classify-pJEs0r8S-py3.8/lib/python3.8/site-packages/matplotlib/artist.py:73\u001b[0m, in \u001b[0;36m_finalize_rasterization.<locals>.draw_wrapper\u001b[0;34m(artist, renderer, *args, **kwargs)\u001b[0m\n\u001b[1;32m     <a href='file:///home/hampus/.cache/pypoetry/virtualenvs/ml-classify-pJEs0r8S-py3.8/lib/python3.8/site-packages/matplotlib/artist.py?line=70'>71</a>\u001b[0m \u001b[39m@wraps\u001b[39m(draw)\n\u001b[1;32m     <a href='file:///home/hampus/.cache/pypoetry/virtualenvs/ml-classify-pJEs0r8S-py3.8/lib/python3.8/site-packages/matplotlib/artist.py?line=71'>72</a>\u001b[0m \u001b[39mdef\u001b[39;00m \u001b[39mdraw_wrapper\u001b[39m(artist, renderer, \u001b[39m*\u001b[39margs, \u001b[39m*\u001b[39m\u001b[39m*\u001b[39mkwargs):\n\u001b[0;32m---> <a href='file:///home/hampus/.cache/pypoetry/virtualenvs/ml-classify-pJEs0r8S-py3.8/lib/python3.8/site-packages/matplotlib/artist.py?line=72'>73</a>\u001b[0m     result \u001b[39m=\u001b[39m draw(artist, renderer, \u001b[39m*\u001b[39;49margs, \u001b[39m*\u001b[39;49m\u001b[39m*\u001b[39;49mkwargs)\n\u001b[1;32m     <a href='file:///home/hampus/.cache/pypoetry/virtualenvs/ml-classify-pJEs0r8S-py3.8/lib/python3.8/site-packages/matplotlib/artist.py?line=73'>74</a>\u001b[0m     \u001b[39mif\u001b[39;00m renderer\u001b[39m.\u001b[39m_rasterizing:\n\u001b[1;32m     <a href='file:///home/hampus/.cache/pypoetry/virtualenvs/ml-classify-pJEs0r8S-py3.8/lib/python3.8/site-packages/matplotlib/artist.py?line=74'>75</a>\u001b[0m         renderer\u001b[39m.\u001b[39mstop_rasterizing()\n",
      "File \u001b[0;32m~/.cache/pypoetry/virtualenvs/ml-classify-pJEs0r8S-py3.8/lib/python3.8/site-packages/matplotlib/artist.py:50\u001b[0m, in \u001b[0;36mallow_rasterization.<locals>.draw_wrapper\u001b[0;34m(artist, renderer)\u001b[0m\n\u001b[1;32m     <a href='file:///home/hampus/.cache/pypoetry/virtualenvs/ml-classify-pJEs0r8S-py3.8/lib/python3.8/site-packages/matplotlib/artist.py?line=46'>47</a>\u001b[0m     \u001b[39mif\u001b[39;00m artist\u001b[39m.\u001b[39mget_agg_filter() \u001b[39mis\u001b[39;00m \u001b[39mnot\u001b[39;00m \u001b[39mNone\u001b[39;00m:\n\u001b[1;32m     <a href='file:///home/hampus/.cache/pypoetry/virtualenvs/ml-classify-pJEs0r8S-py3.8/lib/python3.8/site-packages/matplotlib/artist.py?line=47'>48</a>\u001b[0m         renderer\u001b[39m.\u001b[39mstart_filter()\n\u001b[0;32m---> <a href='file:///home/hampus/.cache/pypoetry/virtualenvs/ml-classify-pJEs0r8S-py3.8/lib/python3.8/site-packages/matplotlib/artist.py?line=49'>50</a>\u001b[0m     \u001b[39mreturn\u001b[39;00m draw(artist, renderer)\n\u001b[1;32m     <a href='file:///home/hampus/.cache/pypoetry/virtualenvs/ml-classify-pJEs0r8S-py3.8/lib/python3.8/site-packages/matplotlib/artist.py?line=50'>51</a>\u001b[0m \u001b[39mfinally\u001b[39;00m:\n\u001b[1;32m     <a href='file:///home/hampus/.cache/pypoetry/virtualenvs/ml-classify-pJEs0r8S-py3.8/lib/python3.8/site-packages/matplotlib/artist.py?line=51'>52</a>\u001b[0m     \u001b[39mif\u001b[39;00m artist\u001b[39m.\u001b[39mget_agg_filter() \u001b[39mis\u001b[39;00m \u001b[39mnot\u001b[39;00m \u001b[39mNone\u001b[39;00m:\n",
      "File \u001b[0;32m~/.cache/pypoetry/virtualenvs/ml-classify-pJEs0r8S-py3.8/lib/python3.8/site-packages/matplotlib/figure.py:2810\u001b[0m, in \u001b[0;36mFigure.draw\u001b[0;34m(self, renderer)\u001b[0m\n\u001b[1;32m   <a href='file:///home/hampus/.cache/pypoetry/virtualenvs/ml-classify-pJEs0r8S-py3.8/lib/python3.8/site-packages/matplotlib/figure.py?line=2806'>2807</a>\u001b[0m         \u001b[39m# ValueError can occur when resizing a window.\u001b[39;00m\n\u001b[1;32m   <a href='file:///home/hampus/.cache/pypoetry/virtualenvs/ml-classify-pJEs0r8S-py3.8/lib/python3.8/site-packages/matplotlib/figure.py?line=2808'>2809</a>\u001b[0m \u001b[39mself\u001b[39m\u001b[39m.\u001b[39mpatch\u001b[39m.\u001b[39mdraw(renderer)\n\u001b[0;32m-> <a href='file:///home/hampus/.cache/pypoetry/virtualenvs/ml-classify-pJEs0r8S-py3.8/lib/python3.8/site-packages/matplotlib/figure.py?line=2809'>2810</a>\u001b[0m mimage\u001b[39m.\u001b[39;49m_draw_list_compositing_images(\n\u001b[1;32m   <a href='file:///home/hampus/.cache/pypoetry/virtualenvs/ml-classify-pJEs0r8S-py3.8/lib/python3.8/site-packages/matplotlib/figure.py?line=2810'>2811</a>\u001b[0m     renderer, \u001b[39mself\u001b[39;49m, artists, \u001b[39mself\u001b[39;49m\u001b[39m.\u001b[39;49msuppressComposite)\n\u001b[1;32m   <a href='file:///home/hampus/.cache/pypoetry/virtualenvs/ml-classify-pJEs0r8S-py3.8/lib/python3.8/site-packages/matplotlib/figure.py?line=2812'>2813</a>\u001b[0m \u001b[39mfor\u001b[39;00m sfig \u001b[39min\u001b[39;00m \u001b[39mself\u001b[39m\u001b[39m.\u001b[39msubfigs:\n\u001b[1;32m   <a href='file:///home/hampus/.cache/pypoetry/virtualenvs/ml-classify-pJEs0r8S-py3.8/lib/python3.8/site-packages/matplotlib/figure.py?line=2813'>2814</a>\u001b[0m     sfig\u001b[39m.\u001b[39mdraw(renderer)\n",
      "File \u001b[0;32m~/.cache/pypoetry/virtualenvs/ml-classify-pJEs0r8S-py3.8/lib/python3.8/site-packages/matplotlib/image.py:132\u001b[0m, in \u001b[0;36m_draw_list_compositing_images\u001b[0;34m(renderer, parent, artists, suppress_composite)\u001b[0m\n\u001b[1;32m    <a href='file:///home/hampus/.cache/pypoetry/virtualenvs/ml-classify-pJEs0r8S-py3.8/lib/python3.8/site-packages/matplotlib/image.py?line=129'>130</a>\u001b[0m \u001b[39mif\u001b[39;00m not_composite \u001b[39mor\u001b[39;00m \u001b[39mnot\u001b[39;00m has_images:\n\u001b[1;32m    <a href='file:///home/hampus/.cache/pypoetry/virtualenvs/ml-classify-pJEs0r8S-py3.8/lib/python3.8/site-packages/matplotlib/image.py?line=130'>131</a>\u001b[0m     \u001b[39mfor\u001b[39;00m a \u001b[39min\u001b[39;00m artists:\n\u001b[0;32m--> <a href='file:///home/hampus/.cache/pypoetry/virtualenvs/ml-classify-pJEs0r8S-py3.8/lib/python3.8/site-packages/matplotlib/image.py?line=131'>132</a>\u001b[0m         a\u001b[39m.\u001b[39;49mdraw(renderer)\n\u001b[1;32m    <a href='file:///home/hampus/.cache/pypoetry/virtualenvs/ml-classify-pJEs0r8S-py3.8/lib/python3.8/site-packages/matplotlib/image.py?line=132'>133</a>\u001b[0m \u001b[39melse\u001b[39;00m:\n\u001b[1;32m    <a href='file:///home/hampus/.cache/pypoetry/virtualenvs/ml-classify-pJEs0r8S-py3.8/lib/python3.8/site-packages/matplotlib/image.py?line=133'>134</a>\u001b[0m     \u001b[39m# Composite any adjacent images together\u001b[39;00m\n\u001b[1;32m    <a href='file:///home/hampus/.cache/pypoetry/virtualenvs/ml-classify-pJEs0r8S-py3.8/lib/python3.8/site-packages/matplotlib/image.py?line=134'>135</a>\u001b[0m     image_group \u001b[39m=\u001b[39m []\n",
      "File \u001b[0;32m~/.cache/pypoetry/virtualenvs/ml-classify-pJEs0r8S-py3.8/lib/python3.8/site-packages/matplotlib/artist.py:50\u001b[0m, in \u001b[0;36mallow_rasterization.<locals>.draw_wrapper\u001b[0;34m(artist, renderer)\u001b[0m\n\u001b[1;32m     <a href='file:///home/hampus/.cache/pypoetry/virtualenvs/ml-classify-pJEs0r8S-py3.8/lib/python3.8/site-packages/matplotlib/artist.py?line=46'>47</a>\u001b[0m     \u001b[39mif\u001b[39;00m artist\u001b[39m.\u001b[39mget_agg_filter() \u001b[39mis\u001b[39;00m \u001b[39mnot\u001b[39;00m \u001b[39mNone\u001b[39;00m:\n\u001b[1;32m     <a href='file:///home/hampus/.cache/pypoetry/virtualenvs/ml-classify-pJEs0r8S-py3.8/lib/python3.8/site-packages/matplotlib/artist.py?line=47'>48</a>\u001b[0m         renderer\u001b[39m.\u001b[39mstart_filter()\n\u001b[0;32m---> <a href='file:///home/hampus/.cache/pypoetry/virtualenvs/ml-classify-pJEs0r8S-py3.8/lib/python3.8/site-packages/matplotlib/artist.py?line=49'>50</a>\u001b[0m     \u001b[39mreturn\u001b[39;00m draw(artist, renderer)\n\u001b[1;32m     <a href='file:///home/hampus/.cache/pypoetry/virtualenvs/ml-classify-pJEs0r8S-py3.8/lib/python3.8/site-packages/matplotlib/artist.py?line=50'>51</a>\u001b[0m \u001b[39mfinally\u001b[39;00m:\n\u001b[1;32m     <a href='file:///home/hampus/.cache/pypoetry/virtualenvs/ml-classify-pJEs0r8S-py3.8/lib/python3.8/site-packages/matplotlib/artist.py?line=51'>52</a>\u001b[0m     \u001b[39mif\u001b[39;00m artist\u001b[39m.\u001b[39mget_agg_filter() \u001b[39mis\u001b[39;00m \u001b[39mnot\u001b[39;00m \u001b[39mNone\u001b[39;00m:\n",
      "File \u001b[0;32m~/.cache/pypoetry/virtualenvs/ml-classify-pJEs0r8S-py3.8/lib/python3.8/site-packages/matplotlib/axes/_base.py:3082\u001b[0m, in \u001b[0;36m_AxesBase.draw\u001b[0;34m(self, renderer)\u001b[0m\n\u001b[1;32m   <a href='file:///home/hampus/.cache/pypoetry/virtualenvs/ml-classify-pJEs0r8S-py3.8/lib/python3.8/site-packages/matplotlib/axes/_base.py?line=3078'>3079</a>\u001b[0m         a\u001b[39m.\u001b[39mdraw(renderer)\n\u001b[1;32m   <a href='file:///home/hampus/.cache/pypoetry/virtualenvs/ml-classify-pJEs0r8S-py3.8/lib/python3.8/site-packages/matplotlib/axes/_base.py?line=3079'>3080</a>\u001b[0m     renderer\u001b[39m.\u001b[39mstop_rasterizing()\n\u001b[0;32m-> <a href='file:///home/hampus/.cache/pypoetry/virtualenvs/ml-classify-pJEs0r8S-py3.8/lib/python3.8/site-packages/matplotlib/axes/_base.py?line=3081'>3082</a>\u001b[0m mimage\u001b[39m.\u001b[39;49m_draw_list_compositing_images(\n\u001b[1;32m   <a href='file:///home/hampus/.cache/pypoetry/virtualenvs/ml-classify-pJEs0r8S-py3.8/lib/python3.8/site-packages/matplotlib/axes/_base.py?line=3082'>3083</a>\u001b[0m     renderer, \u001b[39mself\u001b[39;49m, artists, \u001b[39mself\u001b[39;49m\u001b[39m.\u001b[39;49mfigure\u001b[39m.\u001b[39;49msuppressComposite)\n\u001b[1;32m   <a href='file:///home/hampus/.cache/pypoetry/virtualenvs/ml-classify-pJEs0r8S-py3.8/lib/python3.8/site-packages/matplotlib/axes/_base.py?line=3084'>3085</a>\u001b[0m renderer\u001b[39m.\u001b[39mclose_group(\u001b[39m'\u001b[39m\u001b[39maxes\u001b[39m\u001b[39m'\u001b[39m)\n\u001b[1;32m   <a href='file:///home/hampus/.cache/pypoetry/virtualenvs/ml-classify-pJEs0r8S-py3.8/lib/python3.8/site-packages/matplotlib/axes/_base.py?line=3085'>3086</a>\u001b[0m \u001b[39mself\u001b[39m\u001b[39m.\u001b[39mstale \u001b[39m=\u001b[39m \u001b[39mFalse\u001b[39;00m\n",
      "File \u001b[0;32m~/.cache/pypoetry/virtualenvs/ml-classify-pJEs0r8S-py3.8/lib/python3.8/site-packages/matplotlib/image.py:132\u001b[0m, in \u001b[0;36m_draw_list_compositing_images\u001b[0;34m(renderer, parent, artists, suppress_composite)\u001b[0m\n\u001b[1;32m    <a href='file:///home/hampus/.cache/pypoetry/virtualenvs/ml-classify-pJEs0r8S-py3.8/lib/python3.8/site-packages/matplotlib/image.py?line=129'>130</a>\u001b[0m \u001b[39mif\u001b[39;00m not_composite \u001b[39mor\u001b[39;00m \u001b[39mnot\u001b[39;00m has_images:\n\u001b[1;32m    <a href='file:///home/hampus/.cache/pypoetry/virtualenvs/ml-classify-pJEs0r8S-py3.8/lib/python3.8/site-packages/matplotlib/image.py?line=130'>131</a>\u001b[0m     \u001b[39mfor\u001b[39;00m a \u001b[39min\u001b[39;00m artists:\n\u001b[0;32m--> <a href='file:///home/hampus/.cache/pypoetry/virtualenvs/ml-classify-pJEs0r8S-py3.8/lib/python3.8/site-packages/matplotlib/image.py?line=131'>132</a>\u001b[0m         a\u001b[39m.\u001b[39;49mdraw(renderer)\n\u001b[1;32m    <a href='file:///home/hampus/.cache/pypoetry/virtualenvs/ml-classify-pJEs0r8S-py3.8/lib/python3.8/site-packages/matplotlib/image.py?line=132'>133</a>\u001b[0m \u001b[39melse\u001b[39;00m:\n\u001b[1;32m    <a href='file:///home/hampus/.cache/pypoetry/virtualenvs/ml-classify-pJEs0r8S-py3.8/lib/python3.8/site-packages/matplotlib/image.py?line=133'>134</a>\u001b[0m     \u001b[39m# Composite any adjacent images together\u001b[39;00m\n\u001b[1;32m    <a href='file:///home/hampus/.cache/pypoetry/virtualenvs/ml-classify-pJEs0r8S-py3.8/lib/python3.8/site-packages/matplotlib/image.py?line=134'>135</a>\u001b[0m     image_group \u001b[39m=\u001b[39m []\n",
      "File \u001b[0;32m~/.cache/pypoetry/virtualenvs/ml-classify-pJEs0r8S-py3.8/lib/python3.8/site-packages/matplotlib/artist.py:50\u001b[0m, in \u001b[0;36mallow_rasterization.<locals>.draw_wrapper\u001b[0;34m(artist, renderer)\u001b[0m\n\u001b[1;32m     <a href='file:///home/hampus/.cache/pypoetry/virtualenvs/ml-classify-pJEs0r8S-py3.8/lib/python3.8/site-packages/matplotlib/artist.py?line=46'>47</a>\u001b[0m     \u001b[39mif\u001b[39;00m artist\u001b[39m.\u001b[39mget_agg_filter() \u001b[39mis\u001b[39;00m \u001b[39mnot\u001b[39;00m \u001b[39mNone\u001b[39;00m:\n\u001b[1;32m     <a href='file:///home/hampus/.cache/pypoetry/virtualenvs/ml-classify-pJEs0r8S-py3.8/lib/python3.8/site-packages/matplotlib/artist.py?line=47'>48</a>\u001b[0m         renderer\u001b[39m.\u001b[39mstart_filter()\n\u001b[0;32m---> <a href='file:///home/hampus/.cache/pypoetry/virtualenvs/ml-classify-pJEs0r8S-py3.8/lib/python3.8/site-packages/matplotlib/artist.py?line=49'>50</a>\u001b[0m     \u001b[39mreturn\u001b[39;00m draw(artist, renderer)\n\u001b[1;32m     <a href='file:///home/hampus/.cache/pypoetry/virtualenvs/ml-classify-pJEs0r8S-py3.8/lib/python3.8/site-packages/matplotlib/artist.py?line=50'>51</a>\u001b[0m \u001b[39mfinally\u001b[39;00m:\n\u001b[1;32m     <a href='file:///home/hampus/.cache/pypoetry/virtualenvs/ml-classify-pJEs0r8S-py3.8/lib/python3.8/site-packages/matplotlib/artist.py?line=51'>52</a>\u001b[0m     \u001b[39mif\u001b[39;00m artist\u001b[39m.\u001b[39mget_agg_filter() \u001b[39mis\u001b[39;00m \u001b[39mnot\u001b[39;00m \u001b[39mNone\u001b[39;00m:\n",
      "File \u001b[0;32m~/.cache/pypoetry/virtualenvs/ml-classify-pJEs0r8S-py3.8/lib/python3.8/site-packages/matplotlib/axis.py:1159\u001b[0m, in \u001b[0;36mAxis.draw\u001b[0;34m(self, renderer, *args, **kwargs)\u001b[0m\n\u001b[1;32m   <a href='file:///home/hampus/.cache/pypoetry/virtualenvs/ml-classify-pJEs0r8S-py3.8/lib/python3.8/site-packages/matplotlib/axis.py?line=1155'>1156</a>\u001b[0m renderer\u001b[39m.\u001b[39mopen_group(\u001b[39m__name__\u001b[39m, gid\u001b[39m=\u001b[39m\u001b[39mself\u001b[39m\u001b[39m.\u001b[39mget_gid())\n\u001b[1;32m   <a href='file:///home/hampus/.cache/pypoetry/virtualenvs/ml-classify-pJEs0r8S-py3.8/lib/python3.8/site-packages/matplotlib/axis.py?line=1157'>1158</a>\u001b[0m ticks_to_draw \u001b[39m=\u001b[39m \u001b[39mself\u001b[39m\u001b[39m.\u001b[39m_update_ticks()\n\u001b[0;32m-> <a href='file:///home/hampus/.cache/pypoetry/virtualenvs/ml-classify-pJEs0r8S-py3.8/lib/python3.8/site-packages/matplotlib/axis.py?line=1158'>1159</a>\u001b[0m ticklabelBoxes, ticklabelBoxes2 \u001b[39m=\u001b[39m \u001b[39mself\u001b[39;49m\u001b[39m.\u001b[39;49m_get_tick_bboxes(ticks_to_draw,\n\u001b[1;32m   <a href='file:///home/hampus/.cache/pypoetry/virtualenvs/ml-classify-pJEs0r8S-py3.8/lib/python3.8/site-packages/matplotlib/axis.py?line=1159'>1160</a>\u001b[0m                                                         renderer)\n\u001b[1;32m   <a href='file:///home/hampus/.cache/pypoetry/virtualenvs/ml-classify-pJEs0r8S-py3.8/lib/python3.8/site-packages/matplotlib/axis.py?line=1161'>1162</a>\u001b[0m \u001b[39mfor\u001b[39;00m tick \u001b[39min\u001b[39;00m ticks_to_draw:\n\u001b[1;32m   <a href='file:///home/hampus/.cache/pypoetry/virtualenvs/ml-classify-pJEs0r8S-py3.8/lib/python3.8/site-packages/matplotlib/axis.py?line=1162'>1163</a>\u001b[0m     tick\u001b[39m.\u001b[39mdraw(renderer)\n",
      "File \u001b[0;32m~/.cache/pypoetry/virtualenvs/ml-classify-pJEs0r8S-py3.8/lib/python3.8/site-packages/matplotlib/axis.py:1085\u001b[0m, in \u001b[0;36mAxis._get_tick_bboxes\u001b[0;34m(self, ticks, renderer)\u001b[0m\n\u001b[1;32m   <a href='file:///home/hampus/.cache/pypoetry/virtualenvs/ml-classify-pJEs0r8S-py3.8/lib/python3.8/site-packages/matplotlib/axis.py?line=1082'>1083</a>\u001b[0m \u001b[39mdef\u001b[39;00m \u001b[39m_get_tick_bboxes\u001b[39m(\u001b[39mself\u001b[39m, ticks, renderer):\n\u001b[1;32m   <a href='file:///home/hampus/.cache/pypoetry/virtualenvs/ml-classify-pJEs0r8S-py3.8/lib/python3.8/site-packages/matplotlib/axis.py?line=1083'>1084</a>\u001b[0m     \u001b[39m\"\"\"Return lists of bboxes for ticks' label1's and label2's.\"\"\"\u001b[39;00m\n\u001b[0;32m-> <a href='file:///home/hampus/.cache/pypoetry/virtualenvs/ml-classify-pJEs0r8S-py3.8/lib/python3.8/site-packages/matplotlib/axis.py?line=1084'>1085</a>\u001b[0m     \u001b[39mreturn\u001b[39;00m ([tick\u001b[39m.\u001b[39mlabel1\u001b[39m.\u001b[39mget_window_extent(renderer)\n\u001b[1;32m   <a href='file:///home/hampus/.cache/pypoetry/virtualenvs/ml-classify-pJEs0r8S-py3.8/lib/python3.8/site-packages/matplotlib/axis.py?line=1085'>1086</a>\u001b[0m              \u001b[39mfor\u001b[39;00m tick \u001b[39min\u001b[39;00m ticks \u001b[39mif\u001b[39;00m tick\u001b[39m.\u001b[39mlabel1\u001b[39m.\u001b[39mget_visible()],\n\u001b[1;32m   <a href='file:///home/hampus/.cache/pypoetry/virtualenvs/ml-classify-pJEs0r8S-py3.8/lib/python3.8/site-packages/matplotlib/axis.py?line=1086'>1087</a>\u001b[0m             [tick\u001b[39m.\u001b[39mlabel2\u001b[39m.\u001b[39mget_window_extent(renderer)\n\u001b[1;32m   <a href='file:///home/hampus/.cache/pypoetry/virtualenvs/ml-classify-pJEs0r8S-py3.8/lib/python3.8/site-packages/matplotlib/axis.py?line=1087'>1088</a>\u001b[0m              \u001b[39mfor\u001b[39;00m tick \u001b[39min\u001b[39;00m ticks \u001b[39mif\u001b[39;00m tick\u001b[39m.\u001b[39mlabel2\u001b[39m.\u001b[39mget_visible()])\n",
      "File \u001b[0;32m~/.cache/pypoetry/virtualenvs/ml-classify-pJEs0r8S-py3.8/lib/python3.8/site-packages/matplotlib/axis.py:1085\u001b[0m, in \u001b[0;36m<listcomp>\u001b[0;34m(.0)\u001b[0m\n\u001b[1;32m   <a href='file:///home/hampus/.cache/pypoetry/virtualenvs/ml-classify-pJEs0r8S-py3.8/lib/python3.8/site-packages/matplotlib/axis.py?line=1082'>1083</a>\u001b[0m \u001b[39mdef\u001b[39;00m \u001b[39m_get_tick_bboxes\u001b[39m(\u001b[39mself\u001b[39m, ticks, renderer):\n\u001b[1;32m   <a href='file:///home/hampus/.cache/pypoetry/virtualenvs/ml-classify-pJEs0r8S-py3.8/lib/python3.8/site-packages/matplotlib/axis.py?line=1083'>1084</a>\u001b[0m     \u001b[39m\"\"\"Return lists of bboxes for ticks' label1's and label2's.\"\"\"\u001b[39;00m\n\u001b[0;32m-> <a href='file:///home/hampus/.cache/pypoetry/virtualenvs/ml-classify-pJEs0r8S-py3.8/lib/python3.8/site-packages/matplotlib/axis.py?line=1084'>1085</a>\u001b[0m     \u001b[39mreturn\u001b[39;00m ([tick\u001b[39m.\u001b[39;49mlabel1\u001b[39m.\u001b[39;49mget_window_extent(renderer)\n\u001b[1;32m   <a href='file:///home/hampus/.cache/pypoetry/virtualenvs/ml-classify-pJEs0r8S-py3.8/lib/python3.8/site-packages/matplotlib/axis.py?line=1085'>1086</a>\u001b[0m              \u001b[39mfor\u001b[39;00m tick \u001b[39min\u001b[39;00m ticks \u001b[39mif\u001b[39;00m tick\u001b[39m.\u001b[39mlabel1\u001b[39m.\u001b[39mget_visible()],\n\u001b[1;32m   <a href='file:///home/hampus/.cache/pypoetry/virtualenvs/ml-classify-pJEs0r8S-py3.8/lib/python3.8/site-packages/matplotlib/axis.py?line=1086'>1087</a>\u001b[0m             [tick\u001b[39m.\u001b[39mlabel2\u001b[39m.\u001b[39mget_window_extent(renderer)\n\u001b[1;32m   <a href='file:///home/hampus/.cache/pypoetry/virtualenvs/ml-classify-pJEs0r8S-py3.8/lib/python3.8/site-packages/matplotlib/axis.py?line=1087'>1088</a>\u001b[0m              \u001b[39mfor\u001b[39;00m tick \u001b[39min\u001b[39;00m ticks \u001b[39mif\u001b[39;00m tick\u001b[39m.\u001b[39mlabel2\u001b[39m.\u001b[39mget_visible()])\n",
      "File \u001b[0;32m~/.cache/pypoetry/virtualenvs/ml-classify-pJEs0r8S-py3.8/lib/python3.8/site-packages/matplotlib/text.py:910\u001b[0m, in \u001b[0;36mText.get_window_extent\u001b[0;34m(self, renderer, dpi)\u001b[0m\n\u001b[1;32m    <a href='file:///home/hampus/.cache/pypoetry/virtualenvs/ml-classify-pJEs0r8S-py3.8/lib/python3.8/site-packages/matplotlib/text.py?line=906'>907</a>\u001b[0m     \u001b[39mraise\u001b[39;00m \u001b[39mRuntimeError\u001b[39;00m(\u001b[39m'\u001b[39m\u001b[39mCannot get window extent w/o renderer\u001b[39m\u001b[39m'\u001b[39m)\n\u001b[1;32m    <a href='file:///home/hampus/.cache/pypoetry/virtualenvs/ml-classify-pJEs0r8S-py3.8/lib/python3.8/site-packages/matplotlib/text.py?line=908'>909</a>\u001b[0m \u001b[39mwith\u001b[39;00m cbook\u001b[39m.\u001b[39m_setattr_cm(\u001b[39mself\u001b[39m\u001b[39m.\u001b[39mfigure, dpi\u001b[39m=\u001b[39mdpi):\n\u001b[0;32m--> <a href='file:///home/hampus/.cache/pypoetry/virtualenvs/ml-classify-pJEs0r8S-py3.8/lib/python3.8/site-packages/matplotlib/text.py?line=909'>910</a>\u001b[0m     bbox, info, descent \u001b[39m=\u001b[39m \u001b[39mself\u001b[39;49m\u001b[39m.\u001b[39;49m_get_layout(\u001b[39mself\u001b[39;49m\u001b[39m.\u001b[39;49m_renderer)\n\u001b[1;32m    <a href='file:///home/hampus/.cache/pypoetry/virtualenvs/ml-classify-pJEs0r8S-py3.8/lib/python3.8/site-packages/matplotlib/text.py?line=910'>911</a>\u001b[0m     x, y \u001b[39m=\u001b[39m \u001b[39mself\u001b[39m\u001b[39m.\u001b[39mget_unitless_position()\n\u001b[1;32m    <a href='file:///home/hampus/.cache/pypoetry/virtualenvs/ml-classify-pJEs0r8S-py3.8/lib/python3.8/site-packages/matplotlib/text.py?line=911'>912</a>\u001b[0m     x, y \u001b[39m=\u001b[39m \u001b[39mself\u001b[39m\u001b[39m.\u001b[39mget_transform()\u001b[39m.\u001b[39mtransform((x, y))\n",
      "File \u001b[0;32m~/.cache/pypoetry/virtualenvs/ml-classify-pJEs0r8S-py3.8/lib/python3.8/site-packages/matplotlib/text.py:309\u001b[0m, in \u001b[0;36mText._get_layout\u001b[0;34m(self, renderer)\u001b[0m\n\u001b[1;32m    <a href='file:///home/hampus/.cache/pypoetry/virtualenvs/ml-classify-pJEs0r8S-py3.8/lib/python3.8/site-packages/matplotlib/text.py?line=305'>306</a>\u001b[0m ys \u001b[39m=\u001b[39m []\n\u001b[1;32m    <a href='file:///home/hampus/.cache/pypoetry/virtualenvs/ml-classify-pJEs0r8S-py3.8/lib/python3.8/site-packages/matplotlib/text.py?line=307'>308</a>\u001b[0m \u001b[39m# Full vertical extent of font, including ascenders and descenders:\u001b[39;00m\n\u001b[0;32m--> <a href='file:///home/hampus/.cache/pypoetry/virtualenvs/ml-classify-pJEs0r8S-py3.8/lib/python3.8/site-packages/matplotlib/text.py?line=308'>309</a>\u001b[0m _, lp_h, lp_d \u001b[39m=\u001b[39m renderer\u001b[39m.\u001b[39;49mget_text_width_height_descent(\n\u001b[1;32m    <a href='file:///home/hampus/.cache/pypoetry/virtualenvs/ml-classify-pJEs0r8S-py3.8/lib/python3.8/site-packages/matplotlib/text.py?line=309'>310</a>\u001b[0m     \u001b[39m\"\u001b[39;49m\u001b[39mlp\u001b[39;49m\u001b[39m\"\u001b[39;49m, \u001b[39mself\u001b[39;49m\u001b[39m.\u001b[39;49m_fontproperties,\n\u001b[1;32m    <a href='file:///home/hampus/.cache/pypoetry/virtualenvs/ml-classify-pJEs0r8S-py3.8/lib/python3.8/site-packages/matplotlib/text.py?line=310'>311</a>\u001b[0m     ismath\u001b[39m=\u001b[39;49m\u001b[39m\"\u001b[39;49m\u001b[39mTeX\u001b[39;49m\u001b[39m\"\u001b[39;49m \u001b[39mif\u001b[39;49;00m \u001b[39mself\u001b[39;49m\u001b[39m.\u001b[39;49mget_usetex() \u001b[39melse\u001b[39;49;00m \u001b[39mFalse\u001b[39;49;00m)\n\u001b[1;32m    <a href='file:///home/hampus/.cache/pypoetry/virtualenvs/ml-classify-pJEs0r8S-py3.8/lib/python3.8/site-packages/matplotlib/text.py?line=311'>312</a>\u001b[0m min_dy \u001b[39m=\u001b[39m (lp_h \u001b[39m-\u001b[39m lp_d) \u001b[39m*\u001b[39m \u001b[39mself\u001b[39m\u001b[39m.\u001b[39m_linespacing\n\u001b[1;32m    <a href='file:///home/hampus/.cache/pypoetry/virtualenvs/ml-classify-pJEs0r8S-py3.8/lib/python3.8/site-packages/matplotlib/text.py?line=313'>314</a>\u001b[0m \u001b[39mfor\u001b[39;00m i, line \u001b[39min\u001b[39;00m \u001b[39menumerate\u001b[39m(lines):\n",
      "File \u001b[0;32m~/.cache/pypoetry/virtualenvs/ml-classify-pJEs0r8S-py3.8/lib/python3.8/site-packages/matplotlib/backends/backend_pgf.py:738\u001b[0m, in \u001b[0;36mRendererPgf.get_text_width_height_descent\u001b[0;34m(self, s, prop, ismath)\u001b[0m\n\u001b[1;32m    <a href='file:///home/hampus/.cache/pypoetry/virtualenvs/ml-classify-pJEs0r8S-py3.8/lib/python3.8/site-packages/matplotlib/backends/backend_pgf.py?line=734'>735</a>\u001b[0m \u001b[39mdef\u001b[39;00m \u001b[39mget_text_width_height_descent\u001b[39m(\u001b[39mself\u001b[39m, s, prop, ismath):\n\u001b[1;32m    <a href='file:///home/hampus/.cache/pypoetry/virtualenvs/ml-classify-pJEs0r8S-py3.8/lib/python3.8/site-packages/matplotlib/backends/backend_pgf.py?line=735'>736</a>\u001b[0m     \u001b[39m# docstring inherited\u001b[39;00m\n\u001b[1;32m    <a href='file:///home/hampus/.cache/pypoetry/virtualenvs/ml-classify-pJEs0r8S-py3.8/lib/python3.8/site-packages/matplotlib/backends/backend_pgf.py?line=736'>737</a>\u001b[0m     \u001b[39m# get text metrics in units of latex pt, convert to display units\u001b[39;00m\n\u001b[0;32m--> <a href='file:///home/hampus/.cache/pypoetry/virtualenvs/ml-classify-pJEs0r8S-py3.8/lib/python3.8/site-packages/matplotlib/backends/backend_pgf.py?line=737'>738</a>\u001b[0m     w, h, d \u001b[39m=\u001b[39m (LatexManager\u001b[39m.\u001b[39;49m_get_cached_or_new()\n\u001b[1;32m    <a href='file:///home/hampus/.cache/pypoetry/virtualenvs/ml-classify-pJEs0r8S-py3.8/lib/python3.8/site-packages/matplotlib/backends/backend_pgf.py?line=738'>739</a>\u001b[0m                \u001b[39m.\u001b[39mget_width_height_descent(s, prop))\n\u001b[1;32m    <a href='file:///home/hampus/.cache/pypoetry/virtualenvs/ml-classify-pJEs0r8S-py3.8/lib/python3.8/site-packages/matplotlib/backends/backend_pgf.py?line=739'>740</a>\u001b[0m     \u001b[39m# TODO: this should be latex_pt_to_in instead of mpl_pt_to_in\u001b[39;00m\n\u001b[1;32m    <a href='file:///home/hampus/.cache/pypoetry/virtualenvs/ml-classify-pJEs0r8S-py3.8/lib/python3.8/site-packages/matplotlib/backends/backend_pgf.py?line=740'>741</a>\u001b[0m     \u001b[39m# but having a little bit more space around the text looks better,\u001b[39;00m\n\u001b[1;32m    <a href='file:///home/hampus/.cache/pypoetry/virtualenvs/ml-classify-pJEs0r8S-py3.8/lib/python3.8/site-packages/matplotlib/backends/backend_pgf.py?line=741'>742</a>\u001b[0m     \u001b[39m# plus the bounding box reported by LaTeX is VERY narrow\u001b[39;00m\n\u001b[1;32m    <a href='file:///home/hampus/.cache/pypoetry/virtualenvs/ml-classify-pJEs0r8S-py3.8/lib/python3.8/site-packages/matplotlib/backends/backend_pgf.py?line=742'>743</a>\u001b[0m     f \u001b[39m=\u001b[39m mpl_pt_to_in \u001b[39m*\u001b[39m \u001b[39mself\u001b[39m\u001b[39m.\u001b[39mdpi\n",
      "File \u001b[0;32m~/.cache/pypoetry/virtualenvs/ml-classify-pJEs0r8S-py3.8/lib/python3.8/site-packages/matplotlib/backends/backend_pgf.py:241\u001b[0m, in \u001b[0;36mLatexManager._get_cached_or_new\u001b[0;34m(cls)\u001b[0m\n\u001b[1;32m    <a href='file:///home/hampus/.cache/pypoetry/virtualenvs/ml-classify-pJEs0r8S-py3.8/lib/python3.8/site-packages/matplotlib/backends/backend_pgf.py?line=234'>235</a>\u001b[0m \u001b[39m@classmethod\u001b[39m\n\u001b[1;32m    <a href='file:///home/hampus/.cache/pypoetry/virtualenvs/ml-classify-pJEs0r8S-py3.8/lib/python3.8/site-packages/matplotlib/backends/backend_pgf.py?line=235'>236</a>\u001b[0m \u001b[39mdef\u001b[39;00m \u001b[39m_get_cached_or_new\u001b[39m(\u001b[39mcls\u001b[39m):\n\u001b[1;32m    <a href='file:///home/hampus/.cache/pypoetry/virtualenvs/ml-classify-pJEs0r8S-py3.8/lib/python3.8/site-packages/matplotlib/backends/backend_pgf.py?line=236'>237</a>\u001b[0m     \u001b[39m\"\"\"\u001b[39;00m\n\u001b[1;32m    <a href='file:///home/hampus/.cache/pypoetry/virtualenvs/ml-classify-pJEs0r8S-py3.8/lib/python3.8/site-packages/matplotlib/backends/backend_pgf.py?line=237'>238</a>\u001b[0m \u001b[39m    Return the previous LatexManager if the header and tex system did not\u001b[39;00m\n\u001b[1;32m    <a href='file:///home/hampus/.cache/pypoetry/virtualenvs/ml-classify-pJEs0r8S-py3.8/lib/python3.8/site-packages/matplotlib/backends/backend_pgf.py?line=238'>239</a>\u001b[0m \u001b[39m    change, or a new instance otherwise.\u001b[39;00m\n\u001b[1;32m    <a href='file:///home/hampus/.cache/pypoetry/virtualenvs/ml-classify-pJEs0r8S-py3.8/lib/python3.8/site-packages/matplotlib/backends/backend_pgf.py?line=239'>240</a>\u001b[0m \u001b[39m    \"\"\"\u001b[39;00m\n\u001b[0;32m--> <a href='file:///home/hampus/.cache/pypoetry/virtualenvs/ml-classify-pJEs0r8S-py3.8/lib/python3.8/site-packages/matplotlib/backends/backend_pgf.py?line=240'>241</a>\u001b[0m     \u001b[39mreturn\u001b[39;00m \u001b[39mcls\u001b[39;49m\u001b[39m.\u001b[39;49m_get_cached_or_new_impl(\u001b[39mcls\u001b[39;49m\u001b[39m.\u001b[39;49m_build_latex_header())\n",
      "File \u001b[0;32m~/.cache/pypoetry/virtualenvs/ml-classify-pJEs0r8S-py3.8/lib/python3.8/site-packages/matplotlib/backends/backend_pgf.py:246\u001b[0m, in \u001b[0;36mLatexManager._get_cached_or_new_impl\u001b[0;34m(cls, header)\u001b[0m\n\u001b[1;32m    <a href='file:///home/hampus/.cache/pypoetry/virtualenvs/ml-classify-pJEs0r8S-py3.8/lib/python3.8/site-packages/matplotlib/backends/backend_pgf.py?line=242'>243</a>\u001b[0m \u001b[39m@classmethod\u001b[39m\n\u001b[1;32m    <a href='file:///home/hampus/.cache/pypoetry/virtualenvs/ml-classify-pJEs0r8S-py3.8/lib/python3.8/site-packages/matplotlib/backends/backend_pgf.py?line=243'>244</a>\u001b[0m \u001b[39m@functools\u001b[39m\u001b[39m.\u001b[39mlru_cache(\u001b[39m1\u001b[39m)\n\u001b[1;32m    <a href='file:///home/hampus/.cache/pypoetry/virtualenvs/ml-classify-pJEs0r8S-py3.8/lib/python3.8/site-packages/matplotlib/backends/backend_pgf.py?line=244'>245</a>\u001b[0m \u001b[39mdef\u001b[39;00m \u001b[39m_get_cached_or_new_impl\u001b[39m(\u001b[39mcls\u001b[39m, header):  \u001b[39m# Helper for _get_cached_or_new.\u001b[39;00m\n\u001b[0;32m--> <a href='file:///home/hampus/.cache/pypoetry/virtualenvs/ml-classify-pJEs0r8S-py3.8/lib/python3.8/site-packages/matplotlib/backends/backend_pgf.py?line=245'>246</a>\u001b[0m     \u001b[39mreturn\u001b[39;00m \u001b[39mcls\u001b[39;49m()\n",
      "File \u001b[0;32m~/.cache/pypoetry/virtualenvs/ml-classify-pJEs0r8S-py3.8/lib/python3.8/site-packages/matplotlib/backends/backend_pgf.py:288\u001b[0m, in \u001b[0;36mLatexManager.__init__\u001b[0;34m(self)\u001b[0m\n\u001b[1;32m    <a href='file:///home/hampus/.cache/pypoetry/virtualenvs/ml-classify-pJEs0r8S-py3.8/lib/python3.8/site-packages/matplotlib/backends/backend_pgf.py?line=282'>283</a>\u001b[0m     latex \u001b[39m=\u001b[39m subprocess\u001b[39m.\u001b[39mPopen(\n\u001b[1;32m    <a href='file:///home/hampus/.cache/pypoetry/virtualenvs/ml-classify-pJEs0r8S-py3.8/lib/python3.8/site-packages/matplotlib/backends/backend_pgf.py?line=283'>284</a>\u001b[0m         [\u001b[39mself\u001b[39m\u001b[39m.\u001b[39mtexcommand, \u001b[39m\"\u001b[39m\u001b[39m-halt-on-error\u001b[39m\u001b[39m\"\u001b[39m],\n\u001b[1;32m    <a href='file:///home/hampus/.cache/pypoetry/virtualenvs/ml-classify-pJEs0r8S-py3.8/lib/python3.8/site-packages/matplotlib/backends/backend_pgf.py?line=284'>285</a>\u001b[0m         stdin\u001b[39m=\u001b[39msubprocess\u001b[39m.\u001b[39mPIPE, stdout\u001b[39m=\u001b[39msubprocess\u001b[39m.\u001b[39mPIPE,\n\u001b[1;32m    <a href='file:///home/hampus/.cache/pypoetry/virtualenvs/ml-classify-pJEs0r8S-py3.8/lib/python3.8/site-packages/matplotlib/backends/backend_pgf.py?line=285'>286</a>\u001b[0m         encoding\u001b[39m=\u001b[39m\u001b[39m\"\u001b[39m\u001b[39mutf-8\u001b[39m\u001b[39m\"\u001b[39m, cwd\u001b[39m=\u001b[39m\u001b[39mself\u001b[39m\u001b[39m.\u001b[39mtmpdir)\n\u001b[1;32m    <a href='file:///home/hampus/.cache/pypoetry/virtualenvs/ml-classify-pJEs0r8S-py3.8/lib/python3.8/site-packages/matplotlib/backends/backend_pgf.py?line=286'>287</a>\u001b[0m \u001b[39mexcept\u001b[39;00m \u001b[39mFileNotFoundError\u001b[39;00m \u001b[39mas\u001b[39;00m err:\n\u001b[0;32m--> <a href='file:///home/hampus/.cache/pypoetry/virtualenvs/ml-classify-pJEs0r8S-py3.8/lib/python3.8/site-packages/matplotlib/backends/backend_pgf.py?line=287'>288</a>\u001b[0m     \u001b[39mraise\u001b[39;00m \u001b[39mRuntimeError\u001b[39;00m(\n\u001b[1;32m    <a href='file:///home/hampus/.cache/pypoetry/virtualenvs/ml-classify-pJEs0r8S-py3.8/lib/python3.8/site-packages/matplotlib/backends/backend_pgf.py?line=288'>289</a>\u001b[0m         \u001b[39mf\u001b[39m\u001b[39m\"\u001b[39m\u001b[39m{\u001b[39;00m\u001b[39mself\u001b[39m\u001b[39m.\u001b[39mtexcommand\u001b[39m}\u001b[39;00m\u001b[39m not found.  Install it or change \u001b[39m\u001b[39m\"\u001b[39m\n\u001b[1;32m    <a href='file:///home/hampus/.cache/pypoetry/virtualenvs/ml-classify-pJEs0r8S-py3.8/lib/python3.8/site-packages/matplotlib/backends/backend_pgf.py?line=289'>290</a>\u001b[0m         \u001b[39mf\u001b[39m\u001b[39m\"\u001b[39m\u001b[39mrcParams[\u001b[39m\u001b[39m'\u001b[39m\u001b[39mpgf.texsystem\u001b[39m\u001b[39m'\u001b[39m\u001b[39m] to an available TeX \u001b[39m\u001b[39m\"\u001b[39m\n\u001b[1;32m    <a href='file:///home/hampus/.cache/pypoetry/virtualenvs/ml-classify-pJEs0r8S-py3.8/lib/python3.8/site-packages/matplotlib/backends/backend_pgf.py?line=290'>291</a>\u001b[0m         \u001b[39mf\u001b[39m\u001b[39m\"\u001b[39m\u001b[39mimplementation.\u001b[39m\u001b[39m\"\u001b[39m) \u001b[39mfrom\u001b[39;00m \u001b[39merr\u001b[39;00m\n\u001b[1;32m    <a href='file:///home/hampus/.cache/pypoetry/virtualenvs/ml-classify-pJEs0r8S-py3.8/lib/python3.8/site-packages/matplotlib/backends/backend_pgf.py?line=291'>292</a>\u001b[0m \u001b[39mexcept\u001b[39;00m \u001b[39mOSError\u001b[39;00m \u001b[39mas\u001b[39;00m err:\n\u001b[1;32m    <a href='file:///home/hampus/.cache/pypoetry/virtualenvs/ml-classify-pJEs0r8S-py3.8/lib/python3.8/site-packages/matplotlib/backends/backend_pgf.py?line=292'>293</a>\u001b[0m     \u001b[39mraise\u001b[39;00m \u001b[39mRuntimeError\u001b[39;00m(\u001b[39m\"\u001b[39m\u001b[39mError starting process \u001b[39m\u001b[39m%r\u001b[39;00m\u001b[39m\"\u001b[39m \u001b[39m%\u001b[39m\n\u001b[1;32m    <a href='file:///home/hampus/.cache/pypoetry/virtualenvs/ml-classify-pJEs0r8S-py3.8/lib/python3.8/site-packages/matplotlib/backends/backend_pgf.py?line=293'>294</a>\u001b[0m                        \u001b[39mself\u001b[39m\u001b[39m.\u001b[39mtexcommand) \u001b[39mfrom\u001b[39;00m \u001b[39merr\u001b[39;00m\n",
      "\u001b[0;31mRuntimeError\u001b[0m: xelatex not found.  Install it or change rcParams['pgf.texsystem'] to an available TeX implementation."
     ]
    },
    {
     "data": {
      "text/plain": [
       "<Figure size 691.2x172.8 with 1 Axes>"
      ]
     },
     "metadata": {
      "needs_background": "light"
     },
     "output_type": "display_data"
    }
   ],
   "source": [
    "# df[\"t\"] += 1.03e9\n",
    "normal = df.loc[(df[\"name\"] == \"correlated_signal_attack_1\") & (df[\"Label\"] == 0), \"dt\"]\n",
    "normal_t = df.loc[(df[\"name\"] == \"correlated_signal_attack_1\") & (df[\"Label\"] == 0), \"t\"]\n",
    "attack = df.loc[(df[\"name\"] == \"correlated_signal_attack_1\") & (df[\"Label\"] == 1), \"dt\"]\n",
    "attack_t = df.loc[(df[\"name\"] == \"correlated_signal_attack_1\") & (df[\"Label\"] == 1), \"t\"]\n",
    "plt.figure(figsize=(9.6, 2.4))\n",
    "plt.scatter(x=normal_t, y=normal, s=0.5)\n",
    "plt.scatter(x=attack_t, y=attack, s=0.5, c=\"red\")\n",
    "\n",
    "plt.xlabel(\"Time (s)\")\n",
    "plt.ylabel(\"$\\Delta$ t (s)\")\n",
    "\n",
    "# plt.show()\n",
    "\n",
    "plt.savefig(\"ROAD_correlated_signal_attack_1_dt.pgf\")"
   ]
  },
  {
   "cell_type": "markdown",
   "id": "2fd1dc1b",
   "metadata": {},
   "source": [
    "Look at dt_IDs"
   ]
  },
  {
   "cell_type": "code",
   "execution_count": 4,
   "id": "bbe9c706",
   "metadata": {},
   "outputs": [
    {
     "data": {
      "image/png": "[encoded data removed]",
      "text/plain": [
       "<Figure size 432x288 with 1 Axes>"
      ]
     },
     "metadata": {
      "needs_background": "light"
     },
     "output_type": "display_data"
    }
   ],
   "source": [
    "plt.hist(\n",
    "    x=[\n",
    "        df.loc[df[\"Label\"] == 0, \"dt\"],\n",
    "        df.loc[df[\"type\"] == \"masq\", \"dt\"],\n",
    "        df.loc[df[\"type\"] == \"fuzz\", \"dt\"],\n",
    "        df.loc[df[\"type\"] == \"fabr\", \"dt\"]\n",
    "    ],\n",
    "    bins=100,\n",
    "    range=(0, 0.01),\n",
    "    color=[\"tab:blue\", \"tab:red\", \"tab:green\", \"tab:purple\"],\n",
    "    log=True,\n",
    "    label=[\"Normal\", \"masq\", \"fuzz\", \"fabr\"], histtype=\"step\"\n",
    ")\n",
    "plt.legend()\n",
    "plt.xlabel(\"Time between packets with the same ID\\n(Divided into 100 steps)\")\n",
    "plt.ylabel(\"Number of CAN frames\")\n",
    "# plt.hist(df.loc[df[\"Label\"] == 1, \"dt_ID\"], bins=30, range=(0, 50), color=\"tab:red\", log=True, rwidth=0.5)\n",
    "plt.show()"
   ]
  },
  {
   "cell_type": "markdown",
   "id": "f233a90b",
   "metadata": {},
   "source": [
    "Measure the occurence of IDs in the normal data"
   ]
  },
  {
   "cell_type": "code",
   "execution_count": 5,
   "id": "77f719f0",
   "metadata": {},
   "outputs": [
    {
     "data": {
      "image/png": "[encoded data removed]",
      "text/plain": [
       "<Figure size 432x288 with 1 Axes>"
      ]
     },
     "metadata": {
      "needs_background": "light"
     },
     "output_type": "display_data"
    },
    {
     "name": "stdout",
     "output_type": "stream",
     "text": [
      "30.061299800872803\n"
     ]
    }
   ],
   "source": [
    "types, types_count = np.unique(df.loc[df[\"Label\"] == 0, \"ID\"], return_counts=True)\n",
    "t_dt = []\n",
    "for t in types:\n",
    "    t_dt.append(df.loc[(df[\"ID\"] == t) & (df[\"Label\"] == 0), \"dt_ID\"].mean())\n",
    "plt.bar(x=types, height=t_dt)#, log=True)\n",
    "plt.show()\n",
    "print(df[\"dt_ID\"].max())"
   ]
  },
  {
   "cell_type": "markdown",
   "id": "4090211e",
   "metadata": {},
   "source": [
    "Drop a few columns<br>\n",
    "The data fields are dropped because there are different standards for each car manufacturers<br>\n",
    "on how to use the bytes in the payload of the CAN frame.<br>\n",
    "The ID is dropped for the same reason as the data fields; manufacturers use different high level protocols<br>\n",
    "to encode the ID field in their vehicles. Also, some datasets obfuscate their data.\n",
    "DLC is dropped because it does not exist in all datasets.<br>\n",
    "t is dropped because the absolute timestamps will not give much information, because<br>\n",
    "data dathered on different times will vary a lot. The delta time (dt) is better in this regard.<br>"
   ]
  },
  {
   "cell_type": "code",
   "execution_count": 6,
   "id": "a4422006",
   "metadata": {},
   "outputs": [
    {
     "data": {
      "text/html": [
       "<div>\n",
       "<style scoped>\n",
       "    .dataframe tbody tr th:only-of-type {\n",
       "        vertical-align: middle;\n",
       "    }\n",
       "\n",
       "    .dataframe tbody tr th {\n",
       "        vertical-align: top;\n",
       "    }\n",
       "\n",
       "    .dataframe thead th {\n",
       "        text-align: right;\n",
       "    }\n",
       "</style>\n",
       "<table border=\"1\" class=\"dataframe\">\n",
       "  <thead>\n",
       "    <tr style=\"text-align: right;\">\n",
       "      <th></th>\n",
       "      <th>dt</th>\n",
       "      <th>dt_ID</th>\n",
       "      <th>dataset</th>\n",
       "      <th>type</th>\n",
       "      <th>Label</th>\n",
       "    </tr>\n",
       "  </thead>\n",
       "  <tbody>\n",
       "    <tr>\n",
       "      <th>0</th>\n",
       "      <td>4.073523e-04</td>\n",
       "      <td>0.009999</td>\n",
       "      <td>ROAD</td>\n",
       "      <td>none</td>\n",
       "      <td>0</td>\n",
       "    </tr>\n",
       "    <tr>\n",
       "      <th>1</th>\n",
       "      <td>1.019955e-03</td>\n",
       "      <td>0.009999</td>\n",
       "      <td>ROAD</td>\n",
       "      <td>none</td>\n",
       "      <td>0</td>\n",
       "    </tr>\n",
       "    <tr>\n",
       "      <th>2</th>\n",
       "      <td>1.072884e-06</td>\n",
       "      <td>0.019998</td>\n",
       "      <td>ROAD</td>\n",
       "      <td>none</td>\n",
       "      <td>0</td>\n",
       "    </tr>\n",
       "    <tr>\n",
       "      <th>3</th>\n",
       "      <td>2.026558e-06</td>\n",
       "      <td>0.009999</td>\n",
       "      <td>ROAD</td>\n",
       "      <td>none</td>\n",
       "      <td>0</td>\n",
       "    </tr>\n",
       "    <tr>\n",
       "      <th>4</th>\n",
       "      <td>9.536743e-07</td>\n",
       "      <td>0.009998</td>\n",
       "      <td>ROAD</td>\n",
       "      <td>none</td>\n",
       "      <td>0</td>\n",
       "    </tr>\n",
       "    <tr>\n",
       "      <th>...</th>\n",
       "      <td>...</td>\n",
       "      <td>...</td>\n",
       "      <td>...</td>\n",
       "      <td>...</td>\n",
       "      <td>...</td>\n",
       "    </tr>\n",
       "    <tr>\n",
       "      <th>3266459</th>\n",
       "      <td>1.192093e-06</td>\n",
       "      <td>0.050870</td>\n",
       "      <td>ROAD</td>\n",
       "      <td>none</td>\n",
       "      <td>0</td>\n",
       "    </tr>\n",
       "    <tr>\n",
       "      <th>3266460</th>\n",
       "      <td>9.977818e-04</td>\n",
       "      <td>0.019898</td>\n",
       "      <td>ROAD</td>\n",
       "      <td>none</td>\n",
       "      <td>0</td>\n",
       "    </tr>\n",
       "    <tr>\n",
       "      <th>3266461</th>\n",
       "      <td>2.145767e-06</td>\n",
       "      <td>0.010723</td>\n",
       "      <td>ROAD</td>\n",
       "      <td>none</td>\n",
       "      <td>0</td>\n",
       "    </tr>\n",
       "    <tr>\n",
       "      <th>3266462</th>\n",
       "      <td>9.536743e-07</td>\n",
       "      <td>0.025351</td>\n",
       "      <td>ROAD</td>\n",
       "      <td>none</td>\n",
       "      <td>0</td>\n",
       "    </tr>\n",
       "    <tr>\n",
       "      <th>3266463</th>\n",
       "      <td>9.536743e-07</td>\n",
       "      <td>0.009729</td>\n",
       "      <td>ROAD</td>\n",
       "      <td>none</td>\n",
       "      <td>0</td>\n",
       "    </tr>\n",
       "  </tbody>\n",
       "</table>\n",
       "<p>3266464 rows × 5 columns</p>\n",
       "</div>"
      ],
      "text/plain": [
       "                   dt     dt_ID dataset  type  Label\n",
       "0        4.073523e-04  0.009999    ROAD  none      0\n",
       "1        1.019955e-03  0.009999    ROAD  none      0\n",
       "2        1.072884e-06  0.019998    ROAD  none      0\n",
       "3        2.026558e-06  0.009999    ROAD  none      0\n",
       "4        9.536743e-07  0.009998    ROAD  none      0\n",
       "...               ...       ...     ...   ...    ...\n",
       "3266459  1.192093e-06  0.050870    ROAD  none      0\n",
       "3266460  9.977818e-04  0.019898    ROAD  none      0\n",
       "3266461  2.145767e-06  0.010723    ROAD  none      0\n",
       "3266462  9.536743e-07  0.025351    ROAD  none      0\n",
       "3266463  9.536743e-07  0.009729    ROAD  none      0\n",
       "\n",
       "[3266464 rows x 5 columns]"
      ]
     },
     "metadata": {},
     "output_type": "display_data"
    }
   ],
   "source": [
    "df.drop(columns=[\"d0\", \"d1\", \"d2\", \"d3\", \"d4\", \"d5\", \"d6\", \"d7\", \"ID\", \"DLC\", \"t\"], inplace=True, errors=\"ignore\")\n",
    "\n",
    "display(df)"
   ]
  },
  {
   "cell_type": "markdown",
   "id": "62a8ce46",
   "metadata": {},
   "source": [
    "Perform a Chi Squared test to see if there are any features that aren't dependent on the classification label, \"Label\"."
   ]
  },
  {
   "cell_type": "code",
   "execution_count": 7,
   "id": "2730c0b9",
   "metadata": {},
   "outputs": [
    {
     "ename": "ValueError",
     "evalue": "at least one array or dtype is required",
     "output_type": "error",
     "traceback": [
      "\u001b[0;31m---------------------------------------------------------------------------\u001b[0m",
      "\u001b[0;31mValueError\u001b[0m                                Traceback (most recent call last)",
      "\u001b[1;32m/home/hampus/miun/master_thesis/python/ml-classify/ml_classify/main-notebook.ipynb Cell 12'\u001b[0m in \u001b[0;36m<module>\u001b[0;34m\u001b[0m\n\u001b[1;32m      <a href='vscode-notebook-cell:/home/hampus/miun/master_thesis/python/ml-classify/ml_classify/main-notebook.ipynb#ch0000011?line=2'>3</a>\u001b[0m X_chi \u001b[39m=\u001b[39m df\u001b[39m.\u001b[39mdrop(columns\u001b[39m=\u001b[39m[\u001b[39m\"\u001b[39m\u001b[39mdt\u001b[39m\u001b[39m\"\u001b[39m ,\u001b[39m\"\u001b[39m\u001b[39mdt_ID\u001b[39m\u001b[39m\"\u001b[39m, \u001b[39m\"\u001b[39m\u001b[39mtype\u001b[39m\u001b[39m\"\u001b[39m, \u001b[39m\"\u001b[39m\u001b[39mdataset\u001b[39m\u001b[39m\"\u001b[39m, \u001b[39m\"\u001b[39m\u001b[39mLabel\u001b[39m\u001b[39m\"\u001b[39m])\n\u001b[1;32m      <a href='vscode-notebook-cell:/home/hampus/miun/master_thesis/python/ml-classify/ml_classify/main-notebook.ipynb#ch0000011?line=3'>4</a>\u001b[0m y_chi \u001b[39m=\u001b[39m df[\u001b[39m\"\u001b[39m\u001b[39mLabel\u001b[39m\u001b[39m\"\u001b[39m]\n\u001b[0;32m----> <a href='vscode-notebook-cell:/home/hampus/miun/master_thesis/python/ml-classify/ml_classify/main-notebook.ipynb#ch0000011?line=4'>5</a>\u001b[0m chi_scores \u001b[39m=\u001b[39m chi2(X_chi, y_chi)\n\u001b[1;32m      <a href='vscode-notebook-cell:/home/hampus/miun/master_thesis/python/ml-classify/ml_classify/main-notebook.ipynb#ch0000011?line=5'>6</a>\u001b[0m p_values \u001b[39m=\u001b[39m chi_scores[\u001b[39m1\u001b[39m]\n\u001b[1;32m      <a href='vscode-notebook-cell:/home/hampus/miun/master_thesis/python/ml-classify/ml_classify/main-notebook.ipynb#ch0000011?line=6'>7</a>\u001b[0m \u001b[39mprint\u001b[39m(p_values)\n",
      "File \u001b[0;32m~/.cache/pypoetry/virtualenvs/ml-classify-pJEs0r8S-py3.8/lib/python3.8/site-packages/sklearn/feature_selection/_univariate_selection.py:213\u001b[0m, in \u001b[0;36mchi2\u001b[0;34m(X, y)\u001b[0m\n\u001b[1;32m    <a href='file:///home/hampus/.cache/pypoetry/virtualenvs/ml-classify-pJEs0r8S-py3.8/lib/python3.8/site-packages/sklearn/feature_selection/_univariate_selection.py?line=170'>171</a>\u001b[0m \u001b[39m\"\"\"Compute chi-squared stats between each non-negative feature and class.\u001b[39;00m\n\u001b[1;32m    <a href='file:///home/hampus/.cache/pypoetry/virtualenvs/ml-classify-pJEs0r8S-py3.8/lib/python3.8/site-packages/sklearn/feature_selection/_univariate_selection.py?line=171'>172</a>\u001b[0m \n\u001b[1;32m    <a href='file:///home/hampus/.cache/pypoetry/virtualenvs/ml-classify-pJEs0r8S-py3.8/lib/python3.8/site-packages/sklearn/feature_selection/_univariate_selection.py?line=172'>173</a>\u001b[0m \u001b[39mThis score can be used to select the n_features features with the\u001b[39;00m\n\u001b[0;32m   (...)\u001b[0m\n\u001b[1;32m    <a href='file:///home/hampus/.cache/pypoetry/virtualenvs/ml-classify-pJEs0r8S-py3.8/lib/python3.8/site-packages/sklearn/feature_selection/_univariate_selection.py?line=207'>208</a>\u001b[0m \u001b[39mf_regression : F-value between label/feature for regression tasks.\u001b[39;00m\n\u001b[1;32m    <a href='file:///home/hampus/.cache/pypoetry/virtualenvs/ml-classify-pJEs0r8S-py3.8/lib/python3.8/site-packages/sklearn/feature_selection/_univariate_selection.py?line=208'>209</a>\u001b[0m \u001b[39m\"\"\"\u001b[39;00m\n\u001b[1;32m    <a href='file:///home/hampus/.cache/pypoetry/virtualenvs/ml-classify-pJEs0r8S-py3.8/lib/python3.8/site-packages/sklearn/feature_selection/_univariate_selection.py?line=210'>211</a>\u001b[0m \u001b[39m# XXX: we might want to do some of the following in logspace instead for\u001b[39;00m\n\u001b[1;32m    <a href='file:///home/hampus/.cache/pypoetry/virtualenvs/ml-classify-pJEs0r8S-py3.8/lib/python3.8/site-packages/sklearn/feature_selection/_univariate_selection.py?line=211'>212</a>\u001b[0m \u001b[39m# numerical stability.\u001b[39;00m\n\u001b[0;32m--> <a href='file:///home/hampus/.cache/pypoetry/virtualenvs/ml-classify-pJEs0r8S-py3.8/lib/python3.8/site-packages/sklearn/feature_selection/_univariate_selection.py?line=212'>213</a>\u001b[0m X \u001b[39m=\u001b[39m check_array(X, accept_sparse\u001b[39m=\u001b[39;49m\u001b[39m\"\u001b[39;49m\u001b[39mcsr\u001b[39;49m\u001b[39m\"\u001b[39;49m)\n\u001b[1;32m    <a href='file:///home/hampus/.cache/pypoetry/virtualenvs/ml-classify-pJEs0r8S-py3.8/lib/python3.8/site-packages/sklearn/feature_selection/_univariate_selection.py?line=213'>214</a>\u001b[0m \u001b[39mif\u001b[39;00m np\u001b[39m.\u001b[39many((X\u001b[39m.\u001b[39mdata \u001b[39mif\u001b[39;00m issparse(X) \u001b[39melse\u001b[39;00m X) \u001b[39m<\u001b[39m \u001b[39m0\u001b[39m):\n\u001b[1;32m    <a href='file:///home/hampus/.cache/pypoetry/virtualenvs/ml-classify-pJEs0r8S-py3.8/lib/python3.8/site-packages/sklearn/feature_selection/_univariate_selection.py?line=214'>215</a>\u001b[0m     \u001b[39mraise\u001b[39;00m \u001b[39mValueError\u001b[39;00m(\u001b[39m\"\u001b[39m\u001b[39mInput X must be non-negative.\u001b[39m\u001b[39m\"\u001b[39m)\n",
      "File \u001b[0;32m~/.cache/pypoetry/virtualenvs/ml-classify-pJEs0r8S-py3.8/lib/python3.8/site-packages/sklearn/utils/validation.py:665\u001b[0m, in \u001b[0;36mcheck_array\u001b[0;34m(array, accept_sparse, accept_large_sparse, dtype, order, copy, force_all_finite, ensure_2d, allow_nd, ensure_min_samples, ensure_min_features, estimator)\u001b[0m\n\u001b[1;32m    <a href='file:///home/hampus/.cache/pypoetry/virtualenvs/ml-classify-pJEs0r8S-py3.8/lib/python3.8/site-packages/sklearn/utils/validation.py?line=661'>662</a>\u001b[0m                     has_pd_integer_array \u001b[39m=\u001b[39m \u001b[39mTrue\u001b[39;00m\n\u001b[1;32m    <a href='file:///home/hampus/.cache/pypoetry/virtualenvs/ml-classify-pJEs0r8S-py3.8/lib/python3.8/site-packages/sklearn/utils/validation.py?line=663'>664</a>\u001b[0m     \u001b[39mif\u001b[39;00m \u001b[39mall\u001b[39m(\u001b[39misinstance\u001b[39m(dtype, np\u001b[39m.\u001b[39mdtype) \u001b[39mfor\u001b[39;00m dtype \u001b[39min\u001b[39;00m dtypes_orig):\n\u001b[0;32m--> <a href='file:///home/hampus/.cache/pypoetry/virtualenvs/ml-classify-pJEs0r8S-py3.8/lib/python3.8/site-packages/sklearn/utils/validation.py?line=664'>665</a>\u001b[0m         dtype_orig \u001b[39m=\u001b[39m np\u001b[39m.\u001b[39;49mresult_type(\u001b[39m*\u001b[39;49mdtypes_orig)\n\u001b[1;32m    <a href='file:///home/hampus/.cache/pypoetry/virtualenvs/ml-classify-pJEs0r8S-py3.8/lib/python3.8/site-packages/sklearn/utils/validation.py?line=666'>667</a>\u001b[0m \u001b[39mif\u001b[39;00m dtype_numeric:\n\u001b[1;32m    <a href='file:///home/hampus/.cache/pypoetry/virtualenvs/ml-classify-pJEs0r8S-py3.8/lib/python3.8/site-packages/sklearn/utils/validation.py?line=667'>668</a>\u001b[0m     \u001b[39mif\u001b[39;00m dtype_orig \u001b[39mis\u001b[39;00m \u001b[39mnot\u001b[39;00m \u001b[39mNone\u001b[39;00m \u001b[39mand\u001b[39;00m dtype_orig\u001b[39m.\u001b[39mkind \u001b[39m==\u001b[39m \u001b[39m\"\u001b[39m\u001b[39mO\u001b[39m\u001b[39m\"\u001b[39m:\n\u001b[1;32m    <a href='file:///home/hampus/.cache/pypoetry/virtualenvs/ml-classify-pJEs0r8S-py3.8/lib/python3.8/site-packages/sklearn/utils/validation.py?line=668'>669</a>\u001b[0m         \u001b[39m# if input is object, convert to float.\u001b[39;00m\n",
      "File \u001b[0;32m<__array_function__ internals>:180\u001b[0m, in \u001b[0;36mresult_type\u001b[0;34m(*args, **kwargs)\u001b[0m\n",
      "\u001b[0;31mValueError\u001b[0m: at least one array or dtype is required"
     ]
    }
   ],
   "source": [
    "# Use a dataframe without \"type\", as it is categorical and will not be used to train later\n",
    "# Drop dt and dt_ID as they are not categorical\n",
    "X_chi = df.drop(columns=[\"dt\" ,\"dt_ID\", \"type\", \"dataset\", \"Label\"])\n",
    "y_chi = df[\"Label\"]\n",
    "chi_scores = chi2(X_chi, y_chi)\n",
    "p_values = chi_scores[1]\n",
    "print(p_values)\n",
    "plt.bar(x=X_chi.columns, height=p_values)\n",
    "plt.show()\n",
    "X_chi = None # Release memory\n",
    "y_chi = None"
   ]
  },
  {
   "cell_type": "markdown",
   "id": "f6fb40fc",
   "metadata": {},
   "source": [
    "I believe this means there is not sufficient evidence to disprove the null hypothesis (i.e. that features are independent of class label)."
   ]
  },
  {
   "cell_type": "markdown",
   "id": "5bf66664",
   "metadata": {},
   "source": [
    "We can also check the correlation between the features:"
   ]
  },
  {
   "cell_type": "code",
   "execution_count": null,
   "id": "411bc160",
   "metadata": {},
   "outputs": [
    {
     "data": {
      "image/png": "[encoded data removed]",
      "text/plain": [
       "<Figure size 432x288 with 2 Axes>"
      ]
     },
     "metadata": {
      "needs_background": "light"
     },
     "output_type": "display_data"
    }
   ],
   "source": [
    "# Compute the correlation matrix\n",
    "corr = df.drop(columns=[\"dataset\", \"type\"]).corr()\n",
    "\n",
    "# Drop first row and last column that don't provide information\n",
    "corr.drop(index=corr.index[0], inplace=True)\n",
    "corr.drop(columns=corr.columns[-1], inplace=True)\n",
    "\n",
    "# Generate a mask for the upper triangle but not the diagonal\n",
    "mask = np.triu(np.ones_like(corr, dtype=bool))\n",
    "np.fill_diagonal(mask, False)\n",
    "\n",
    "# Draw the correlation heatmap with the mask\n",
    "def tostr(num):\n",
    "    if isinstance(num, str): return num\n",
    "    if num < 0: return str(num)[:5]\n",
    "    return str(num)[:4]\n",
    "def remove_nocorr(corr):\n",
    "    annot = corr.copy()\n",
    "    annot.where(np.abs(annot) > 0.1, \" \", inplace=True)\n",
    "    annot = annot.applymap(tostr)\n",
    "    return annot\n",
    "annots = remove_nocorr(corr)\n",
    "\n",
    "sns.heatmap(corr, mask=mask, vmin=-1, vmax=1, center=0, annot=annots, annot_kws={\"fontsize\": 8}, fmt=\"s\", square=True)\n",
    "plt.show()"
   ]
  },
  {
   "cell_type": "markdown",
   "id": "f864782c",
   "metadata": {},
   "source": [
    "We will now see if the dataset is imbalanced, and also how we should stratify when creating the training and test sets.<br>\n",
    "Stratification makes sure that there is the same proportion of a class in both the training and test sets.<br>\n",
    "If the whole dataset contains 1% of one class and 99% of another, then the training and test sets will also have that proportion.<br>\n",
    "We begin by looking at the proportion of Normal vs Attack instances:"
   ]
  },
  {
   "cell_type": "code",
   "execution_count": null,
   "id": "4fb897c5",
   "metadata": {},
   "outputs": [
    {
     "data": {
      "image/png": "[encoded data removed]",
      "text/plain": [
       "<Figure size 432x288 with 1 Axes>"
      ]
     },
     "metadata": {
      "needs_background": "light"
     },
     "output_type": "display_data"
    }
   ],
   "source": [
    "plt.bar(x=[\"Normal\", \"Attack\"], height=np.bincount(df[\"Label\"]), color=[\"tab:blue\", \"tab:red\"])\n",
    "plt.show()"
   ]
  },
  {
   "cell_type": "markdown",
   "id": "63d785bb",
   "metadata": {},
   "source": [
    "Next, we look at the proportion of the different types of attacks:"
   ]
  },
  {
   "cell_type": "code",
   "execution_count": null,
   "id": "7084bbcd",
   "metadata": {},
   "outputs": [
    {
     "data": {
      "image/png": "[encoded data removed]",
      "text/plain": [
       "<Figure size 432x288 with 1 Axes>"
      ]
     },
     "metadata": {
      "needs_background": "light"
     },
     "output_type": "display_data"
    }
   ],
   "source": [
    "types, types_count = np.unique(df.loc[df[\"type\"] != \"none\", \"type\"], return_counts=True)\n",
    "plt.bar(x=types, height=types_count, color=[\"tab:green\", \"tab:red\", \"tab:orange\", \"tab:blue\"])\n",
    "plt.show()"
   ]
  },
  {
   "cell_type": "markdown",
   "id": "b163b7ca",
   "metadata": {},
   "source": [
    "It can be seen that there are different amounts of attack types in the dataset.<br>\n",
    "We want the proportion to be the same after splitting into training and testing data."
   ]
  },
  {
   "cell_type": "markdown",
   "id": "330800c6",
   "metadata": {},
   "source": [
    "Visualize the distribution of attack instances by ones counted."
   ]
  },
  {
   "cell_type": "code",
   "execution_count": null,
   "id": "0711fc94",
   "metadata": {},
   "outputs": [
    {
     "data": {
      "image/png": "[encoded data removed]",
      "text/plain": [
       "<Figure size 432x288 with 1 Axes>"
      ]
     },
     "metadata": {
      "needs_background": "light"
     },
     "output_type": "display_data"
    }
   ],
   "source": [
    "# d_temp = pd.concat([X_train, y_train], axis=\"columns\")\n",
    "size = len(df.loc[df[\"Label\"] == 1].index)\n",
    "ones_prob = [[], [], []]\n",
    "# zeros_prob = []\n",
    "for i in range(65):\n",
    "    # zeros_prob.append(len(d_temp.loc[(d_temp[\"Label\"] == 0) & (d_temp[\"ones\"] == i)].index) / size)\n",
    "\n",
    "    prob_flood = len(df.loc[(df[\"Label\"] == 1) & (df[\"ones\"] == i) & (df[\"type\"] == \"masq\")].index) / size\n",
    "    prob_fuzz = len(df.loc[(df[\"Label\"] == 1) & (df[\"ones\"] == i) & (df[\"type\"] == \"fuzz\")].index) / size\n",
    "    prob_fabr = len(df.loc[(df[\"Label\"] == 1) & (df[\"ones\"] == i) & (df[\"type\"] == \"fabr\")].index) / size\n",
    "    ones_prob[0].append(prob_flood)\n",
    "    ones_prob[1].append(prob_fuzz)\n",
    "    ones_prob[2].append(prob_fabr)\n",
    "\n",
    "\n",
    "# zeros_prob = pd.Series(zeros_prob)\n",
    "ones_prob = pd.Series(ones_prob)\n",
    "# sns.lineplot(data=ones_prob)\n",
    "\n",
    "# plt.bar(x=range(0, 65), height=zeros_prob)\n",
    "plt.bar(x=range(0, 65), height=ones_prob[0], color=\"tab:red\")\n",
    "plt.bar(x=range(0, 65), height=ones_prob[1], color=\"tab:green\")\n",
    "plt.bar(x=range(0, 65), height=ones_prob[2], color=\"tab:orange\")\n",
    "plt.legend(labels=[\"Flooding\", \"Fuzzing\", \"Fabrication\"])\n",
    "plt.xlabel(\"Number of ones counted\")\n",
    "plt.ylabel(\"% of attack observations (Label = 1)\")\n",
    "plt.show()"
   ]
  },
  {
   "cell_type": "markdown",
   "id": "4d8d56e7",
   "metadata": {},
   "source": [
    "It shows that in the flooding attack, there is never any ones, and it makes up almost 50% of all attacks.<br>\n",
    "It also shows that the fuzzing attack is randomly generating payloads (as is stated in the paper as well), and since there is a higher chance that a payload will have a one count of 32 (by binomial distribution) the distribution looks the way it does.<br>\n",
    "It shows that the fabrication attacks have 20 ones, 29 ones or randomly chose (it is the same as fuzzing, just smaller so is not seen well on the graph, but it is seen if plotted separately.).<br>\n",
    "It shows that 50% of the attacks contain no ones in the payload, so you will catch many attacks going just on that!\n",
    "Moreover, these attacks have clear patterns by how many ones they contain, as they are either a Specific value (0, 20 or 29).. or... binomially distributed."
   ]
  },
  {
   "cell_type": "markdown",
   "id": "bbcce076",
   "metadata": {},
   "source": [
    "Create the training and test data (with stratification on the type of attack)"
   ]
  },
  {
   "cell_type": "code",
   "execution_count": null,
   "id": "f7d2c415",
   "metadata": {},
   "outputs": [],
   "source": [
    "X_train = df.drop(columns=\"type\")\n",
    "y_train = df[\"type\"]\n",
    "\n",
    "df = None # Release memory\n",
    "\n",
    "# Split dataset into training and test data, stratify by the type of attack\n",
    "X_train, X_test, y_train, y_test = train_test_split(X_train, y_train, test_size=0.3, random_state=0, shuffle=True, stratify=y_train)\n",
    "\n",
    "# # Under-sample on type\n",
    "# rus = RandomUnderSampler(random_state=0)\n",
    "# X_train, y_train = rus.fit_resample(X_train, y_train)\n",
    "\n",
    "# Use feature \"Label\" as classification label\n",
    "d_temp: pd.DataFrame = pd.concat([X_train, y_train], axis=\"columns\")\n",
    "X_train, y_train = d_temp.drop(columns=\"Label\"), d_temp[\"Label\"]\n",
    "d_temp: pd.DataFrame = pd.concat([X_test, y_test], axis=\"columns\")\n",
    "X_test, y_test = d_temp.drop(columns=\"Label\"), d_temp[\"Label\"]\n",
    "d_temp = None # Release memory"
   ]
  },
  {
   "cell_type": "markdown",
   "id": "7d3e38bb",
   "metadata": {},
   "source": [
    "Now, we can look at the proportions again (in the Training data):"
   ]
  },
  {
   "cell_type": "code",
   "execution_count": null,
   "id": "140f4e69",
   "metadata": {},
   "outputs": [
    {
     "data": {
      "image/png": "[encoded data removed]",
      "text/plain": [
       "<Figure size 432x288 with 1 Axes>"
      ]
     },
     "metadata": {
      "needs_background": "light"
     },
     "output_type": "display_data"
    }
   ],
   "source": [
    "types, types_count = np.unique(X_train.loc[X_train[\"type\"] != \"none\", \"type\"], return_counts=True)\n",
    "plt.bar(x=types, height=types_count, color=[\"tab:orange\", \"tab:red\", \"tab:green\", \"tab:blue\"])\n",
    "plt.show()"
   ]
  },
  {
   "cell_type": "markdown",
   "id": "00a97c37",
   "metadata": {},
   "source": [
    "Under-sample the training set by the majority class (no attack, 0). The test set can be left imbalanced, as real world data can also be imbalanced."
   ]
  },
  {
   "cell_type": "code",
   "execution_count": null,
   "id": "54d6cef7",
   "metadata": {},
   "outputs": [
    {
     "name": "stdout",
     "output_type": "stream",
     "text": [
      "Labels\t\tTraining\tTesting\n",
      "Normal\t\t128320\t\t465758\n",
      "Attack\t\t128320\t\t54994\n"
     ]
    }
   ],
   "source": [
    "rus = RandomUnderSampler(random_state=0)\n",
    "X_train, y_train = rus.fit_resample(X_train, y_train)\n",
    "bintr = np.bincount(y_train)\n",
    "binte = np.bincount(y_test)\n",
    "print(f\"Labels\\t\\tTraining\\tTesting\\nNormal\\t\\t{bintr[0]}\\t\\t{binte[0]}\\nAttack\\t\\t{bintr[1]}\\t\\t{binte[1]}\")"
   ]
  }
 ],
 "metadata": {
  "kernelspec": {
   "display_name": "Python 3",
   "language": "python",
   "name": "python3"
  },
  "language_info": {
   "codemirror_mode": {
    "name": "ipython",
    "version": 3
   },
   "file_extension": ".py",
   "mimetype": "text/x-python",
   "name": "python",
   "nbconvert_exporter": "python",
   "pygments_lexer": "ipython3",
   "version": "3.8.10"
  }
 },
 "nbformat": 4,
 "nbformat_minor": 5
}
